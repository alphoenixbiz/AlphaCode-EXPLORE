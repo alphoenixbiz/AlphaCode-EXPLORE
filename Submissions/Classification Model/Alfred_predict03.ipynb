{
  "nbformat": 4,
  "nbformat_minor": 0,
  "metadata": {
    "kernelspec": {
      "display_name": "Python 3",
      "language": "python",
      "name": "python3"
    },
    "language_info": {
      "codemirror_mode": {
        "name": "ipython",
        "version": 3
      },
      "file_extension": ".py",
      "mimetype": "text/x-python",
      "name": "python",
      "nbconvert_exporter": "python",
      "pygments_lexer": "ipython3",
      "version": "3.7.4"
    },
    "colab": {
      "name": "Alfred_predict03.ipynb",
      "provenance": [],
      "collapsed_sections": [],
      "include_colab_link": true
    }
  },
  "cells": [
    {
      "cell_type": "markdown",
      "metadata": {
        "id": "view-in-github",
        "colab_type": "text"
      },
      "source": [
        "<a href=\"https://colab.research.google.com/github/alphoenixbiz/AlphaCode-EXPLORE/blob/master/Submissions/Classification%20Model/Alfred_predict03.ipynb\" target=\"_parent\"><img src=\"https://colab.research.google.com/assets/colab-badge.svg\" alt=\"Open In Colab\"/></a>"
      ]
    },
    {
      "cell_type": "code",
      "metadata": {
        "id": "QsjAEOQPjPOE",
        "colab_type": "code",
        "colab": {}
      },
      "source": [
        "import numpy as np\n",
        "import pandas as pd\n",
        "from matplotlib import pyplot as plt\n",
        "import datetime\n",
        "import seaborn as sns\n",
        "import pickle\n",
        "from sklearn.metrics import accuracy_score, f1_score\n",
        "from sklearn.metrics import precision_score, recall_score\n",
        "from sklearn.model_selection import train_test_split\n",
        "from sklearn import metrics\n",
        "from sklearn.preprocessing import StandardScaler\n",
        "from sklearn.preprocessing import LabelEncoder\n",
        "from sklearn.metrics import classification_report\n",
        "%matplotlib inline\n",
        "from sklearn.utils import resample\n",
        "import re\n",
        "import nltk\n",
        "from sklearn.linear_model import LogisticRegressionCV\n",
        "from sklearn.multiclass import OneVsRestClassifier\n",
        "from sklearn.feature_extraction.text import TfidfVectorizer\n",
        "from sklearn.feature_extraction.text import CountVectorizer\n",
        "from sklearn.metrics import mean_squared_error, r2_score"
      ],
      "execution_count": 0,
      "outputs": []
    },
    {
      "cell_type": "markdown",
      "metadata": {
        "id": "9ZQMoI8ZjPOK",
        "colab_type": "text"
      },
      "source": [
        "### Install SQL Alchemy"
      ]
    },
    {
      "cell_type": "code",
      "metadata": {
        "id": "XGIeNU8rjPOL",
        "colab_type": "code",
        "colab": {
          "base_uri": "https://localhost:8080/",
          "height": 51
        },
        "outputId": "6d2da64a-1b8c-4f09-93c5-d5f126d5ef6c"
      },
      "source": [
        "!pip install sqlalchemy\n",
        "!pip install pymssql"
      ],
      "execution_count": 41,
      "outputs": [
        {
          "output_type": "stream",
          "text": [
            "Requirement already satisfied: sqlalchemy in /usr/local/lib/python3.6/dist-packages (1.3.13)\n",
            "Requirement already satisfied: pymssql in /usr/local/lib/python3.6/dist-packages (2.1.4)\n"
          ],
          "name": "stdout"
        }
      ]
    },
    {
      "cell_type": "markdown",
      "metadata": {
        "id": "GtF3e1b_jPOQ",
        "colab_type": "text"
      },
      "source": [
        "### Import packages"
      ]
    },
    {
      "cell_type": "code",
      "metadata": {
        "id": "Es_nLyyDjPOR",
        "colab_type": "code",
        "colab": {}
      },
      "source": [
        "import sqlalchemy as sa\n",
        "import pandas as pd\n",
        "from sqlalchemy import create_engine"
      ],
      "execution_count": 0,
      "outputs": []
    },
    {
      "cell_type": "markdown",
      "metadata": {
        "id": "DMnNIYjZjPOU",
        "colab_type": "text"
      },
      "source": [
        "### Create a connection to our database"
      ]
    },
    {
      "cell_type": "code",
      "metadata": {
        "id": "-K06tSuEjPOV",
        "colab_type": "code",
        "colab": {}
      },
      "source": [
        "Username = 'admin'\n",
        "Password = 'amazing_people'\n",
        "Host = 'alphacode-explore.ccwgqdqrrmvt.eu-west-1.rds.amazonaws.com'\n",
        "Port = '1433'\n",
        "Database = 'Alfred'"
      ],
      "execution_count": 0,
      "outputs": []
    },
    {
      "cell_type": "markdown",
      "metadata": {
        "id": "YKh6S4sxjPOX",
        "colab_type": "text"
      },
      "source": [
        "### Create connection"
      ]
    },
    {
      "cell_type": "code",
      "metadata": {
        "id": "mzwv9qXEjPOY",
        "colab_type": "code",
        "colab": {}
      },
      "source": [
        "connection = create_engine(\n",
        "    'mssql+pymssql://' +\n",
        "    Username + ':' + Password + '@' + Host + ':' + Port + '/' + Database\n",
        ")"
      ],
      "execution_count": 0,
      "outputs": []
    },
    {
      "cell_type": "markdown",
      "metadata": {
        "id": "wIJ73mUBjPOb",
        "colab_type": "text"
      },
      "source": [
        "### What is the sql query we want to perform?"
      ]
    },
    {
      "cell_type": "code",
      "metadata": {
        "id": "exrRFZIajPOd",
        "colab_type": "code",
        "colab": {}
      },
      "source": [
        "sql_query1 = \"USE Alfred Select * from Bank_Statments\""
      ],
      "execution_count": 0,
      "outputs": []
    },
    {
      "cell_type": "markdown",
      "metadata": {
        "id": "0jVj_yP2jPOi",
        "colab_type": "text"
      },
      "source": [
        " ### Using pandas we now take our connection and our query to create a dataframe"
      ]
    },
    {
      "cell_type": "code",
      "metadata": {
        "id": "WjKKphbRjPOj",
        "colab_type": "code",
        "colab": {
          "base_uri": "https://localhost:8080/",
          "height": 204
        },
        "outputId": "60cc38b6-ecbc-444f-b2b9-14898fd16c3d"
      },
      "source": [
        "#import the training data\n",
        "train = pd.read_sql_query(sql_query1, connection)\n",
        "train.head()"
      ],
      "execution_count": 46,
      "outputs": [
        {
          "output_type": "execute_result",
          "data": {
            "text/html": [
              "<div>\n",
              "<style scoped>\n",
              "    .dataframe tbody tr th:only-of-type {\n",
              "        vertical-align: middle;\n",
              "    }\n",
              "\n",
              "    .dataframe tbody tr th {\n",
              "        vertical-align: top;\n",
              "    }\n",
              "\n",
              "    .dataframe thead th {\n",
              "        text-align: right;\n",
              "    }\n",
              "</style>\n",
              "<table border=\"1\" class=\"dataframe\">\n",
              "  <thead>\n",
              "    <tr style=\"text-align: right;\">\n",
              "      <th></th>\n",
              "      <th>Transaction_Date</th>\n",
              "      <th>Posting_Date</th>\n",
              "      <th>Description</th>\n",
              "      <th>Debits</th>\n",
              "      <th>Credits</th>\n",
              "      <th>Category</th>\n",
              "      <th>column7</th>\n",
              "      <th>CATEGORIES</th>\n",
              "      <th>column9</th>\n",
              "    </tr>\n",
              "  </thead>\n",
              "  <tbody>\n",
              "    <tr>\n",
              "      <th>0</th>\n",
              "      <td>2020-02-10</td>\n",
              "      <td>2020-02-10</td>\n",
              "      <td>MTN DATA BUNDLES</td>\n",
              "      <td>499</td>\n",
              "      <td>None</td>\n",
              "      <td>COMMUNICATION</td>\n",
              "      <td>None</td>\n",
              "      <td>HOME</td>\n",
              "      <td>None</td>\n",
              "    </tr>\n",
              "    <tr>\n",
              "      <th>1</th>\n",
              "      <td>2020-02-08</td>\n",
              "      <td>2020-02-09</td>\n",
              "      <td>APPLE.COM/BILL CORK IE</td>\n",
              "      <td>74.99</td>\n",
              "      <td>None</td>\n",
              "      <td>ENTERTAINMENT &amp; EAT OUT</td>\n",
              "      <td>None</td>\n",
              "      <td>FOOD</td>\n",
              "      <td>None</td>\n",
              "    </tr>\n",
              "    <tr>\n",
              "      <th>2</th>\n",
              "      <td>2020-02-07</td>\n",
              "      <td>2020-02-09</td>\n",
              "      <td>PARKHURST HARDWARE    RE PARKHURST ZA</td>\n",
              "      <td>75</td>\n",
              "      <td>None</td>\n",
              "      <td>HOME</td>\n",
              "      <td>None</td>\n",
              "      <td>TRANSPORT</td>\n",
              "      <td>None</td>\n",
              "    </tr>\n",
              "    <tr>\n",
              "      <th>3</th>\n",
              "      <td>2020-02-07</td>\n",
              "      <td>2020-02-08</td>\n",
              "      <td>SEATTLE RENNIES HOUSE JOHANNESBURG ZA</td>\n",
              "      <td>31.5</td>\n",
              "      <td>None</td>\n",
              "      <td>ENTERTAINMENT &amp; EAT OUT</td>\n",
              "      <td>None</td>\n",
              "      <td>LIFE AND HEALTH</td>\n",
              "      <td>None</td>\n",
              "    </tr>\n",
              "    <tr>\n",
              "      <th>4</th>\n",
              "      <td>2020-02-07</td>\n",
              "      <td>2020-02-08</td>\n",
              "      <td>FLM RENNIE HOUSE EATER BRAAMFONTEIN ZA</td>\n",
              "      <td>29.98</td>\n",
              "      <td>None</td>\n",
              "      <td>ENTERTAINMENT &amp; EAT OUT</td>\n",
              "      <td>None</td>\n",
              "      <td>COMMUNICATION</td>\n",
              "      <td>None</td>\n",
              "    </tr>\n",
              "  </tbody>\n",
              "</table>\n",
              "</div>"
            ],
            "text/plain": [
              "  Transaction_Date Posting_Date  ...       CATEGORIES column9\n",
              "0       2020-02-10   2020-02-10  ...             HOME    None\n",
              "1       2020-02-08   2020-02-09  ...             FOOD    None\n",
              "2       2020-02-07   2020-02-09  ...        TRANSPORT    None\n",
              "3       2020-02-07   2020-02-08  ...  LIFE AND HEALTH    None\n",
              "4       2020-02-07   2020-02-08  ...    COMMUNICATION    None\n",
              "\n",
              "[5 rows x 9 columns]"
            ]
          },
          "metadata": {
            "tags": []
          },
          "execution_count": 46
        }
      ]
    },
    {
      "cell_type": "code",
      "metadata": {
        "id": "1mI7IraaOYT5",
        "colab_type": "code",
        "colab": {}
      },
      "source": [
        "# #import the test data\n",
        "# test = pd.read_sql_query(sql_query2, connection)\n",
        "# test.head()"
      ],
      "execution_count": 0,
      "outputs": []
    },
    {
      "cell_type": "markdown",
      "metadata": {
        "id": "pUvJ7_9bjPOp",
        "colab_type": "text"
      },
      "source": [
        "# EDA"
      ]
    },
    {
      "cell_type": "code",
      "metadata": {
        "id": "cQVQ6xk-hLPD",
        "colab_type": "code",
        "colab": {
          "base_uri": "https://localhost:8080/",
          "height": 119
        },
        "outputId": "3571762a-c42c-4f7c-cfde-29956f9cdd31"
      },
      "source": [
        "# get the target variable\n",
        "# create our target variables\n",
        "y=train.Category.apply(lambda x: x.lower())\n",
        "y.head()\n"
      ],
      "execution_count": 48,
      "outputs": [
        {
          "output_type": "execute_result",
          "data": {
            "text/plain": [
              "0              communication\n",
              "1    entertainment & eat out\n",
              "2                       home\n",
              "3    entertainment & eat out\n",
              "4    entertainment & eat out\n",
              "Name: Category, dtype: object"
            ]
          },
          "metadata": {
            "tags": []
          },
          "execution_count": 48
        }
      ]
    },
    {
      "cell_type": "code",
      "metadata": {
        "id": "838bUiYi_y93",
        "colab_type": "code",
        "colab": {}
      },
      "source": [
        "features = train.Description.values\n",
        "features2 = train.Description.values"
      ],
      "execution_count": 0,
      "outputs": []
    },
    {
      "cell_type": "code",
      "metadata": {
        "id": "zTrXsvlnCpHV",
        "colab_type": "code",
        "colab": {
          "base_uri": "https://localhost:8080/",
          "height": 85
        },
        "outputId": "aa4bc296-37a9-442b-fb0b-edd95cda2e07"
      },
      "source": [
        "features[:5]"
      ],
      "execution_count": 50,
      "outputs": [
        {
          "output_type": "execute_result",
          "data": {
            "text/plain": [
              "array(['MTN DATA BUNDLES', 'APPLE.COM/BILL CORK IE',\n",
              "       'PARKHURST HARDWARE    RE PARKHURST ZA',\n",
              "       'SEATTLE RENNIES HOUSE JOHANNESBURG ZA',\n",
              "       'FLM RENNIE HOUSE EATER BRAAMFONTEIN ZA'], dtype=object)"
            ]
          },
          "metadata": {
            "tags": []
          },
          "execution_count": 50
        }
      ]
    },
    {
      "cell_type": "markdown",
      "metadata": {
        "id": "a7FQ4-JPA9Qt",
        "colab_type": "text"
      },
      "source": [
        "# Text to Features"
      ]
    },
    {
      "cell_type": "code",
      "metadata": {
        "id": "pRpPdvYxEo8o",
        "colab_type": "code",
        "colab": {
          "base_uri": "https://localhost:8080/",
          "height": 102
        },
        "outputId": "d7e4111c-e1a1-4ddc-d3e1-5a72632e4baf"
      },
      "source": [
        "nltk.download('stopwords')\n",
        "nltk.download('wordnet')"
      ],
      "execution_count": 51,
      "outputs": [
        {
          "output_type": "stream",
          "text": [
            "[nltk_data] Downloading package stopwords to /root/nltk_data...\n",
            "[nltk_data]   Package stopwords is already up-to-date!\n",
            "[nltk_data] Downloading package wordnet to /root/nltk_data...\n",
            "[nltk_data]   Package wordnet is already up-to-date!\n"
          ],
          "name": "stdout"
        },
        {
          "output_type": "execute_result",
          "data": {
            "text/plain": [
              "True"
            ]
          },
          "metadata": {
            "tags": []
          },
          "execution_count": 51
        }
      ]
    },
    {
      "cell_type": "code",
      "metadata": {
        "id": "YDTvzwcqBB0G",
        "colab_type": "code",
        "colab": {}
      },
      "source": [
        "from nltk.stem.wordnet import WordNetLemmatizer \n",
        "from nltk.stem.porter import PorterStemmer\n",
        "from nltk.corpus import stopwords\n",
        "\n",
        "lem = WordNetLemmatizer()\n",
        "# ps = PorterStemmer()\n",
        "corpus =[]\n",
        "# cleaning text\n",
        "for i in range(0,len(features)):\n",
        "\n",
        "    item = re.sub('[^a-zA-Z]', ' ',str(features)) \n",
        "    item = item.lower()\n",
        "    item = item.split()\n",
        "    stop_wrds = set(stopwords.words('english'))\n",
        "    item = [lem.lemmatize(word, \"v\") for word in item if not word in stop_wrds]\n",
        "    item = ' '.join(item)\n",
        "    corpus.append(item)\n",
        "\n",
        "new_features = corpus"
      ],
      "execution_count": 0,
      "outputs": []
    },
    {
      "cell_type": "code",
      "metadata": {
        "id": "BTudZM1GV8TK",
        "colab_type": "code",
        "outputId": "b4dc7b5f-89ce-4f61-c6ca-18b6844b032b",
        "colab": {
          "base_uri": "https://localhost:8080/",
          "height": 122
        }
      },
      "source": [
        "new_features[:5]"
      ],
      "execution_count": 53,
      "outputs": [
        {
          "output_type": "execute_result",
          "data": {
            "text/plain": [
              "['mtn data bundle apple com bill cork ie parkhurst hardware parkhurst za seattle rennies house johannesburg za flm rennie house eater braamfontein za flm rennie house eater braamfontein za flm rennie house eater braamfontein za flm rennie house eater braamfontein za seattle rennies house johannesburg za flm rennie house eater braamfontein za property rondebosch za seattle rennies house johannesburg za flm rennie house eater braamfontein za flm rennie house eater braamfontein za investecpb apple com bill itunes com ie bloom coffee studio cape town za seattle rennies house johannesburg za flm rennie house eater braamfontein za investecpb admed admed taxassist netcash seattle rennies house johannesburg za flm rennie house eater braamfontein za flm rennie house eater braamfontein za bolton rd collection parkview za virgin act rent levy mtn sp disc prem discovery vir atl vir atl gb amzn digital ch w kv us foundry cafe parktown nort za seattle rennies house johannesburg za flm rennie house eater braamfontein za moregolf pmg curr outsurance ot fz seattle rennies house johannesburg za atmsol termloc fu bruma za rent rent merchant place sandton za jetline hydepark johannesburg za fego cafe rmb sandton za seattle rennies house johannesburg za absa bank neom long rent motherland coffee compan sandton za motherland coffee compan sandton za pool team craighall craighall za bloom coffee studio cape town za bloom coffee studio cape town za seattle rennies house johannesburg za seattle rennies house johannesburg za flm rennie house eater braamfontein za budget vap jan prem amzn digital l ci z us flm rennie house eater braamfontein za intellepark rosebank za mtn data bundle tshifhiwa rent minty sasol rosebank parkwood za seattle rennies house johannesburg za woolworths parktown qua johannesburg za hours vet clinic parktown nort za uber sa hel jul uber sa hel jul shell champion uber sa gauteng zaf h checker bram fischer bolt eu jul bolt eu jul vod prepay fee pre pay top vod prepay fee pre pay top intl trans f intl trans f reblake wesbank fi wesbank fi nsiki karen steelsmith plan ib transfer liquorshop bram fische theunlimited aup fee e comm speccreditfevertree telkommobi overdraft service fee fix monthly fee iwyze prm sbsanaedo uber sa hel jul uber sa hel jul ucount uber sa hel jul c bp ontdekke aug uber sa hel jul bolt eu jul bolt eu jul uber sa hel jul uber sa hel jul intl trans f intl trans f fee bank atm xai xai lounge c sorbet nail aug bolt eu aug uber sa hel aug bp hans strydom intl trans f u takealot co aug c melville co aug uber sa hel aug u payfast coo aug uber sa hel aug uber sa hel aug uber sa hel aug uber sa hel aug uber sa hel aug uber sa hel aug uber sa hel aug c xai xai lou aug uber sa hel aug uber sa hel aug c click cant aug uber sa hel aug uber sa hel aug c hell kitc aug uber sa hel aug uber sa hel aug uber sa hel aug uber sa hel aug uber sa hel aug bolt eu aug checker bram fischer intl trans f vod prepay fee pre pay top uber sa hel aug uber sa hel aug bolt eu aug uber sa hel aug uber sa hel aug uber sa hel aug vod prepay fee pre pay top intl trans f uber sa gauteng zaf h pnp exp ha randburg zaf h uber sa hel aug u takealot aug uber sa gauteng zaf h uber sa gauteng zaf h uber sa hel aug uber sa hel aug uber sa hel aug uber sa hel aug uber sa hel aug uber sa gauteng zaf h fee e comm c kbs coffee aug fee e comm fee e comm c caltex fact aug uber sa gauteng zaf h fee e comm uber sa gauteng zaf h uber sa gauteng zaf h woolworths aug checker b sb zaf h checker b sb zaf h checker b sb zaf h c caltex fact aug c caltex facto fee e comm pnp exp linden park checker bram fischer fee e comm fee e comm u payfast aug pnp express h aug vod prepay fee pre pay top smokers deli melville vod prepay fee pre pay top overdraft interest bolt eu tallinn zaf h bolt eu tallinn zaf h uber sa hel aug vod prepay fee pre pay top vod prepay fee pre pay top vod prepay fee pre pay top wesbank fi bolt eu aug pnp express h aug c bp hans str aug nsiki vod prepay fee pre pay top karen steelsmith liquor city melville moyo zoo lake pty lt liquorshop bram fische theunlimited aup intl trans f vod prepay fee pre pay top wesbank fi bolt eu aug bolt eu aug uber sa hel aug bolt eu aug bolt eu aug speccreditfevertree intl trans f intl trans f intl trans f intl trans f telkommobi overdraft service fee fix monthly fee momma liquorshop bram fische iwyze prm sbsanaedo uber sa hel aug liquorshop br aug uber sa hel aug ucount netflix com aug uber sa hel aug uber sa hel aug total ra william nicol intl trans f u takealot co sep uber sa hel sep bolt eu sep fee e comm intl trans f u payfast coo sep uber sa hel sep pnp exp ha randburg zaf h pnp express h sep vod prepay fee pre pay top uber sa help sep c chamdor ser sep uber sa help sep vod prepay fee pre pay top uber sa hel sep uber sa hel sep vod prepay fee pre pay top c eleven fa sep uber eat sep vod prepay fee pre pay top uber sa hel sep vod prepay fee pre pay top uber sa hel sep uber sa hel sep six restau johannesburg zaf uber sa gauteng zaf h uber sa hel sep bolt eu sep uber sa gauteng zaf h intl trans f uber sa hel sep uber sa hel sep c six restaur sep spotifyza stockholm sen h uber sa hel sep pnp express h sep spotifyza stockholm sen h spotifyza stockholm sen h overdraft interest excess interest checker bram fischer uber sa hel sep reblake wesbank fi wesbank fi theunlimited aup uber sa hel sep spotifyza sep karen steelsmith vod prepay fee pre pay top speccreditfevertree intl trans f telkommobi overdraft service fee fix monthly fee sbsanaedo iwyze prm uber sa hel sep netflix com sep uber sa hel sep baby momma intl trans f ucount c caltex fact oct uber sa hel sep uber sa hel sep uber sa hel sep uber sa hel sep c dukes burge sep uber sa hel sep c ballbreaker sep c pg glass fo sep claassen claassen claassen claassen train uber sa hel sep uber sa hel sep uber sa hel oct uber sa hel oct u payfast coo oct uber sa hel oct uber sa hel oct uber sa hel oct fee bank atm uber sa hel oct uber sa hel oct uber sa hel oct uber sa hel oct c cltx ruhama oct uber sa hel oct uber sa hel oct uber sa hel oct sasol randburg uber sa hel oct uber sa hel oct c caltex wate oct c bp hans str oct uber sa hel oct uber sa hel oct pnp express h oct uber sa hel oct uber sa hel oct uber sa hel oct nsiki uber sa hel oct uber sa hel oct uber sa hel oct uber sa hel oct checker bram fischer liquorshop bram fische vod prepay fee pre pay top c caltex fair oct uber sa hel oct uber sa hel oct uber sa hel oct uber sa hel oct uber sa hel oct uber sa hel oct c kfc keywest oct uber sa hel oct spotifyza stockholm sen h fee pos decline insuff fund uber sa gauteng zaf h uber sa hel oct uber sa gauteng zaf h uber sa hel oct spotifyza stockholm sen h c bp hans str oct uber sa hel oct uber sa hel oct uber sa hel oct vod prepay fee pre pay top overdraft interest excess interest c caltex fair oct spotifyza oct intl trans f c bp hans str oct c caltex fair oct c engen paard oct baby pnp express h oct wesbank fi reblake wesbank fi uber sa help oct mr food oct c engen paard oct karen landlord vee claassen claassen management checker bram fischer engen william nicol telkommobi theunlimited aup speccreditfevertree overdraft service fee fix monthly fee karen landlord claassen claassen trainin iwyze prm c checker br oct netflix com oct c pnp liq fer oct uber sa hel oct ucount intl trans f uber sa hel oct uber sa hel oct uber sa hel nov uber sa hel oct flm rennie ho nov flm rennie house eater r checker checker bram fischer uber sa hel nov c kitcheners nov uber sa hel nov c hell kitc nov uber sa hel nov c kitcheners nov uber sa hel nov pnp express h nov bolt eu ou bolt eu ou pnp express l nov liquorshop br nov uber sa hel nov intl trans f intl trans f uber sa hel nov c bp ridge wo nov uber sa hel nov mr food nov r pnp fam liquorshop br nov bolt eu ou pnp express h nov c liquor city nov intl trans f bolt eu ou nov c sasol n n nov intl trans f uber sa hel nov u payfast coo nov c engen paard nov c postnet bra nov flm rennie house eater flm rennie house eater uber sa gauteng zaf h bolt eu nov rsmio resume nov bolt eu nov uberbv help uber co nld h uber sa gauteng zaf h intl trans f intl trans f intl trans f c postnet bra nov uber sa hel nov vod prepay fee pre pay top uber sa hel nov spotifyza nov uber sa hel nov woolworths nov bolt eu nov vod prepay fee pre pay top intl trans f intl trans f mr food z nov uber sa hel nov c engen taher nov bolt eu nov vod prepay fee pre pay top intl trans f bolt eu nov rsmio resume nov bolt eu nov checker bram fischer uber sa gauteng zaf h intl trans f intl trans f intl trans f liquorshop bram fische c liquorshop nov c liquorshop nov bolt eu tallinn zaf h bolt eu tallinn zaf h uber sa gauteng zaf h uberbv help uber co nld h bolt eu tallinn zaf h mr price fern nov pnp liq fernd nov c liquorshop nov flm rennie house eater overdraft interest excess interest bolt eu nov bolt eu nov vod prepay fee pre pay top doppio zer cradlestone zaf intl trans f intl trans f bolt eu nov seattle rennie house intl trans f bolt eu nov uber sa hel nov c sasol r w nov liquorshop bram fische flm rennie house eater intl trans f wesbank fi c doppio zero nov c caltex welt nov bolt eu nov theunlimited aup intl trans f cafe caltex motorserve hell kitchen hell kitchen xai xai lounge wesbank fi bolt eu nov c studio moma nov checker fern nov c checker fe nov bolt eu nov uber sa hel nov top robindale karen landlord r checker vod prepay fee pre pay top intl trans f telkommobi speccreditfevertree intl trans f overdraft service fee fix monthly fee karen landlord magalies vulstasie top magalies spar magalies supr spa sbsanaedo iwyze prm bolt eu nov c bp luipaard nov bolt eu nov bolt eu nov bolt eu nov bolt eu nov c loco liquor nov uber sa hel nov netflix com nov c codf nov pnp exp linden park seattle rennie house intl trans f intl trans f ucount intl trans f intl trans f intl trans f intl trans f uber sa hel nov uber sa hel nov bolt eu dec c caltex fair nov uber sa hel nov c shell parkh nov bolt eu dec uber sa hel nov uber sa hel nov baby intl trans f intl trans f uber sa hel dec uber sa hel dec bolt eu dec bolt eu dec l flysafair dec uber sa hel dec uber sa hel dec uber sa hel dec liquorshop br nov u takealot dec intl trans f intl trans f bolt eu dec mango airli dec u takealot dec bolt eu dec fee bank atm intl trans f intl trans f loco liquore dec liquorshop br dec frg nbastore dec atm cash decline bal provide intl trans f hell kitchen c h clearwa dec spar robindal dec c cltx water dec bolt eu dec caltex fairla dec khaliques oriental pla intl trans f bolt eu dec uber sa hel dec bolt eu tallinn zaf h bolt eu tallinn zaf h intl trans f bolt eu dec bolt eu dec uber sa hel dec uberbv help uber co nld h bolt eu tallinn zaf h payfast eft intl trans f intl trans f rental avis rent johannesburg zaf avis rent johannesburg zaf game gateway circus circus shell uc south bind vod prepay fee pre pay top san lameer country wesbnknaed uber sa hel dec uberbv help uber co nld h spotifyza stockholm sen h theunlimited aup vod prepay fee pre pay top vod prepay fee pre pay top dr mokitimi vee budget spotifyza dec vod prepay fee pre pay top vod prepay fee pre pay top intl trans f baby fee bank atm rsmio resume dec c diner e dec l flysafair dec intl trans f c studio moma dec c caltex fact dec c caltex fair dec woolworths dec c caltex fair dec c bp luipaard dec fee pre pay top fee bank atm intl trans f uber sa gauteng zaf h pnp liq fernd dec c total ra dec hertz rent dec c pnp family dec uber sa hel dec c sweet treat dec c h roseban dec mcd victory p dec uber sa gauteng zaf h fee pos decline insuff fund uber sa gauteng zaf h overdraft interest excess interest c bms intersi dec c foodlovers dec uber sa hel dec c decofurn sp dec c pearl vill dec c engen fairy dec c engen hippo dec c city late dec pnp hpr prosp dec c rhapsodys l dec woolworths dec hertz rent dec c pnp hpr pro dec c engen hippo dec wesbank fi game dionw telkommobi speccreditfevertree overdraft service fee fix monthly fee nokwanda sifiso iwyze prm sbsanaedo netflix com dec sasol ferndale sasol ferndale sasol ferndale checker bram fischer ucount intl trans f bootlegger ferndale pnp express l jan uber sa hel jan bolt eu jan u payfast coo jan intl trans f checker bram jan bolt eu jan intl trans f whc ta dept surger whc department surgery bolt eu jan intl trans f bolt eu jan dischem park station intl trans f c liquor city jan c caltex fair jan bolt eu jan c us powerspo jan intl trans f uber sa hel jan vod prepay fee pre pay top vod prepay fee pre pay top checker bram jan c engen conra jan c engen paard jan mr food z jan vod prepay fee pre pay top seattle rennie house c caltex fair jan spotifyza stockholm sen h liquorshop br jan vod prepay fee pre pay top vod prepay fee pre pay top c total ra jan vod prepay fee pre pay top flm rennie house eater spotifyza stockholm sen h c wimpy key w jan c engen prote jan spotifyza stockholm sen h overdraft interest excess interest bank app prepay purchase vodacom sms notification fee sms notification fee pick n pay birchleigh card sms notification fee sms notification fee pick n pay birchleigh card purchase cash r pep store card till cash withdrawal fee gautrain rhodesfield gauteng card interest receive sms notification fee monthly account admin fee click birchleigh card engen kempton park card online purchase computicket victory park card sms notification fee purchase cash r pick n pay rustenburg card till cash withdrawal fee woolworths rustenburg card flm rustenburg platinu rustenburg card flm rustenburg platinu rustenburg card sms notification fee spar rustenburg card bank app prepay purchase huang mei import e rustenberg card purchase cash r spar rustenburg card till cash withdrawal fee interest receive monthly account admin fee online purchase amzn digital np h card sms notification fee atm cash withdrawal rustenburg thlabane card atm cash withdrawal fee sms notification fee bank app prepay purchase ta flm rennie house eater braamfontein card bank app prepay purchase ta gautrain rhodesfield gauteng card purchase cash r pep store kempton park card till cash withdrawal fee gautrain park tvm gauteng card atm cash withdrawal dnr jnb braamfontein card atm cash withdrawal fee sms notification fee gautrain rhodesfield gauteng card bank app prepay purchase ta sms notification fee bank app prepay purchase mtn sms notification fee bank app cash send c cash send fee sms notification fee flm rennie house eater braamfontein card interest receive sms notification fee monthly account admin fee flm rennie house eater braamfontein card gautrain rhodesfield gauteng card sms notification fee gautrain park tvm gauteng card gautrain rhodesfield gauteng card gautrain park tvm gauteng card eig hostgator honfee r eig hostg game fin carry forward bring forward tithe ommaxperls gb linkage fee explore software vat r tax free save account regensys dstv interest rent maintenance fee cross border checker colum click columbi flm rennie hou explore stockvel airtime w airtime carry forward bring forward airtime w airtime airtime w airtime nedbank send imali airtime w airtime chicken licken carry forward provisional statement bring forward withdrawal facebook hostgator facebk ar eig hostgator nedbank send imali cross border checker colum sasol oakdene click columbi airtime w airtime airtime w airtime interest recieved credit interest payment withdrawal notification sms fee payment withdrawal notification sms fee payment withdrawal notification sms fee payment withdrawal notification sms fee pos purchase woolworths campus squarjohannesburg za pos purchase click campus squarjohannesburg za airtime purchase mtn pos purchase parktown convenience ceparktown za pos purchase makro crownmines crown mine za instant payment pos purchase uber sa help uber com johannesburg inter account tranfer recieved atm withdrawal airtime purchase mtn inter account tranfer recieved payment withdrawal notification sms fee instant payment bank app transfer author network atm cash withdrawal fnb ssc atm card cash withdrawal fee atm sms notification fee flm rennie house eater braamfontein card bank app transfer author network sms notification fee flm rennie house eater braamfontein card bank app prepay purchase cellc bank app prepay purchase cellc bank app transfer author network atm cash withdrawal fnb ssc atm card cash withdrawal fee atm sms notification fee flm rennie house eater braamfontein card flm rennie house eater braamfontein card flm rennie house eater braamfontein card bank app transfer author network atm cash withdrawal fnb ssc atm card cash withdrawal fee atm sms notification fee atm cash deposit cash dep dnr vryburg cash deposit fee note atm cash withdrawal jnb braamfontein atm cash withdrawal fee sms notification fee payment receive explore software transfer sms notification fee atm cash withdrawal jhb glen card airtime debit notific fee sms overseas purchase atm withdrawal jorrisen ibank payment pb reward absa bank ibank payment pos purchase bp fill sta pos purchase bp fill sta acb debit external virgin act management fee',\n",
              " 'mtn data bundle apple com bill cork ie parkhurst hardware parkhurst za seattle rennies house johannesburg za flm rennie house eater braamfontein za flm rennie house eater braamfontein za flm rennie house eater braamfontein za flm rennie house eater braamfontein za seattle rennies house johannesburg za flm rennie house eater braamfontein za property rondebosch za seattle rennies house johannesburg za flm rennie house eater braamfontein za flm rennie house eater braamfontein za investecpb apple com bill itunes com ie bloom coffee studio cape town za seattle rennies house johannesburg za flm rennie house eater braamfontein za investecpb admed admed taxassist netcash seattle rennies house johannesburg za flm rennie house eater braamfontein za flm rennie house eater braamfontein za bolton rd collection parkview za virgin act rent levy mtn sp disc prem discovery vir atl vir atl gb amzn digital ch w kv us foundry cafe parktown nort za seattle rennies house johannesburg za flm rennie house eater braamfontein za moregolf pmg curr outsurance ot fz seattle rennies house johannesburg za atmsol termloc fu bruma za rent rent merchant place sandton za jetline hydepark johannesburg za fego cafe rmb sandton za seattle rennies house johannesburg za absa bank neom long rent motherland coffee compan sandton za motherland coffee compan sandton za pool team craighall craighall za bloom coffee studio cape town za bloom coffee studio cape town za seattle rennies house johannesburg za seattle rennies house johannesburg za flm rennie house eater braamfontein za budget vap jan prem amzn digital l ci z us flm rennie house eater braamfontein za intellepark rosebank za mtn data bundle tshifhiwa rent minty sasol rosebank parkwood za seattle rennies house johannesburg za woolworths parktown qua johannesburg za hours vet clinic parktown nort za uber sa hel jul uber sa hel jul shell champion uber sa gauteng zaf h checker bram fischer bolt eu jul bolt eu jul vod prepay fee pre pay top vod prepay fee pre pay top intl trans f intl trans f reblake wesbank fi wesbank fi nsiki karen steelsmith plan ib transfer liquorshop bram fische theunlimited aup fee e comm speccreditfevertree telkommobi overdraft service fee fix monthly fee iwyze prm sbsanaedo uber sa hel jul uber sa hel jul ucount uber sa hel jul c bp ontdekke aug uber sa hel jul bolt eu jul bolt eu jul uber sa hel jul uber sa hel jul intl trans f intl trans f fee bank atm xai xai lounge c sorbet nail aug bolt eu aug uber sa hel aug bp hans strydom intl trans f u takealot co aug c melville co aug uber sa hel aug u payfast coo aug uber sa hel aug uber sa hel aug uber sa hel aug uber sa hel aug uber sa hel aug uber sa hel aug uber sa hel aug c xai xai lou aug uber sa hel aug uber sa hel aug c click cant aug uber sa hel aug uber sa hel aug c hell kitc aug uber sa hel aug uber sa hel aug uber sa hel aug uber sa hel aug uber sa hel aug bolt eu aug checker bram fischer intl trans f vod prepay fee pre pay top uber sa hel aug uber sa hel aug bolt eu aug uber sa hel aug uber sa hel aug uber sa hel aug vod prepay fee pre pay top intl trans f uber sa gauteng zaf h pnp exp ha randburg zaf h uber sa hel aug u takealot aug uber sa gauteng zaf h uber sa gauteng zaf h uber sa hel aug uber sa hel aug uber sa hel aug uber sa hel aug uber sa hel aug uber sa gauteng zaf h fee e comm c kbs coffee aug fee e comm fee e comm c caltex fact aug uber sa gauteng zaf h fee e comm uber sa gauteng zaf h uber sa gauteng zaf h woolworths aug checker b sb zaf h checker b sb zaf h checker b sb zaf h c caltex fact aug c caltex facto fee e comm pnp exp linden park checker bram fischer fee e comm fee e comm u payfast aug pnp express h aug vod prepay fee pre pay top smokers deli melville vod prepay fee pre pay top overdraft interest bolt eu tallinn zaf h bolt eu tallinn zaf h uber sa hel aug vod prepay fee pre pay top vod prepay fee pre pay top vod prepay fee pre pay top wesbank fi bolt eu aug pnp express h aug c bp hans str aug nsiki vod prepay fee pre pay top karen steelsmith liquor city melville moyo zoo lake pty lt liquorshop bram fische theunlimited aup intl trans f vod prepay fee pre pay top wesbank fi bolt eu aug bolt eu aug uber sa hel aug bolt eu aug bolt eu aug speccreditfevertree intl trans f intl trans f intl trans f intl trans f telkommobi overdraft service fee fix monthly fee momma liquorshop bram fische iwyze prm sbsanaedo uber sa hel aug liquorshop br aug uber sa hel aug ucount netflix com aug uber sa hel aug uber sa hel aug total ra william nicol intl trans f u takealot co sep uber sa hel sep bolt eu sep fee e comm intl trans f u payfast coo sep uber sa hel sep pnp exp ha randburg zaf h pnp express h sep vod prepay fee pre pay top uber sa help sep c chamdor ser sep uber sa help sep vod prepay fee pre pay top uber sa hel sep uber sa hel sep vod prepay fee pre pay top c eleven fa sep uber eat sep vod prepay fee pre pay top uber sa hel sep vod prepay fee pre pay top uber sa hel sep uber sa hel sep six restau johannesburg zaf uber sa gauteng zaf h uber sa hel sep bolt eu sep uber sa gauteng zaf h intl trans f uber sa hel sep uber sa hel sep c six restaur sep spotifyza stockholm sen h uber sa hel sep pnp express h sep spotifyza stockholm sen h spotifyza stockholm sen h overdraft interest excess interest checker bram fischer uber sa hel sep reblake wesbank fi wesbank fi theunlimited aup uber sa hel sep spotifyza sep karen steelsmith vod prepay fee pre pay top speccreditfevertree intl trans f telkommobi overdraft service fee fix monthly fee sbsanaedo iwyze prm uber sa hel sep netflix com sep uber sa hel sep baby momma intl trans f ucount c caltex fact oct uber sa hel sep uber sa hel sep uber sa hel sep uber sa hel sep c dukes burge sep uber sa hel sep c ballbreaker sep c pg glass fo sep claassen claassen claassen claassen train uber sa hel sep uber sa hel sep uber sa hel oct uber sa hel oct u payfast coo oct uber sa hel oct uber sa hel oct uber sa hel oct fee bank atm uber sa hel oct uber sa hel oct uber sa hel oct uber sa hel oct c cltx ruhama oct uber sa hel oct uber sa hel oct uber sa hel oct sasol randburg uber sa hel oct uber sa hel oct c caltex wate oct c bp hans str oct uber sa hel oct uber sa hel oct pnp express h oct uber sa hel oct uber sa hel oct uber sa hel oct nsiki uber sa hel oct uber sa hel oct uber sa hel oct uber sa hel oct checker bram fischer liquorshop bram fische vod prepay fee pre pay top c caltex fair oct uber sa hel oct uber sa hel oct uber sa hel oct uber sa hel oct uber sa hel oct uber sa hel oct c kfc keywest oct uber sa hel oct spotifyza stockholm sen h fee pos decline insuff fund uber sa gauteng zaf h uber sa hel oct uber sa gauteng zaf h uber sa hel oct spotifyza stockholm sen h c bp hans str oct uber sa hel oct uber sa hel oct uber sa hel oct vod prepay fee pre pay top overdraft interest excess interest c caltex fair oct spotifyza oct intl trans f c bp hans str oct c caltex fair oct c engen paard oct baby pnp express h oct wesbank fi reblake wesbank fi uber sa help oct mr food oct c engen paard oct karen landlord vee claassen claassen management checker bram fischer engen william nicol telkommobi theunlimited aup speccreditfevertree overdraft service fee fix monthly fee karen landlord claassen claassen trainin iwyze prm c checker br oct netflix com oct c pnp liq fer oct uber sa hel oct ucount intl trans f uber sa hel oct uber sa hel oct uber sa hel nov uber sa hel oct flm rennie ho nov flm rennie house eater r checker checker bram fischer uber sa hel nov c kitcheners nov uber sa hel nov c hell kitc nov uber sa hel nov c kitcheners nov uber sa hel nov pnp express h nov bolt eu ou bolt eu ou pnp express l nov liquorshop br nov uber sa hel nov intl trans f intl trans f uber sa hel nov c bp ridge wo nov uber sa hel nov mr food nov r pnp fam liquorshop br nov bolt eu ou pnp express h nov c liquor city nov intl trans f bolt eu ou nov c sasol n n nov intl trans f uber sa hel nov u payfast coo nov c engen paard nov c postnet bra nov flm rennie house eater flm rennie house eater uber sa gauteng zaf h bolt eu nov rsmio resume nov bolt eu nov uberbv help uber co nld h uber sa gauteng zaf h intl trans f intl trans f intl trans f c postnet bra nov uber sa hel nov vod prepay fee pre pay top uber sa hel nov spotifyza nov uber sa hel nov woolworths nov bolt eu nov vod prepay fee pre pay top intl trans f intl trans f mr food z nov uber sa hel nov c engen taher nov bolt eu nov vod prepay fee pre pay top intl trans f bolt eu nov rsmio resume nov bolt eu nov checker bram fischer uber sa gauteng zaf h intl trans f intl trans f intl trans f liquorshop bram fische c liquorshop nov c liquorshop nov bolt eu tallinn zaf h bolt eu tallinn zaf h uber sa gauteng zaf h uberbv help uber co nld h bolt eu tallinn zaf h mr price fern nov pnp liq fernd nov c liquorshop nov flm rennie house eater overdraft interest excess interest bolt eu nov bolt eu nov vod prepay fee pre pay top doppio zer cradlestone zaf intl trans f intl trans f bolt eu nov seattle rennie house intl trans f bolt eu nov uber sa hel nov c sasol r w nov liquorshop bram fische flm rennie house eater intl trans f wesbank fi c doppio zero nov c caltex welt nov bolt eu nov theunlimited aup intl trans f cafe caltex motorserve hell kitchen hell kitchen xai xai lounge wesbank fi bolt eu nov c studio moma nov checker fern nov c checker fe nov bolt eu nov uber sa hel nov top robindale karen landlord r checker vod prepay fee pre pay top intl trans f telkommobi speccreditfevertree intl trans f overdraft service fee fix monthly fee karen landlord magalies vulstasie top magalies spar magalies supr spa sbsanaedo iwyze prm bolt eu nov c bp luipaard nov bolt eu nov bolt eu nov bolt eu nov bolt eu nov c loco liquor nov uber sa hel nov netflix com nov c codf nov pnp exp linden park seattle rennie house intl trans f intl trans f ucount intl trans f intl trans f intl trans f intl trans f uber sa hel nov uber sa hel nov bolt eu dec c caltex fair nov uber sa hel nov c shell parkh nov bolt eu dec uber sa hel nov uber sa hel nov baby intl trans f intl trans f uber sa hel dec uber sa hel dec bolt eu dec bolt eu dec l flysafair dec uber sa hel dec uber sa hel dec uber sa hel dec liquorshop br nov u takealot dec intl trans f intl trans f bolt eu dec mango airli dec u takealot dec bolt eu dec fee bank atm intl trans f intl trans f loco liquore dec liquorshop br dec frg nbastore dec atm cash decline bal provide intl trans f hell kitchen c h clearwa dec spar robindal dec c cltx water dec bolt eu dec caltex fairla dec khaliques oriental pla intl trans f bolt eu dec uber sa hel dec bolt eu tallinn zaf h bolt eu tallinn zaf h intl trans f bolt eu dec bolt eu dec uber sa hel dec uberbv help uber co nld h bolt eu tallinn zaf h payfast eft intl trans f intl trans f rental avis rent johannesburg zaf avis rent johannesburg zaf game gateway circus circus shell uc south bind vod prepay fee pre pay top san lameer country wesbnknaed uber sa hel dec uberbv help uber co nld h spotifyza stockholm sen h theunlimited aup vod prepay fee pre pay top vod prepay fee pre pay top dr mokitimi vee budget spotifyza dec vod prepay fee pre pay top vod prepay fee pre pay top intl trans f baby fee bank atm rsmio resume dec c diner e dec l flysafair dec intl trans f c studio moma dec c caltex fact dec c caltex fair dec woolworths dec c caltex fair dec c bp luipaard dec fee pre pay top fee bank atm intl trans f uber sa gauteng zaf h pnp liq fernd dec c total ra dec hertz rent dec c pnp family dec uber sa hel dec c sweet treat dec c h roseban dec mcd victory p dec uber sa gauteng zaf h fee pos decline insuff fund uber sa gauteng zaf h overdraft interest excess interest c bms intersi dec c foodlovers dec uber sa hel dec c decofurn sp dec c pearl vill dec c engen fairy dec c engen hippo dec c city late dec pnp hpr prosp dec c rhapsodys l dec woolworths dec hertz rent dec c pnp hpr pro dec c engen hippo dec wesbank fi game dionw telkommobi speccreditfevertree overdraft service fee fix monthly fee nokwanda sifiso iwyze prm sbsanaedo netflix com dec sasol ferndale sasol ferndale sasol ferndale checker bram fischer ucount intl trans f bootlegger ferndale pnp express l jan uber sa hel jan bolt eu jan u payfast coo jan intl trans f checker bram jan bolt eu jan intl trans f whc ta dept surger whc department surgery bolt eu jan intl trans f bolt eu jan dischem park station intl trans f c liquor city jan c caltex fair jan bolt eu jan c us powerspo jan intl trans f uber sa hel jan vod prepay fee pre pay top vod prepay fee pre pay top checker bram jan c engen conra jan c engen paard jan mr food z jan vod prepay fee pre pay top seattle rennie house c caltex fair jan spotifyza stockholm sen h liquorshop br jan vod prepay fee pre pay top vod prepay fee pre pay top c total ra jan vod prepay fee pre pay top flm rennie house eater spotifyza stockholm sen h c wimpy key w jan c engen prote jan spotifyza stockholm sen h overdraft interest excess interest bank app prepay purchase vodacom sms notification fee sms notification fee pick n pay birchleigh card sms notification fee sms notification fee pick n pay birchleigh card purchase cash r pep store card till cash withdrawal fee gautrain rhodesfield gauteng card interest receive sms notification fee monthly account admin fee click birchleigh card engen kempton park card online purchase computicket victory park card sms notification fee purchase cash r pick n pay rustenburg card till cash withdrawal fee woolworths rustenburg card flm rustenburg platinu rustenburg card flm rustenburg platinu rustenburg card sms notification fee spar rustenburg card bank app prepay purchase huang mei import e rustenberg card purchase cash r spar rustenburg card till cash withdrawal fee interest receive monthly account admin fee online purchase amzn digital np h card sms notification fee atm cash withdrawal rustenburg thlabane card atm cash withdrawal fee sms notification fee bank app prepay purchase ta flm rennie house eater braamfontein card bank app prepay purchase ta gautrain rhodesfield gauteng card purchase cash r pep store kempton park card till cash withdrawal fee gautrain park tvm gauteng card atm cash withdrawal dnr jnb braamfontein card atm cash withdrawal fee sms notification fee gautrain rhodesfield gauteng card bank app prepay purchase ta sms notification fee bank app prepay purchase mtn sms notification fee bank app cash send c cash send fee sms notification fee flm rennie house eater braamfontein card interest receive sms notification fee monthly account admin fee flm rennie house eater braamfontein card gautrain rhodesfield gauteng card sms notification fee gautrain park tvm gauteng card gautrain rhodesfield gauteng card gautrain park tvm gauteng card eig hostgator honfee r eig hostg game fin carry forward bring forward tithe ommaxperls gb linkage fee explore software vat r tax free save account regensys dstv interest rent maintenance fee cross border checker colum click columbi flm rennie hou explore stockvel airtime w airtime carry forward bring forward airtime w airtime airtime w airtime nedbank send imali airtime w airtime chicken licken carry forward provisional statement bring forward withdrawal facebook hostgator facebk ar eig hostgator nedbank send imali cross border checker colum sasol oakdene click columbi airtime w airtime airtime w airtime interest recieved credit interest payment withdrawal notification sms fee payment withdrawal notification sms fee payment withdrawal notification sms fee payment withdrawal notification sms fee pos purchase woolworths campus squarjohannesburg za pos purchase click campus squarjohannesburg za airtime purchase mtn pos purchase parktown convenience ceparktown za pos purchase makro crownmines crown mine za instant payment pos purchase uber sa help uber com johannesburg inter account tranfer recieved atm withdrawal airtime purchase mtn inter account tranfer recieved payment withdrawal notification sms fee instant payment bank app transfer author network atm cash withdrawal fnb ssc atm card cash withdrawal fee atm sms notification fee flm rennie house eater braamfontein card bank app transfer author network sms notification fee flm rennie house eater braamfontein card bank app prepay purchase cellc bank app prepay purchase cellc bank app transfer author network atm cash withdrawal fnb ssc atm card cash withdrawal fee atm sms notification fee flm rennie house eater braamfontein card flm rennie house eater braamfontein card flm rennie house eater braamfontein card bank app transfer author network atm cash withdrawal fnb ssc atm card cash withdrawal fee atm sms notification fee atm cash deposit cash dep dnr vryburg cash deposit fee note atm cash withdrawal jnb braamfontein atm cash withdrawal fee sms notification fee payment receive explore software transfer sms notification fee atm cash withdrawal jhb glen card airtime debit notific fee sms overseas purchase atm withdrawal jorrisen ibank payment pb reward absa bank ibank payment pos purchase bp fill sta pos purchase bp fill sta acb debit external virgin act management fee',\n",
              " 'mtn data bundle apple com bill cork ie parkhurst hardware parkhurst za seattle rennies house johannesburg za flm rennie house eater braamfontein za flm rennie house eater braamfontein za flm rennie house eater braamfontein za flm rennie house eater braamfontein za seattle rennies house johannesburg za flm rennie house eater braamfontein za property rondebosch za seattle rennies house johannesburg za flm rennie house eater braamfontein za flm rennie house eater braamfontein za investecpb apple com bill itunes com ie bloom coffee studio cape town za seattle rennies house johannesburg za flm rennie house eater braamfontein za investecpb admed admed taxassist netcash seattle rennies house johannesburg za flm rennie house eater braamfontein za flm rennie house eater braamfontein za bolton rd collection parkview za virgin act rent levy mtn sp disc prem discovery vir atl vir atl gb amzn digital ch w kv us foundry cafe parktown nort za seattle rennies house johannesburg za flm rennie house eater braamfontein za moregolf pmg curr outsurance ot fz seattle rennies house johannesburg za atmsol termloc fu bruma za rent rent merchant place sandton za jetline hydepark johannesburg za fego cafe rmb sandton za seattle rennies house johannesburg za absa bank neom long rent motherland coffee compan sandton za motherland coffee compan sandton za pool team craighall craighall za bloom coffee studio cape town za bloom coffee studio cape town za seattle rennies house johannesburg za seattle rennies house johannesburg za flm rennie house eater braamfontein za budget vap jan prem amzn digital l ci z us flm rennie house eater braamfontein za intellepark rosebank za mtn data bundle tshifhiwa rent minty sasol rosebank parkwood za seattle rennies house johannesburg za woolworths parktown qua johannesburg za hours vet clinic parktown nort za uber sa hel jul uber sa hel jul shell champion uber sa gauteng zaf h checker bram fischer bolt eu jul bolt eu jul vod prepay fee pre pay top vod prepay fee pre pay top intl trans f intl trans f reblake wesbank fi wesbank fi nsiki karen steelsmith plan ib transfer liquorshop bram fische theunlimited aup fee e comm speccreditfevertree telkommobi overdraft service fee fix monthly fee iwyze prm sbsanaedo uber sa hel jul uber sa hel jul ucount uber sa hel jul c bp ontdekke aug uber sa hel jul bolt eu jul bolt eu jul uber sa hel jul uber sa hel jul intl trans f intl trans f fee bank atm xai xai lounge c sorbet nail aug bolt eu aug uber sa hel aug bp hans strydom intl trans f u takealot co aug c melville co aug uber sa hel aug u payfast coo aug uber sa hel aug uber sa hel aug uber sa hel aug uber sa hel aug uber sa hel aug uber sa hel aug uber sa hel aug c xai xai lou aug uber sa hel aug uber sa hel aug c click cant aug uber sa hel aug uber sa hel aug c hell kitc aug uber sa hel aug uber sa hel aug uber sa hel aug uber sa hel aug uber sa hel aug bolt eu aug checker bram fischer intl trans f vod prepay fee pre pay top uber sa hel aug uber sa hel aug bolt eu aug uber sa hel aug uber sa hel aug uber sa hel aug vod prepay fee pre pay top intl trans f uber sa gauteng zaf h pnp exp ha randburg zaf h uber sa hel aug u takealot aug uber sa gauteng zaf h uber sa gauteng zaf h uber sa hel aug uber sa hel aug uber sa hel aug uber sa hel aug uber sa hel aug uber sa gauteng zaf h fee e comm c kbs coffee aug fee e comm fee e comm c caltex fact aug uber sa gauteng zaf h fee e comm uber sa gauteng zaf h uber sa gauteng zaf h woolworths aug checker b sb zaf h checker b sb zaf h checker b sb zaf h c caltex fact aug c caltex facto fee e comm pnp exp linden park checker bram fischer fee e comm fee e comm u payfast aug pnp express h aug vod prepay fee pre pay top smokers deli melville vod prepay fee pre pay top overdraft interest bolt eu tallinn zaf h bolt eu tallinn zaf h uber sa hel aug vod prepay fee pre pay top vod prepay fee pre pay top vod prepay fee pre pay top wesbank fi bolt eu aug pnp express h aug c bp hans str aug nsiki vod prepay fee pre pay top karen steelsmith liquor city melville moyo zoo lake pty lt liquorshop bram fische theunlimited aup intl trans f vod prepay fee pre pay top wesbank fi bolt eu aug bolt eu aug uber sa hel aug bolt eu aug bolt eu aug speccreditfevertree intl trans f intl trans f intl trans f intl trans f telkommobi overdraft service fee fix monthly fee momma liquorshop bram fische iwyze prm sbsanaedo uber sa hel aug liquorshop br aug uber sa hel aug ucount netflix com aug uber sa hel aug uber sa hel aug total ra william nicol intl trans f u takealot co sep uber sa hel sep bolt eu sep fee e comm intl trans f u payfast coo sep uber sa hel sep pnp exp ha randburg zaf h pnp express h sep vod prepay fee pre pay top uber sa help sep c chamdor ser sep uber sa help sep vod prepay fee pre pay top uber sa hel sep uber sa hel sep vod prepay fee pre pay top c eleven fa sep uber eat sep vod prepay fee pre pay top uber sa hel sep vod prepay fee pre pay top uber sa hel sep uber sa hel sep six restau johannesburg zaf uber sa gauteng zaf h uber sa hel sep bolt eu sep uber sa gauteng zaf h intl trans f uber sa hel sep uber sa hel sep c six restaur sep spotifyza stockholm sen h uber sa hel sep pnp express h sep spotifyza stockholm sen h spotifyza stockholm sen h overdraft interest excess interest checker bram fischer uber sa hel sep reblake wesbank fi wesbank fi theunlimited aup uber sa hel sep spotifyza sep karen steelsmith vod prepay fee pre pay top speccreditfevertree intl trans f telkommobi overdraft service fee fix monthly fee sbsanaedo iwyze prm uber sa hel sep netflix com sep uber sa hel sep baby momma intl trans f ucount c caltex fact oct uber sa hel sep uber sa hel sep uber sa hel sep uber sa hel sep c dukes burge sep uber sa hel sep c ballbreaker sep c pg glass fo sep claassen claassen claassen claassen train uber sa hel sep uber sa hel sep uber sa hel oct uber sa hel oct u payfast coo oct uber sa hel oct uber sa hel oct uber sa hel oct fee bank atm uber sa hel oct uber sa hel oct uber sa hel oct uber sa hel oct c cltx ruhama oct uber sa hel oct uber sa hel oct uber sa hel oct sasol randburg uber sa hel oct uber sa hel oct c caltex wate oct c bp hans str oct uber sa hel oct uber sa hel oct pnp express h oct uber sa hel oct uber sa hel oct uber sa hel oct nsiki uber sa hel oct uber sa hel oct uber sa hel oct uber sa hel oct checker bram fischer liquorshop bram fische vod prepay fee pre pay top c caltex fair oct uber sa hel oct uber sa hel oct uber sa hel oct uber sa hel oct uber sa hel oct uber sa hel oct c kfc keywest oct uber sa hel oct spotifyza stockholm sen h fee pos decline insuff fund uber sa gauteng zaf h uber sa hel oct uber sa gauteng zaf h uber sa hel oct spotifyza stockholm sen h c bp hans str oct uber sa hel oct uber sa hel oct uber sa hel oct vod prepay fee pre pay top overdraft interest excess interest c caltex fair oct spotifyza oct intl trans f c bp hans str oct c caltex fair oct c engen paard oct baby pnp express h oct wesbank fi reblake wesbank fi uber sa help oct mr food oct c engen paard oct karen landlord vee claassen claassen management checker bram fischer engen william nicol telkommobi theunlimited aup speccreditfevertree overdraft service fee fix monthly fee karen landlord claassen claassen trainin iwyze prm c checker br oct netflix com oct c pnp liq fer oct uber sa hel oct ucount intl trans f uber sa hel oct uber sa hel oct uber sa hel nov uber sa hel oct flm rennie ho nov flm rennie house eater r checker checker bram fischer uber sa hel nov c kitcheners nov uber sa hel nov c hell kitc nov uber sa hel nov c kitcheners nov uber sa hel nov pnp express h nov bolt eu ou bolt eu ou pnp express l nov liquorshop br nov uber sa hel nov intl trans f intl trans f uber sa hel nov c bp ridge wo nov uber sa hel nov mr food nov r pnp fam liquorshop br nov bolt eu ou pnp express h nov c liquor city nov intl trans f bolt eu ou nov c sasol n n nov intl trans f uber sa hel nov u payfast coo nov c engen paard nov c postnet bra nov flm rennie house eater flm rennie house eater uber sa gauteng zaf h bolt eu nov rsmio resume nov bolt eu nov uberbv help uber co nld h uber sa gauteng zaf h intl trans f intl trans f intl trans f c postnet bra nov uber sa hel nov vod prepay fee pre pay top uber sa hel nov spotifyza nov uber sa hel nov woolworths nov bolt eu nov vod prepay fee pre pay top intl trans f intl trans f mr food z nov uber sa hel nov c engen taher nov bolt eu nov vod prepay fee pre pay top intl trans f bolt eu nov rsmio resume nov bolt eu nov checker bram fischer uber sa gauteng zaf h intl trans f intl trans f intl trans f liquorshop bram fische c liquorshop nov c liquorshop nov bolt eu tallinn zaf h bolt eu tallinn zaf h uber sa gauteng zaf h uberbv help uber co nld h bolt eu tallinn zaf h mr price fern nov pnp liq fernd nov c liquorshop nov flm rennie house eater overdraft interest excess interest bolt eu nov bolt eu nov vod prepay fee pre pay top doppio zer cradlestone zaf intl trans f intl trans f bolt eu nov seattle rennie house intl trans f bolt eu nov uber sa hel nov c sasol r w nov liquorshop bram fische flm rennie house eater intl trans f wesbank fi c doppio zero nov c caltex welt nov bolt eu nov theunlimited aup intl trans f cafe caltex motorserve hell kitchen hell kitchen xai xai lounge wesbank fi bolt eu nov c studio moma nov checker fern nov c checker fe nov bolt eu nov uber sa hel nov top robindale karen landlord r checker vod prepay fee pre pay top intl trans f telkommobi speccreditfevertree intl trans f overdraft service fee fix monthly fee karen landlord magalies vulstasie top magalies spar magalies supr spa sbsanaedo iwyze prm bolt eu nov c bp luipaard nov bolt eu nov bolt eu nov bolt eu nov bolt eu nov c loco liquor nov uber sa hel nov netflix com nov c codf nov pnp exp linden park seattle rennie house intl trans f intl trans f ucount intl trans f intl trans f intl trans f intl trans f uber sa hel nov uber sa hel nov bolt eu dec c caltex fair nov uber sa hel nov c shell parkh nov bolt eu dec uber sa hel nov uber sa hel nov baby intl trans f intl trans f uber sa hel dec uber sa hel dec bolt eu dec bolt eu dec l flysafair dec uber sa hel dec uber sa hel dec uber sa hel dec liquorshop br nov u takealot dec intl trans f intl trans f bolt eu dec mango airli dec u takealot dec bolt eu dec fee bank atm intl trans f intl trans f loco liquore dec liquorshop br dec frg nbastore dec atm cash decline bal provide intl trans f hell kitchen c h clearwa dec spar robindal dec c cltx water dec bolt eu dec caltex fairla dec khaliques oriental pla intl trans f bolt eu dec uber sa hel dec bolt eu tallinn zaf h bolt eu tallinn zaf h intl trans f bolt eu dec bolt eu dec uber sa hel dec uberbv help uber co nld h bolt eu tallinn zaf h payfast eft intl trans f intl trans f rental avis rent johannesburg zaf avis rent johannesburg zaf game gateway circus circus shell uc south bind vod prepay fee pre pay top san lameer country wesbnknaed uber sa hel dec uberbv help uber co nld h spotifyza stockholm sen h theunlimited aup vod prepay fee pre pay top vod prepay fee pre pay top dr mokitimi vee budget spotifyza dec vod prepay fee pre pay top vod prepay fee pre pay top intl trans f baby fee bank atm rsmio resume dec c diner e dec l flysafair dec intl trans f c studio moma dec c caltex fact dec c caltex fair dec woolworths dec c caltex fair dec c bp luipaard dec fee pre pay top fee bank atm intl trans f uber sa gauteng zaf h pnp liq fernd dec c total ra dec hertz rent dec c pnp family dec uber sa hel dec c sweet treat dec c h roseban dec mcd victory p dec uber sa gauteng zaf h fee pos decline insuff fund uber sa gauteng zaf h overdraft interest excess interest c bms intersi dec c foodlovers dec uber sa hel dec c decofurn sp dec c pearl vill dec c engen fairy dec c engen hippo dec c city late dec pnp hpr prosp dec c rhapsodys l dec woolworths dec hertz rent dec c pnp hpr pro dec c engen hippo dec wesbank fi game dionw telkommobi speccreditfevertree overdraft service fee fix monthly fee nokwanda sifiso iwyze prm sbsanaedo netflix com dec sasol ferndale sasol ferndale sasol ferndale checker bram fischer ucount intl trans f bootlegger ferndale pnp express l jan uber sa hel jan bolt eu jan u payfast coo jan intl trans f checker bram jan bolt eu jan intl trans f whc ta dept surger whc department surgery bolt eu jan intl trans f bolt eu jan dischem park station intl trans f c liquor city jan c caltex fair jan bolt eu jan c us powerspo jan intl trans f uber sa hel jan vod prepay fee pre pay top vod prepay fee pre pay top checker bram jan c engen conra jan c engen paard jan mr food z jan vod prepay fee pre pay top seattle rennie house c caltex fair jan spotifyza stockholm sen h liquorshop br jan vod prepay fee pre pay top vod prepay fee pre pay top c total ra jan vod prepay fee pre pay top flm rennie house eater spotifyza stockholm sen h c wimpy key w jan c engen prote jan spotifyza stockholm sen h overdraft interest excess interest bank app prepay purchase vodacom sms notification fee sms notification fee pick n pay birchleigh card sms notification fee sms notification fee pick n pay birchleigh card purchase cash r pep store card till cash withdrawal fee gautrain rhodesfield gauteng card interest receive sms notification fee monthly account admin fee click birchleigh card engen kempton park card online purchase computicket victory park card sms notification fee purchase cash r pick n pay rustenburg card till cash withdrawal fee woolworths rustenburg card flm rustenburg platinu rustenburg card flm rustenburg platinu rustenburg card sms notification fee spar rustenburg card bank app prepay purchase huang mei import e rustenberg card purchase cash r spar rustenburg card till cash withdrawal fee interest receive monthly account admin fee online purchase amzn digital np h card sms notification fee atm cash withdrawal rustenburg thlabane card atm cash withdrawal fee sms notification fee bank app prepay purchase ta flm rennie house eater braamfontein card bank app prepay purchase ta gautrain rhodesfield gauteng card purchase cash r pep store kempton park card till cash withdrawal fee gautrain park tvm gauteng card atm cash withdrawal dnr jnb braamfontein card atm cash withdrawal fee sms notification fee gautrain rhodesfield gauteng card bank app prepay purchase ta sms notification fee bank app prepay purchase mtn sms notification fee bank app cash send c cash send fee sms notification fee flm rennie house eater braamfontein card interest receive sms notification fee monthly account admin fee flm rennie house eater braamfontein card gautrain rhodesfield gauteng card sms notification fee gautrain park tvm gauteng card gautrain rhodesfield gauteng card gautrain park tvm gauteng card eig hostgator honfee r eig hostg game fin carry forward bring forward tithe ommaxperls gb linkage fee explore software vat r tax free save account regensys dstv interest rent maintenance fee cross border checker colum click columbi flm rennie hou explore stockvel airtime w airtime carry forward bring forward airtime w airtime airtime w airtime nedbank send imali airtime w airtime chicken licken carry forward provisional statement bring forward withdrawal facebook hostgator facebk ar eig hostgator nedbank send imali cross border checker colum sasol oakdene click columbi airtime w airtime airtime w airtime interest recieved credit interest payment withdrawal notification sms fee payment withdrawal notification sms fee payment withdrawal notification sms fee payment withdrawal notification sms fee pos purchase woolworths campus squarjohannesburg za pos purchase click campus squarjohannesburg za airtime purchase mtn pos purchase parktown convenience ceparktown za pos purchase makro crownmines crown mine za instant payment pos purchase uber sa help uber com johannesburg inter account tranfer recieved atm withdrawal airtime purchase mtn inter account tranfer recieved payment withdrawal notification sms fee instant payment bank app transfer author network atm cash withdrawal fnb ssc atm card cash withdrawal fee atm sms notification fee flm rennie house eater braamfontein card bank app transfer author network sms notification fee flm rennie house eater braamfontein card bank app prepay purchase cellc bank app prepay purchase cellc bank app transfer author network atm cash withdrawal fnb ssc atm card cash withdrawal fee atm sms notification fee flm rennie house eater braamfontein card flm rennie house eater braamfontein card flm rennie house eater braamfontein card bank app transfer author network atm cash withdrawal fnb ssc atm card cash withdrawal fee atm sms notification fee atm cash deposit cash dep dnr vryburg cash deposit fee note atm cash withdrawal jnb braamfontein atm cash withdrawal fee sms notification fee payment receive explore software transfer sms notification fee atm cash withdrawal jhb glen card airtime debit notific fee sms overseas purchase atm withdrawal jorrisen ibank payment pb reward absa bank ibank payment pos purchase bp fill sta pos purchase bp fill sta acb debit external virgin act management fee',\n",
              " 'mtn data bundle apple com bill cork ie parkhurst hardware parkhurst za seattle rennies house johannesburg za flm rennie house eater braamfontein za flm rennie house eater braamfontein za flm rennie house eater braamfontein za flm rennie house eater braamfontein za seattle rennies house johannesburg za flm rennie house eater braamfontein za property rondebosch za seattle rennies house johannesburg za flm rennie house eater braamfontein za flm rennie house eater braamfontein za investecpb apple com bill itunes com ie bloom coffee studio cape town za seattle rennies house johannesburg za flm rennie house eater braamfontein za investecpb admed admed taxassist netcash seattle rennies house johannesburg za flm rennie house eater braamfontein za flm rennie house eater braamfontein za bolton rd collection parkview za virgin act rent levy mtn sp disc prem discovery vir atl vir atl gb amzn digital ch w kv us foundry cafe parktown nort za seattle rennies house johannesburg za flm rennie house eater braamfontein za moregolf pmg curr outsurance ot fz seattle rennies house johannesburg za atmsol termloc fu bruma za rent rent merchant place sandton za jetline hydepark johannesburg za fego cafe rmb sandton za seattle rennies house johannesburg za absa bank neom long rent motherland coffee compan sandton za motherland coffee compan sandton za pool team craighall craighall za bloom coffee studio cape town za bloom coffee studio cape town za seattle rennies house johannesburg za seattle rennies house johannesburg za flm rennie house eater braamfontein za budget vap jan prem amzn digital l ci z us flm rennie house eater braamfontein za intellepark rosebank za mtn data bundle tshifhiwa rent minty sasol rosebank parkwood za seattle rennies house johannesburg za woolworths parktown qua johannesburg za hours vet clinic parktown nort za uber sa hel jul uber sa hel jul shell champion uber sa gauteng zaf h checker bram fischer bolt eu jul bolt eu jul vod prepay fee pre pay top vod prepay fee pre pay top intl trans f intl trans f reblake wesbank fi wesbank fi nsiki karen steelsmith plan ib transfer liquorshop bram fische theunlimited aup fee e comm speccreditfevertree telkommobi overdraft service fee fix monthly fee iwyze prm sbsanaedo uber sa hel jul uber sa hel jul ucount uber sa hel jul c bp ontdekke aug uber sa hel jul bolt eu jul bolt eu jul uber sa hel jul uber sa hel jul intl trans f intl trans f fee bank atm xai xai lounge c sorbet nail aug bolt eu aug uber sa hel aug bp hans strydom intl trans f u takealot co aug c melville co aug uber sa hel aug u payfast coo aug uber sa hel aug uber sa hel aug uber sa hel aug uber sa hel aug uber sa hel aug uber sa hel aug uber sa hel aug c xai xai lou aug uber sa hel aug uber sa hel aug c click cant aug uber sa hel aug uber sa hel aug c hell kitc aug uber sa hel aug uber sa hel aug uber sa hel aug uber sa hel aug uber sa hel aug bolt eu aug checker bram fischer intl trans f vod prepay fee pre pay top uber sa hel aug uber sa hel aug bolt eu aug uber sa hel aug uber sa hel aug uber sa hel aug vod prepay fee pre pay top intl trans f uber sa gauteng zaf h pnp exp ha randburg zaf h uber sa hel aug u takealot aug uber sa gauteng zaf h uber sa gauteng zaf h uber sa hel aug uber sa hel aug uber sa hel aug uber sa hel aug uber sa hel aug uber sa gauteng zaf h fee e comm c kbs coffee aug fee e comm fee e comm c caltex fact aug uber sa gauteng zaf h fee e comm uber sa gauteng zaf h uber sa gauteng zaf h woolworths aug checker b sb zaf h checker b sb zaf h checker b sb zaf h c caltex fact aug c caltex facto fee e comm pnp exp linden park checker bram fischer fee e comm fee e comm u payfast aug pnp express h aug vod prepay fee pre pay top smokers deli melville vod prepay fee pre pay top overdraft interest bolt eu tallinn zaf h bolt eu tallinn zaf h uber sa hel aug vod prepay fee pre pay top vod prepay fee pre pay top vod prepay fee pre pay top wesbank fi bolt eu aug pnp express h aug c bp hans str aug nsiki vod prepay fee pre pay top karen steelsmith liquor city melville moyo zoo lake pty lt liquorshop bram fische theunlimited aup intl trans f vod prepay fee pre pay top wesbank fi bolt eu aug bolt eu aug uber sa hel aug bolt eu aug bolt eu aug speccreditfevertree intl trans f intl trans f intl trans f intl trans f telkommobi overdraft service fee fix monthly fee momma liquorshop bram fische iwyze prm sbsanaedo uber sa hel aug liquorshop br aug uber sa hel aug ucount netflix com aug uber sa hel aug uber sa hel aug total ra william nicol intl trans f u takealot co sep uber sa hel sep bolt eu sep fee e comm intl trans f u payfast coo sep uber sa hel sep pnp exp ha randburg zaf h pnp express h sep vod prepay fee pre pay top uber sa help sep c chamdor ser sep uber sa help sep vod prepay fee pre pay top uber sa hel sep uber sa hel sep vod prepay fee pre pay top c eleven fa sep uber eat sep vod prepay fee pre pay top uber sa hel sep vod prepay fee pre pay top uber sa hel sep uber sa hel sep six restau johannesburg zaf uber sa gauteng zaf h uber sa hel sep bolt eu sep uber sa gauteng zaf h intl trans f uber sa hel sep uber sa hel sep c six restaur sep spotifyza stockholm sen h uber sa hel sep pnp express h sep spotifyza stockholm sen h spotifyza stockholm sen h overdraft interest excess interest checker bram fischer uber sa hel sep reblake wesbank fi wesbank fi theunlimited aup uber sa hel sep spotifyza sep karen steelsmith vod prepay fee pre pay top speccreditfevertree intl trans f telkommobi overdraft service fee fix monthly fee sbsanaedo iwyze prm uber sa hel sep netflix com sep uber sa hel sep baby momma intl trans f ucount c caltex fact oct uber sa hel sep uber sa hel sep uber sa hel sep uber sa hel sep c dukes burge sep uber sa hel sep c ballbreaker sep c pg glass fo sep claassen claassen claassen claassen train uber sa hel sep uber sa hel sep uber sa hel oct uber sa hel oct u payfast coo oct uber sa hel oct uber sa hel oct uber sa hel oct fee bank atm uber sa hel oct uber sa hel oct uber sa hel oct uber sa hel oct c cltx ruhama oct uber sa hel oct uber sa hel oct uber sa hel oct sasol randburg uber sa hel oct uber sa hel oct c caltex wate oct c bp hans str oct uber sa hel oct uber sa hel oct pnp express h oct uber sa hel oct uber sa hel oct uber sa hel oct nsiki uber sa hel oct uber sa hel oct uber sa hel oct uber sa hel oct checker bram fischer liquorshop bram fische vod prepay fee pre pay top c caltex fair oct uber sa hel oct uber sa hel oct uber sa hel oct uber sa hel oct uber sa hel oct uber sa hel oct c kfc keywest oct uber sa hel oct spotifyza stockholm sen h fee pos decline insuff fund uber sa gauteng zaf h uber sa hel oct uber sa gauteng zaf h uber sa hel oct spotifyza stockholm sen h c bp hans str oct uber sa hel oct uber sa hel oct uber sa hel oct vod prepay fee pre pay top overdraft interest excess interest c caltex fair oct spotifyza oct intl trans f c bp hans str oct c caltex fair oct c engen paard oct baby pnp express h oct wesbank fi reblake wesbank fi uber sa help oct mr food oct c engen paard oct karen landlord vee claassen claassen management checker bram fischer engen william nicol telkommobi theunlimited aup speccreditfevertree overdraft service fee fix monthly fee karen landlord claassen claassen trainin iwyze prm c checker br oct netflix com oct c pnp liq fer oct uber sa hel oct ucount intl trans f uber sa hel oct uber sa hel oct uber sa hel nov uber sa hel oct flm rennie ho nov flm rennie house eater r checker checker bram fischer uber sa hel nov c kitcheners nov uber sa hel nov c hell kitc nov uber sa hel nov c kitcheners nov uber sa hel nov pnp express h nov bolt eu ou bolt eu ou pnp express l nov liquorshop br nov uber sa hel nov intl trans f intl trans f uber sa hel nov c bp ridge wo nov uber sa hel nov mr food nov r pnp fam liquorshop br nov bolt eu ou pnp express h nov c liquor city nov intl trans f bolt eu ou nov c sasol n n nov intl trans f uber sa hel nov u payfast coo nov c engen paard nov c postnet bra nov flm rennie house eater flm rennie house eater uber sa gauteng zaf h bolt eu nov rsmio resume nov bolt eu nov uberbv help uber co nld h uber sa gauteng zaf h intl trans f intl trans f intl trans f c postnet bra nov uber sa hel nov vod prepay fee pre pay top uber sa hel nov spotifyza nov uber sa hel nov woolworths nov bolt eu nov vod prepay fee pre pay top intl trans f intl trans f mr food z nov uber sa hel nov c engen taher nov bolt eu nov vod prepay fee pre pay top intl trans f bolt eu nov rsmio resume nov bolt eu nov checker bram fischer uber sa gauteng zaf h intl trans f intl trans f intl trans f liquorshop bram fische c liquorshop nov c liquorshop nov bolt eu tallinn zaf h bolt eu tallinn zaf h uber sa gauteng zaf h uberbv help uber co nld h bolt eu tallinn zaf h mr price fern nov pnp liq fernd nov c liquorshop nov flm rennie house eater overdraft interest excess interest bolt eu nov bolt eu nov vod prepay fee pre pay top doppio zer cradlestone zaf intl trans f intl trans f bolt eu nov seattle rennie house intl trans f bolt eu nov uber sa hel nov c sasol r w nov liquorshop bram fische flm rennie house eater intl trans f wesbank fi c doppio zero nov c caltex welt nov bolt eu nov theunlimited aup intl trans f cafe caltex motorserve hell kitchen hell kitchen xai xai lounge wesbank fi bolt eu nov c studio moma nov checker fern nov c checker fe nov bolt eu nov uber sa hel nov top robindale karen landlord r checker vod prepay fee pre pay top intl trans f telkommobi speccreditfevertree intl trans f overdraft service fee fix monthly fee karen landlord magalies vulstasie top magalies spar magalies supr spa sbsanaedo iwyze prm bolt eu nov c bp luipaard nov bolt eu nov bolt eu nov bolt eu nov bolt eu nov c loco liquor nov uber sa hel nov netflix com nov c codf nov pnp exp linden park seattle rennie house intl trans f intl trans f ucount intl trans f intl trans f intl trans f intl trans f uber sa hel nov uber sa hel nov bolt eu dec c caltex fair nov uber sa hel nov c shell parkh nov bolt eu dec uber sa hel nov uber sa hel nov baby intl trans f intl trans f uber sa hel dec uber sa hel dec bolt eu dec bolt eu dec l flysafair dec uber sa hel dec uber sa hel dec uber sa hel dec liquorshop br nov u takealot dec intl trans f intl trans f bolt eu dec mango airli dec u takealot dec bolt eu dec fee bank atm intl trans f intl trans f loco liquore dec liquorshop br dec frg nbastore dec atm cash decline bal provide intl trans f hell kitchen c h clearwa dec spar robindal dec c cltx water dec bolt eu dec caltex fairla dec khaliques oriental pla intl trans f bolt eu dec uber sa hel dec bolt eu tallinn zaf h bolt eu tallinn zaf h intl trans f bolt eu dec bolt eu dec uber sa hel dec uberbv help uber co nld h bolt eu tallinn zaf h payfast eft intl trans f intl trans f rental avis rent johannesburg zaf avis rent johannesburg zaf game gateway circus circus shell uc south bind vod prepay fee pre pay top san lameer country wesbnknaed uber sa hel dec uberbv help uber co nld h spotifyza stockholm sen h theunlimited aup vod prepay fee pre pay top vod prepay fee pre pay top dr mokitimi vee budget spotifyza dec vod prepay fee pre pay top vod prepay fee pre pay top intl trans f baby fee bank atm rsmio resume dec c diner e dec l flysafair dec intl trans f c studio moma dec c caltex fact dec c caltex fair dec woolworths dec c caltex fair dec c bp luipaard dec fee pre pay top fee bank atm intl trans f uber sa gauteng zaf h pnp liq fernd dec c total ra dec hertz rent dec c pnp family dec uber sa hel dec c sweet treat dec c h roseban dec mcd victory p dec uber sa gauteng zaf h fee pos decline insuff fund uber sa gauteng zaf h overdraft interest excess interest c bms intersi dec c foodlovers dec uber sa hel dec c decofurn sp dec c pearl vill dec c engen fairy dec c engen hippo dec c city late dec pnp hpr prosp dec c rhapsodys l dec woolworths dec hertz rent dec c pnp hpr pro dec c engen hippo dec wesbank fi game dionw telkommobi speccreditfevertree overdraft service fee fix monthly fee nokwanda sifiso iwyze prm sbsanaedo netflix com dec sasol ferndale sasol ferndale sasol ferndale checker bram fischer ucount intl trans f bootlegger ferndale pnp express l jan uber sa hel jan bolt eu jan u payfast coo jan intl trans f checker bram jan bolt eu jan intl trans f whc ta dept surger whc department surgery bolt eu jan intl trans f bolt eu jan dischem park station intl trans f c liquor city jan c caltex fair jan bolt eu jan c us powerspo jan intl trans f uber sa hel jan vod prepay fee pre pay top vod prepay fee pre pay top checker bram jan c engen conra jan c engen paard jan mr food z jan vod prepay fee pre pay top seattle rennie house c caltex fair jan spotifyza stockholm sen h liquorshop br jan vod prepay fee pre pay top vod prepay fee pre pay top c total ra jan vod prepay fee pre pay top flm rennie house eater spotifyza stockholm sen h c wimpy key w jan c engen prote jan spotifyza stockholm sen h overdraft interest excess interest bank app prepay purchase vodacom sms notification fee sms notification fee pick n pay birchleigh card sms notification fee sms notification fee pick n pay birchleigh card purchase cash r pep store card till cash withdrawal fee gautrain rhodesfield gauteng card interest receive sms notification fee monthly account admin fee click birchleigh card engen kempton park card online purchase computicket victory park card sms notification fee purchase cash r pick n pay rustenburg card till cash withdrawal fee woolworths rustenburg card flm rustenburg platinu rustenburg card flm rustenburg platinu rustenburg card sms notification fee spar rustenburg card bank app prepay purchase huang mei import e rustenberg card purchase cash r spar rustenburg card till cash withdrawal fee interest receive monthly account admin fee online purchase amzn digital np h card sms notification fee atm cash withdrawal rustenburg thlabane card atm cash withdrawal fee sms notification fee bank app prepay purchase ta flm rennie house eater braamfontein card bank app prepay purchase ta gautrain rhodesfield gauteng card purchase cash r pep store kempton park card till cash withdrawal fee gautrain park tvm gauteng card atm cash withdrawal dnr jnb braamfontein card atm cash withdrawal fee sms notification fee gautrain rhodesfield gauteng card bank app prepay purchase ta sms notification fee bank app prepay purchase mtn sms notification fee bank app cash send c cash send fee sms notification fee flm rennie house eater braamfontein card interest receive sms notification fee monthly account admin fee flm rennie house eater braamfontein card gautrain rhodesfield gauteng card sms notification fee gautrain park tvm gauteng card gautrain rhodesfield gauteng card gautrain park tvm gauteng card eig hostgator honfee r eig hostg game fin carry forward bring forward tithe ommaxperls gb linkage fee explore software vat r tax free save account regensys dstv interest rent maintenance fee cross border checker colum click columbi flm rennie hou explore stockvel airtime w airtime carry forward bring forward airtime w airtime airtime w airtime nedbank send imali airtime w airtime chicken licken carry forward provisional statement bring forward withdrawal facebook hostgator facebk ar eig hostgator nedbank send imali cross border checker colum sasol oakdene click columbi airtime w airtime airtime w airtime interest recieved credit interest payment withdrawal notification sms fee payment withdrawal notification sms fee payment withdrawal notification sms fee payment withdrawal notification sms fee pos purchase woolworths campus squarjohannesburg za pos purchase click campus squarjohannesburg za airtime purchase mtn pos purchase parktown convenience ceparktown za pos purchase makro crownmines crown mine za instant payment pos purchase uber sa help uber com johannesburg inter account tranfer recieved atm withdrawal airtime purchase mtn inter account tranfer recieved payment withdrawal notification sms fee instant payment bank app transfer author network atm cash withdrawal fnb ssc atm card cash withdrawal fee atm sms notification fee flm rennie house eater braamfontein card bank app transfer author network sms notification fee flm rennie house eater braamfontein card bank app prepay purchase cellc bank app prepay purchase cellc bank app transfer author network atm cash withdrawal fnb ssc atm card cash withdrawal fee atm sms notification fee flm rennie house eater braamfontein card flm rennie house eater braamfontein card flm rennie house eater braamfontein card bank app transfer author network atm cash withdrawal fnb ssc atm card cash withdrawal fee atm sms notification fee atm cash deposit cash dep dnr vryburg cash deposit fee note atm cash withdrawal jnb braamfontein atm cash withdrawal fee sms notification fee payment receive explore software transfer sms notification fee atm cash withdrawal jhb glen card airtime debit notific fee sms overseas purchase atm withdrawal jorrisen ibank payment pb reward absa bank ibank payment pos purchase bp fill sta pos purchase bp fill sta acb debit external virgin act management fee',\n",
              " 'mtn data bundle apple com bill cork ie parkhurst hardware parkhurst za seattle rennies house johannesburg za flm rennie house eater braamfontein za flm rennie house eater braamfontein za flm rennie house eater braamfontein za flm rennie house eater braamfontein za seattle rennies house johannesburg za flm rennie house eater braamfontein za property rondebosch za seattle rennies house johannesburg za flm rennie house eater braamfontein za flm rennie house eater braamfontein za investecpb apple com bill itunes com ie bloom coffee studio cape town za seattle rennies house johannesburg za flm rennie house eater braamfontein za investecpb admed admed taxassist netcash seattle rennies house johannesburg za flm rennie house eater braamfontein za flm rennie house eater braamfontein za bolton rd collection parkview za virgin act rent levy mtn sp disc prem discovery vir atl vir atl gb amzn digital ch w kv us foundry cafe parktown nort za seattle rennies house johannesburg za flm rennie house eater braamfontein za moregolf pmg curr outsurance ot fz seattle rennies house johannesburg za atmsol termloc fu bruma za rent rent merchant place sandton za jetline hydepark johannesburg za fego cafe rmb sandton za seattle rennies house johannesburg za absa bank neom long rent motherland coffee compan sandton za motherland coffee compan sandton za pool team craighall craighall za bloom coffee studio cape town za bloom coffee studio cape town za seattle rennies house johannesburg za seattle rennies house johannesburg za flm rennie house eater braamfontein za budget vap jan prem amzn digital l ci z us flm rennie house eater braamfontein za intellepark rosebank za mtn data bundle tshifhiwa rent minty sasol rosebank parkwood za seattle rennies house johannesburg za woolworths parktown qua johannesburg za hours vet clinic parktown nort za uber sa hel jul uber sa hel jul shell champion uber sa gauteng zaf h checker bram fischer bolt eu jul bolt eu jul vod prepay fee pre pay top vod prepay fee pre pay top intl trans f intl trans f reblake wesbank fi wesbank fi nsiki karen steelsmith plan ib transfer liquorshop bram fische theunlimited aup fee e comm speccreditfevertree telkommobi overdraft service fee fix monthly fee iwyze prm sbsanaedo uber sa hel jul uber sa hel jul ucount uber sa hel jul c bp ontdekke aug uber sa hel jul bolt eu jul bolt eu jul uber sa hel jul uber sa hel jul intl trans f intl trans f fee bank atm xai xai lounge c sorbet nail aug bolt eu aug uber sa hel aug bp hans strydom intl trans f u takealot co aug c melville co aug uber sa hel aug u payfast coo aug uber sa hel aug uber sa hel aug uber sa hel aug uber sa hel aug uber sa hel aug uber sa hel aug uber sa hel aug c xai xai lou aug uber sa hel aug uber sa hel aug c click cant aug uber sa hel aug uber sa hel aug c hell kitc aug uber sa hel aug uber sa hel aug uber sa hel aug uber sa hel aug uber sa hel aug bolt eu aug checker bram fischer intl trans f vod prepay fee pre pay top uber sa hel aug uber sa hel aug bolt eu aug uber sa hel aug uber sa hel aug uber sa hel aug vod prepay fee pre pay top intl trans f uber sa gauteng zaf h pnp exp ha randburg zaf h uber sa hel aug u takealot aug uber sa gauteng zaf h uber sa gauteng zaf h uber sa hel aug uber sa hel aug uber sa hel aug uber sa hel aug uber sa hel aug uber sa gauteng zaf h fee e comm c kbs coffee aug fee e comm fee e comm c caltex fact aug uber sa gauteng zaf h fee e comm uber sa gauteng zaf h uber sa gauteng zaf h woolworths aug checker b sb zaf h checker b sb zaf h checker b sb zaf h c caltex fact aug c caltex facto fee e comm pnp exp linden park checker bram fischer fee e comm fee e comm u payfast aug pnp express h aug vod prepay fee pre pay top smokers deli melville vod prepay fee pre pay top overdraft interest bolt eu tallinn zaf h bolt eu tallinn zaf h uber sa hel aug vod prepay fee pre pay top vod prepay fee pre pay top vod prepay fee pre pay top wesbank fi bolt eu aug pnp express h aug c bp hans str aug nsiki vod prepay fee pre pay top karen steelsmith liquor city melville moyo zoo lake pty lt liquorshop bram fische theunlimited aup intl trans f vod prepay fee pre pay top wesbank fi bolt eu aug bolt eu aug uber sa hel aug bolt eu aug bolt eu aug speccreditfevertree intl trans f intl trans f intl trans f intl trans f telkommobi overdraft service fee fix monthly fee momma liquorshop bram fische iwyze prm sbsanaedo uber sa hel aug liquorshop br aug uber sa hel aug ucount netflix com aug uber sa hel aug uber sa hel aug total ra william nicol intl trans f u takealot co sep uber sa hel sep bolt eu sep fee e comm intl trans f u payfast coo sep uber sa hel sep pnp exp ha randburg zaf h pnp express h sep vod prepay fee pre pay top uber sa help sep c chamdor ser sep uber sa help sep vod prepay fee pre pay top uber sa hel sep uber sa hel sep vod prepay fee pre pay top c eleven fa sep uber eat sep vod prepay fee pre pay top uber sa hel sep vod prepay fee pre pay top uber sa hel sep uber sa hel sep six restau johannesburg zaf uber sa gauteng zaf h uber sa hel sep bolt eu sep uber sa gauteng zaf h intl trans f uber sa hel sep uber sa hel sep c six restaur sep spotifyza stockholm sen h uber sa hel sep pnp express h sep spotifyza stockholm sen h spotifyza stockholm sen h overdraft interest excess interest checker bram fischer uber sa hel sep reblake wesbank fi wesbank fi theunlimited aup uber sa hel sep spotifyza sep karen steelsmith vod prepay fee pre pay top speccreditfevertree intl trans f telkommobi overdraft service fee fix monthly fee sbsanaedo iwyze prm uber sa hel sep netflix com sep uber sa hel sep baby momma intl trans f ucount c caltex fact oct uber sa hel sep uber sa hel sep uber sa hel sep uber sa hel sep c dukes burge sep uber sa hel sep c ballbreaker sep c pg glass fo sep claassen claassen claassen claassen train uber sa hel sep uber sa hel sep uber sa hel oct uber sa hel oct u payfast coo oct uber sa hel oct uber sa hel oct uber sa hel oct fee bank atm uber sa hel oct uber sa hel oct uber sa hel oct uber sa hel oct c cltx ruhama oct uber sa hel oct uber sa hel oct uber sa hel oct sasol randburg uber sa hel oct uber sa hel oct c caltex wate oct c bp hans str oct uber sa hel oct uber sa hel oct pnp express h oct uber sa hel oct uber sa hel oct uber sa hel oct nsiki uber sa hel oct uber sa hel oct uber sa hel oct uber sa hel oct checker bram fischer liquorshop bram fische vod prepay fee pre pay top c caltex fair oct uber sa hel oct uber sa hel oct uber sa hel oct uber sa hel oct uber sa hel oct uber sa hel oct c kfc keywest oct uber sa hel oct spotifyza stockholm sen h fee pos decline insuff fund uber sa gauteng zaf h uber sa hel oct uber sa gauteng zaf h uber sa hel oct spotifyza stockholm sen h c bp hans str oct uber sa hel oct uber sa hel oct uber sa hel oct vod prepay fee pre pay top overdraft interest excess interest c caltex fair oct spotifyza oct intl trans f c bp hans str oct c caltex fair oct c engen paard oct baby pnp express h oct wesbank fi reblake wesbank fi uber sa help oct mr food oct c engen paard oct karen landlord vee claassen claassen management checker bram fischer engen william nicol telkommobi theunlimited aup speccreditfevertree overdraft service fee fix monthly fee karen landlord claassen claassen trainin iwyze prm c checker br oct netflix com oct c pnp liq fer oct uber sa hel oct ucount intl trans f uber sa hel oct uber sa hel oct uber sa hel nov uber sa hel oct flm rennie ho nov flm rennie house eater r checker checker bram fischer uber sa hel nov c kitcheners nov uber sa hel nov c hell kitc nov uber sa hel nov c kitcheners nov uber sa hel nov pnp express h nov bolt eu ou bolt eu ou pnp express l nov liquorshop br nov uber sa hel nov intl trans f intl trans f uber sa hel nov c bp ridge wo nov uber sa hel nov mr food nov r pnp fam liquorshop br nov bolt eu ou pnp express h nov c liquor city nov intl trans f bolt eu ou nov c sasol n n nov intl trans f uber sa hel nov u payfast coo nov c engen paard nov c postnet bra nov flm rennie house eater flm rennie house eater uber sa gauteng zaf h bolt eu nov rsmio resume nov bolt eu nov uberbv help uber co nld h uber sa gauteng zaf h intl trans f intl trans f intl trans f c postnet bra nov uber sa hel nov vod prepay fee pre pay top uber sa hel nov spotifyza nov uber sa hel nov woolworths nov bolt eu nov vod prepay fee pre pay top intl trans f intl trans f mr food z nov uber sa hel nov c engen taher nov bolt eu nov vod prepay fee pre pay top intl trans f bolt eu nov rsmio resume nov bolt eu nov checker bram fischer uber sa gauteng zaf h intl trans f intl trans f intl trans f liquorshop bram fische c liquorshop nov c liquorshop nov bolt eu tallinn zaf h bolt eu tallinn zaf h uber sa gauteng zaf h uberbv help uber co nld h bolt eu tallinn zaf h mr price fern nov pnp liq fernd nov c liquorshop nov flm rennie house eater overdraft interest excess interest bolt eu nov bolt eu nov vod prepay fee pre pay top doppio zer cradlestone zaf intl trans f intl trans f bolt eu nov seattle rennie house intl trans f bolt eu nov uber sa hel nov c sasol r w nov liquorshop bram fische flm rennie house eater intl trans f wesbank fi c doppio zero nov c caltex welt nov bolt eu nov theunlimited aup intl trans f cafe caltex motorserve hell kitchen hell kitchen xai xai lounge wesbank fi bolt eu nov c studio moma nov checker fern nov c checker fe nov bolt eu nov uber sa hel nov top robindale karen landlord r checker vod prepay fee pre pay top intl trans f telkommobi speccreditfevertree intl trans f overdraft service fee fix monthly fee karen landlord magalies vulstasie top magalies spar magalies supr spa sbsanaedo iwyze prm bolt eu nov c bp luipaard nov bolt eu nov bolt eu nov bolt eu nov bolt eu nov c loco liquor nov uber sa hel nov netflix com nov c codf nov pnp exp linden park seattle rennie house intl trans f intl trans f ucount intl trans f intl trans f intl trans f intl trans f uber sa hel nov uber sa hel nov bolt eu dec c caltex fair nov uber sa hel nov c shell parkh nov bolt eu dec uber sa hel nov uber sa hel nov baby intl trans f intl trans f uber sa hel dec uber sa hel dec bolt eu dec bolt eu dec l flysafair dec uber sa hel dec uber sa hel dec uber sa hel dec liquorshop br nov u takealot dec intl trans f intl trans f bolt eu dec mango airli dec u takealot dec bolt eu dec fee bank atm intl trans f intl trans f loco liquore dec liquorshop br dec frg nbastore dec atm cash decline bal provide intl trans f hell kitchen c h clearwa dec spar robindal dec c cltx water dec bolt eu dec caltex fairla dec khaliques oriental pla intl trans f bolt eu dec uber sa hel dec bolt eu tallinn zaf h bolt eu tallinn zaf h intl trans f bolt eu dec bolt eu dec uber sa hel dec uberbv help uber co nld h bolt eu tallinn zaf h payfast eft intl trans f intl trans f rental avis rent johannesburg zaf avis rent johannesburg zaf game gateway circus circus shell uc south bind vod prepay fee pre pay top san lameer country wesbnknaed uber sa hel dec uberbv help uber co nld h spotifyza stockholm sen h theunlimited aup vod prepay fee pre pay top vod prepay fee pre pay top dr mokitimi vee budget spotifyza dec vod prepay fee pre pay top vod prepay fee pre pay top intl trans f baby fee bank atm rsmio resume dec c diner e dec l flysafair dec intl trans f c studio moma dec c caltex fact dec c caltex fair dec woolworths dec c caltex fair dec c bp luipaard dec fee pre pay top fee bank atm intl trans f uber sa gauteng zaf h pnp liq fernd dec c total ra dec hertz rent dec c pnp family dec uber sa hel dec c sweet treat dec c h roseban dec mcd victory p dec uber sa gauteng zaf h fee pos decline insuff fund uber sa gauteng zaf h overdraft interest excess interest c bms intersi dec c foodlovers dec uber sa hel dec c decofurn sp dec c pearl vill dec c engen fairy dec c engen hippo dec c city late dec pnp hpr prosp dec c rhapsodys l dec woolworths dec hertz rent dec c pnp hpr pro dec c engen hippo dec wesbank fi game dionw telkommobi speccreditfevertree overdraft service fee fix monthly fee nokwanda sifiso iwyze prm sbsanaedo netflix com dec sasol ferndale sasol ferndale sasol ferndale checker bram fischer ucount intl trans f bootlegger ferndale pnp express l jan uber sa hel jan bolt eu jan u payfast coo jan intl trans f checker bram jan bolt eu jan intl trans f whc ta dept surger whc department surgery bolt eu jan intl trans f bolt eu jan dischem park station intl trans f c liquor city jan c caltex fair jan bolt eu jan c us powerspo jan intl trans f uber sa hel jan vod prepay fee pre pay top vod prepay fee pre pay top checker bram jan c engen conra jan c engen paard jan mr food z jan vod prepay fee pre pay top seattle rennie house c caltex fair jan spotifyza stockholm sen h liquorshop br jan vod prepay fee pre pay top vod prepay fee pre pay top c total ra jan vod prepay fee pre pay top flm rennie house eater spotifyza stockholm sen h c wimpy key w jan c engen prote jan spotifyza stockholm sen h overdraft interest excess interest bank app prepay purchase vodacom sms notification fee sms notification fee pick n pay birchleigh card sms notification fee sms notification fee pick n pay birchleigh card purchase cash r pep store card till cash withdrawal fee gautrain rhodesfield gauteng card interest receive sms notification fee monthly account admin fee click birchleigh card engen kempton park card online purchase computicket victory park card sms notification fee purchase cash r pick n pay rustenburg card till cash withdrawal fee woolworths rustenburg card flm rustenburg platinu rustenburg card flm rustenburg platinu rustenburg card sms notification fee spar rustenburg card bank app prepay purchase huang mei import e rustenberg card purchase cash r spar rustenburg card till cash withdrawal fee interest receive monthly account admin fee online purchase amzn digital np h card sms notification fee atm cash withdrawal rustenburg thlabane card atm cash withdrawal fee sms notification fee bank app prepay purchase ta flm rennie house eater braamfontein card bank app prepay purchase ta gautrain rhodesfield gauteng card purchase cash r pep store kempton park card till cash withdrawal fee gautrain park tvm gauteng card atm cash withdrawal dnr jnb braamfontein card atm cash withdrawal fee sms notification fee gautrain rhodesfield gauteng card bank app prepay purchase ta sms notification fee bank app prepay purchase mtn sms notification fee bank app cash send c cash send fee sms notification fee flm rennie house eater braamfontein card interest receive sms notification fee monthly account admin fee flm rennie house eater braamfontein card gautrain rhodesfield gauteng card sms notification fee gautrain park tvm gauteng card gautrain rhodesfield gauteng card gautrain park tvm gauteng card eig hostgator honfee r eig hostg game fin carry forward bring forward tithe ommaxperls gb linkage fee explore software vat r tax free save account regensys dstv interest rent maintenance fee cross border checker colum click columbi flm rennie hou explore stockvel airtime w airtime carry forward bring forward airtime w airtime airtime w airtime nedbank send imali airtime w airtime chicken licken carry forward provisional statement bring forward withdrawal facebook hostgator facebk ar eig hostgator nedbank send imali cross border checker colum sasol oakdene click columbi airtime w airtime airtime w airtime interest recieved credit interest payment withdrawal notification sms fee payment withdrawal notification sms fee payment withdrawal notification sms fee payment withdrawal notification sms fee pos purchase woolworths campus squarjohannesburg za pos purchase click campus squarjohannesburg za airtime purchase mtn pos purchase parktown convenience ceparktown za pos purchase makro crownmines crown mine za instant payment pos purchase uber sa help uber com johannesburg inter account tranfer recieved atm withdrawal airtime purchase mtn inter account tranfer recieved payment withdrawal notification sms fee instant payment bank app transfer author network atm cash withdrawal fnb ssc atm card cash withdrawal fee atm sms notification fee flm rennie house eater braamfontein card bank app transfer author network sms notification fee flm rennie house eater braamfontein card bank app prepay purchase cellc bank app prepay purchase cellc bank app transfer author network atm cash withdrawal fnb ssc atm card cash withdrawal fee atm sms notification fee flm rennie house eater braamfontein card flm rennie house eater braamfontein card flm rennie house eater braamfontein card bank app transfer author network atm cash withdrawal fnb ssc atm card cash withdrawal fee atm sms notification fee atm cash deposit cash dep dnr vryburg cash deposit fee note atm cash withdrawal jnb braamfontein atm cash withdrawal fee sms notification fee payment receive explore software transfer sms notification fee atm cash withdrawal jhb glen card airtime debit notific fee sms overseas purchase atm withdrawal jorrisen ibank payment pb reward absa bank ibank payment pos purchase bp fill sta pos purchase bp fill sta acb debit external virgin act management fee']"
            ]
          },
          "metadata": {
            "tags": []
          },
          "execution_count": 53
        }
      ]
    },
    {
      "cell_type": "code",
      "metadata": {
        "id": "lTU8vluaJymR",
        "colab_type": "code",
        "outputId": "3f20e00d-81df-46cf-c88e-bf17052f5b2b",
        "colab": {
          "base_uri": "https://localhost:8080/",
          "height": 884
        }
      },
      "source": [
        "\n",
        "# Create Ranked Statistical Features with TfidfVectorizer, best choice because insignificant words recieve a lower rank\n",
        "obj = TfidfVectorizer()\n",
        "final_features = obj.fit_transform(new_features)\n",
        "print(final_features[0])"
      ],
      "execution_count": 54,
      "outputs": [
        {
          "output_type": "stream",
          "text": [
            "  (0, 119)\t0.0025916913455350794\n",
            "  (0, 1)\t0.0025916913455350794\n",
            "  (0, 376)\t0.005183382691070159\n",
            "  (0, 138)\t0.005183382691070159\n",
            "  (0, 334)\t0.0025916913455350794\n",
            "  (0, 291)\t0.0025916913455350794\n",
            "  (0, 182)\t0.005183382691070159\n",
            "  (0, 201)\t0.0025916913455350794\n",
            "  (0, 280)\t0.0025916913455350794\n",
            "  (0, 265)\t0.0025916913455350794\n",
            "  (0, 88)\t0.005183382691070159\n",
            "  (0, 162)\t0.0025916913455350794\n",
            "  (0, 198)\t0.0025916913455350794\n",
            "  (0, 264)\t0.0025916913455350794\n",
            "  (0, 429)\t0.0025916913455350794\n",
            "  (0, 93)\t0.0025916913455350794\n",
            "  (0, 95)\t0.005183382691070159\n",
            "  (0, 50)\t0.005183382691070159\n",
            "  (0, 375)\t0.007775074036605239\n",
            "  (0, 145)\t0.007775074036605239\n",
            "  (0, 259)\t0.010366765382140318\n",
            "  (0, 17)\t0.010366765382140318\n",
            "  (0, 408)\t0.005183382691070159\n",
            "  (0, 189)\t0.005183382691070159\n",
            "  (0, 186)\t0.005183382691070159\n",
            "  :\t:\n",
            "  (0, 67)\t0.015550148073210477\n",
            "  (0, 26)\t0.007775074036605239\n",
            "  (0, 194)\t0.0025916913455350794\n",
            "  (0, 193)\t0.005183382691070159\n",
            "  (0, 341)\t0.0025916913455350794\n",
            "  (0, 312)\t0.0025916913455350794\n",
            "  (0, 35)\t0.05960890094730683\n",
            "  (0, 109)\t0.06997566632944714\n",
            "  (0, 327)\t0.08293412305712254\n",
            "  (0, 143)\t0.08034243171158746\n",
            "  (0, 200)\t0.04405875287409635\n",
            "  (0, 177)\t0.10625934516693826\n",
            "  (0, 328)\t0.028508604800885875\n",
            "  (0, 355)\t0.03628367883749111\n",
            "  (0, 443)\t0.11921780189461366\n",
            "  (0, 165)\t0.0025916913455350794\n",
            "  (0, 284)\t0.005183382691070159\n",
            "  (0, 183)\t0.005183382691070159\n",
            "  (0, 78)\t0.0025916913455350794\n",
            "  (0, 23)\t0.005183382691070159\n",
            "  (0, 71)\t0.023325222109815715\n",
            "  (0, 10)\t0.005183382691070159\n",
            "  (0, 40)\t0.005183382691070159\n",
            "  (0, 87)\t0.005183382691070159\n",
            "  (0, 252)\t0.015550148073210477\n"
          ],
          "name": "stdout"
        }
      ]
    },
    {
      "cell_type": "code",
      "metadata": {
        "id": "ND3QYR2tWE-c",
        "colab_type": "code",
        "colab": {}
      },
      "source": [
        "\n",
        "# split the train set to create a validation set\n",
        "X_train, X_test, y_train, y_test = train_test_split(final_features, y, test_size=0.30)\n"
      ],
      "execution_count": 0,
      "outputs": []
    },
    {
      "cell_type": "code",
      "metadata": {
        "id": "IeCUrIbgjPOq",
        "colab_type": "code",
        "colab": {}
      },
      "source": [
        "#import model\n",
        "from sklearn.neighbors import KNeighborsClassifier\n",
        "cls = KNeighborsClassifier()"
      ],
      "execution_count": 0,
      "outputs": []
    },
    {
      "cell_type": "code",
      "metadata": {
        "id": "Xsgv52waIVpT",
        "colab_type": "code",
        "outputId": "26db9ce8-790c-40e5-91cf-05f63955a68e",
        "colab": {
          "base_uri": "https://localhost:8080/",
          "height": 68
        }
      },
      "source": [
        "# train initial model\n",
        "cls.fit(X_train, y_train)"
      ],
      "execution_count": 57,
      "outputs": [
        {
          "output_type": "execute_result",
          "data": {
            "text/plain": [
              "KNeighborsClassifier(algorithm='auto', leaf_size=30, metric='minkowski',\n",
              "                     metric_params=None, n_jobs=None, n_neighbors=5, p=2,\n",
              "                     weights='uniform')"
            ]
          },
          "metadata": {
            "tags": []
          },
          "execution_count": 57
        }
      ]
    },
    {
      "cell_type": "code",
      "metadata": {
        "id": "Dtpr905LItp5",
        "colab_type": "code",
        "colab": {}
      },
      "source": [
        "# Making the predictions\n",
        "pred1 = cls.predict(X_test)"
      ],
      "execution_count": 0,
      "outputs": []
    },
    {
      "cell_type": "code",
      "metadata": {
        "id": "zFTRMdibcMVj",
        "colab_type": "code",
        "outputId": "b07b2b8c-5eaa-45c4-eadc-fafb341c89ce",
        "colab": {
          "base_uri": "https://localhost:8080/",
          "height": 394
        }
      },
      "source": [
        "# performance matrics and model eveluation using sklearn.metrics inbuilt classification metric\n",
        "print(classification_report(y_test, pred1))"
      ],
      "execution_count": 59,
      "outputs": [
        {
          "output_type": "stream",
          "text": [
            "                         precision    recall  f1-score   support\n",
            "\n",
            "          communication       0.00      0.00      0.00        26\n",
            "              education       0.00      0.00      0.00         3\n",
            "entertainment & eat out       0.00      0.00      0.00        48\n",
            "                   fees       0.00      0.00      0.00        59\n",
            "                   food       0.00      0.00      0.00        12\n",
            "      gifts & donations       0.02      1.00      0.04         6\n",
            "                   home       0.00      0.00      0.00        10\n",
            "        life and health       0.00      0.00      0.00         8\n",
            "                  other       0.00      0.00      0.00         7\n",
            "  saving and investment       0.00      0.00      0.00         3\n",
            "      short-term credit       0.00      0.00      0.00        10\n",
            "              transport       0.00      0.00      0.00        91\n",
            "\n",
            "               accuracy                           0.02       283\n",
            "              macro avg       0.00      0.08      0.00       283\n",
            "           weighted avg       0.00      0.02      0.00       283\n",
            "\n"
          ],
          "name": "stdout"
        },
        {
          "output_type": "stream",
          "text": [
            "/usr/local/lib/python3.6/dist-packages/sklearn/metrics/_classification.py:1272: UndefinedMetricWarning: Precision and F-score are ill-defined and being set to 0.0 in labels with no predicted samples. Use `zero_division` parameter to control this behavior.\n",
            "  _warn_prf(average, modifier, msg_start, len(result))\n"
          ],
          "name": "stderr"
        }
      ]
    },
    {
      "cell_type": "markdown",
      "metadata": {
        "id": "8t7UXlDQ7PFJ",
        "colab_type": "text"
      },
      "source": [
        "# submission"
      ]
    },
    {
      "cell_type": "code",
      "metadata": {
        "id": "phCBVPNM7N2M",
        "colab_type": "code",
        "colab": {}
      },
      "source": [
        "# save predictions\n",
        "submission = pd.DataFrame({'description' : features2[X_train.shape[0]:],'category' : pred1.ravel()}) "
      ],
      "execution_count": 0,
      "outputs": []
    },
    {
      "cell_type": "code",
      "metadata": {
        "id": "7x6eqGzi7iTH",
        "colab_type": "code",
        "outputId": "82dd1587-0a1b-4b69-a368-b787b152c7dc",
        "colab": {
          "base_uri": "https://localhost:8080/",
          "height": 204
        }
      },
      "source": [
        "submission.head()"
      ],
      "execution_count": 75,
      "outputs": [
        {
          "output_type": "execute_result",
          "data": {
            "text/html": [
              "<div>\n",
              "<style scoped>\n",
              "    .dataframe tbody tr th:only-of-type {\n",
              "        vertical-align: middle;\n",
              "    }\n",
              "\n",
              "    .dataframe tbody tr th {\n",
              "        vertical-align: top;\n",
              "    }\n",
              "\n",
              "    .dataframe thead th {\n",
              "        text-align: right;\n",
              "    }\n",
              "</style>\n",
              "<table border=\"1\" class=\"dataframe\">\n",
              "  <thead>\n",
              "    <tr style=\"text-align: right;\">\n",
              "      <th></th>\n",
              "      <th>description</th>\n",
              "      <th>category</th>\n",
              "    </tr>\n",
              "  </thead>\n",
              "  <tbody>\n",
              "    <tr>\n",
              "      <th>0</th>\n",
              "      <td>VEE 401509249</td>\n",
              "      <td>gifts &amp; donations</td>\n",
              "    </tr>\n",
              "    <tr>\n",
              "      <th>1</th>\n",
              "      <td>BUDGET2019</td>\n",
              "      <td>gifts &amp; donations</td>\n",
              "    </tr>\n",
              "    <tr>\n",
              "      <th>2</th>\n",
              "      <td>SPOTIFYZA 5326*9249 20 DEC</td>\n",
              "      <td>gifts &amp; donations</td>\n",
              "    </tr>\n",
              "    <tr>\n",
              "      <th>3</th>\n",
              "      <td>VOD PREPAID 0825197505</td>\n",
              "      <td>gifts &amp; donations</td>\n",
              "    </tr>\n",
              "    <tr>\n",
              "      <th>4</th>\n",
              "      <td>FEE - PRE-PAID TOP UP</td>\n",
              "      <td>gifts &amp; donations</td>\n",
              "    </tr>\n",
              "  </tbody>\n",
              "</table>\n",
              "</div>"
            ],
            "text/plain": [
              "                  description           category\n",
              "0               VEE 401509249  gifts & donations\n",
              "1                  BUDGET2019  gifts & donations\n",
              "2  SPOTIFYZA 5326*9249 20 DEC  gifts & donations\n",
              "3      VOD PREPAID 0825197505  gifts & donations\n",
              "4       FEE - PRE-PAID TOP UP  gifts & donations"
            ]
          },
          "metadata": {
            "tags": []
          },
          "execution_count": 75
        }
      ]
    },
    {
      "cell_type": "code",
      "metadata": {
        "id": "QIYIILJR7llA",
        "colab_type": "code",
        "colab": {}
      },
      "source": [
        "# submission.to_sql('NLP_model_results', con=connection, if_exists='append', index=False,method='multi',chunksize=500)\n"
      ],
      "execution_count": 0,
      "outputs": []
    }
  ]
}