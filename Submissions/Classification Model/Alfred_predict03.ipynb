{
  "nbformat": 4,
  "nbformat_minor": 0,
  "metadata": {
    "kernelspec": {
      "name": "python3",
      "display_name": "Python 3"
    },
    "language_info": {
      "codemirror_mode": {
        "name": "ipython",
        "version": 3
      },
      "file_extension": ".py",
      "mimetype": "text/x-python",
      "name": "python",
      "nbconvert_exporter": "python",
      "pygments_lexer": "ipython3",
      "version": "3.7.4"
    },
    "colab": {
      "name": "Alfred_predict03.ipynb",
      "provenance": [],
      "collapsed_sections": [],
      "include_colab_link": true
    },
    "accelerator": "TPU"
  },
  "cells": [
    {
      "cell_type": "markdown",
      "metadata": {
        "id": "view-in-github",
        "colab_type": "text"
      },
      "source": [
        "<a href=\"https://colab.research.google.com/github/alphoenixbiz/AlphaCode-EXPLORE/blob/master/Submissions/Classification%20Model/Alfred_predict03.ipynb\" target=\"_parent\"><img src=\"https://colab.research.google.com/assets/colab-badge.svg\" alt=\"Open In Colab\"/></a>"
      ]
    },
    {
      "cell_type": "code",
      "metadata": {
        "id": "QsjAEOQPjPOE",
        "colab_type": "code",
        "colab": {}
      },
      "source": [
        "import numpy as np\n",
        "import pandas as pd\n",
        "from matplotlib import pyplot as plt\n",
        "import datetime\n",
        "import seaborn as sns\n",
        "import pickle\n",
        "from sklearn.metrics import accuracy_score, f1_score\n",
        "from sklearn.metrics import precision_score, recall_score\n",
        "from sklearn.model_selection import train_test_split\n",
        "from sklearn import metrics\n",
        "from sklearn.preprocessing import StandardScaler\n",
        "from sklearn.preprocessing import LabelEncoder\n",
        "from sklearn.metrics import classification_report\n",
        "%matplotlib inline\n",
        "from sklearn.utils import resample\n",
        "import re\n",
        "import nltk\n",
        "from nltk import TreebankWordTokenizer\n",
        "from sklearn.linear_model import LogisticRegressionCV\n",
        "from sklearn.multiclass import OneVsRestClassifier\n",
        "from sklearn.feature_extraction.text import TfidfVectorizer\n",
        "from sklearn.feature_extraction.text import CountVectorizer\n",
        "from sklearn.metrics import mean_squared_error, r2_score"
      ],
      "execution_count": 0,
      "outputs": []
    },
    {
      "cell_type": "markdown",
      "metadata": {
        "id": "9ZQMoI8ZjPOK",
        "colab_type": "text"
      },
      "source": [
        "### Install SQL Alchemy"
      ]
    },
    {
      "cell_type": "code",
      "metadata": {
        "id": "XGIeNU8rjPOL",
        "colab_type": "code",
        "outputId": "b5b5bb2c-3e72-4af7-8ead-fc88d4e46545",
        "colab": {
          "base_uri": "https://localhost:8080/",
          "height": 51
        }
      },
      "source": [
        "!pip install sqlalchemy\n",
        "!pip install pymssql"
      ],
      "execution_count": 0,
      "outputs": [
        {
          "output_type": "stream",
          "text": [
            "Requirement already satisfied: sqlalchemy in /usr/local/lib/python3.6/dist-packages (1.3.13)\n",
            "Requirement already satisfied: pymssql in /usr/local/lib/python3.6/dist-packages (2.1.4)\n"
          ],
          "name": "stdout"
        }
      ]
    },
    {
      "cell_type": "markdown",
      "metadata": {
        "id": "GtF3e1b_jPOQ",
        "colab_type": "text"
      },
      "source": [
        "### Import packages"
      ]
    },
    {
      "cell_type": "code",
      "metadata": {
        "id": "Es_nLyyDjPOR",
        "colab_type": "code",
        "colab": {}
      },
      "source": [
        "import sqlalchemy as sa\n",
        "import pandas as pd\n",
        "from sqlalchemy import create_engine"
      ],
      "execution_count": 0,
      "outputs": []
    },
    {
      "cell_type": "markdown",
      "metadata": {
        "id": "DMnNIYjZjPOU",
        "colab_type": "text"
      },
      "source": [
        "### Create a connection to our database"
      ]
    },
    {
      "cell_type": "code",
      "metadata": {
        "id": "-K06tSuEjPOV",
        "colab_type": "code",
        "colab": {}
      },
      "source": [
        "Username = 'admin'\n",
        "Password = 'amazing_people'\n",
        "Host = 'alphacode-explore.ccwgqdqrrmvt.eu-west-1.rds.amazonaws.com'\n",
        "Port = '1433'\n",
        "Database = 'Alfred'"
      ],
      "execution_count": 0,
      "outputs": []
    },
    {
      "cell_type": "markdown",
      "metadata": {
        "id": "YKh6S4sxjPOX",
        "colab_type": "text"
      },
      "source": [
        "### Create connection"
      ]
    },
    {
      "cell_type": "code",
      "metadata": {
        "id": "mzwv9qXEjPOY",
        "colab_type": "code",
        "colab": {}
      },
      "source": [
        "connection = create_engine(\n",
        "    'mssql+pymssql://' +\n",
        "    Username + ':' + Password + '@' + Host + ':' + Port + '/' + Database\n",
        ")"
      ],
      "execution_count": 0,
      "outputs": []
    },
    {
      "cell_type": "code",
      "metadata": {
        "id": "DQBaiOWnTitQ",
        "colab_type": "code",
        "colab": {}
      },
      "source": [
        "# from google.colab import drive \n",
        "# drive.mount('/content/gdrive')"
      ],
      "execution_count": 0,
      "outputs": []
    },
    {
      "cell_type": "code",
      "metadata": {
        "id": "5AHN644vQs6y",
        "colab_type": "code",
        "colab": {}
      },
      "source": [
        "# BankStatements = pd.read_csv(\"gdrive/My Drive/Colab Notebooks/DATA/project_data/BankStatements.csv\")"
      ],
      "execution_count": 0,
      "outputs": []
    },
    {
      "cell_type": "code",
      "metadata": {
        "id": "GuYaSvpAT7er",
        "colab_type": "code",
        "colab": {}
      },
      "source": [
        "# BankStatements.head()"
      ],
      "execution_count": 0,
      "outputs": []
    },
    {
      "cell_type": "code",
      "metadata": {
        "id": "P4HCeTp6T-d4",
        "colab_type": "code",
        "colab": {}
      },
      "source": [
        "# BankStatements.drop(['Unnamed: 6','Unnamed: 7','Unnamed: 8'],inplace=True,axis=1)\n",
        "# BankStatements.head()"
      ],
      "execution_count": 0,
      "outputs": []
    },
    {
      "cell_type": "code",
      "metadata": {
        "id": "MwX2CC91Qklo",
        "colab_type": "code",
        "colab": {}
      },
      "source": [
        "# BankStatements.to_sql('BankStatements', con=connection, if_exists='append', index=False,method='multi',chunksize=500)\n"
      ],
      "execution_count": 0,
      "outputs": []
    },
    {
      "cell_type": "markdown",
      "metadata": {
        "id": "wIJ73mUBjPOb",
        "colab_type": "text"
      },
      "source": [
        "### What is the sql query we want to perform?"
      ]
    },
    {
      "cell_type": "code",
      "metadata": {
        "id": "exrRFZIajPOd",
        "colab_type": "code",
        "colab": {}
      },
      "source": [
        "sql_query1 = \"USE Alfred Select * from BankStatements\""
      ],
      "execution_count": 0,
      "outputs": []
    },
    {
      "cell_type": "markdown",
      "metadata": {
        "id": "0jVj_yP2jPOi",
        "colab_type": "text"
      },
      "source": [
        " ### Using pandas we now take our connection and our query to create a dataframe"
      ]
    },
    {
      "cell_type": "code",
      "metadata": {
        "id": "WjKKphbRjPOj",
        "colab_type": "code",
        "outputId": "1efcfaac-a0bb-4232-b52e-1fd2c967f222",
        "colab": {
          "base_uri": "https://localhost:8080/",
          "height": 204
        }
      },
      "source": [
        "#import the training data\n",
        "train = pd.read_sql_query(sql_query1, connection)\n",
        "train.head()"
      ],
      "execution_count": 0,
      "outputs": [
        {
          "output_type": "execute_result",
          "data": {
            "text/html": [
              "<div>\n",
              "<style scoped>\n",
              "    .dataframe tbody tr th:only-of-type {\n",
              "        vertical-align: middle;\n",
              "    }\n",
              "\n",
              "    .dataframe tbody tr th {\n",
              "        vertical-align: top;\n",
              "    }\n",
              "\n",
              "    .dataframe thead th {\n",
              "        text-align: right;\n",
              "    }\n",
              "</style>\n",
              "<table border=\"1\" class=\"dataframe\">\n",
              "  <thead>\n",
              "    <tr style=\"text-align: right;\">\n",
              "      <th></th>\n",
              "      <th>Transaction Date</th>\n",
              "      <th>Posting Date</th>\n",
              "      <th>Description</th>\n",
              "      <th>Debits</th>\n",
              "      <th>Credits</th>\n",
              "      <th>Category</th>\n",
              "    </tr>\n",
              "  </thead>\n",
              "  <tbody>\n",
              "    <tr>\n",
              "      <th>0</th>\n",
              "      <td>2020/02/10</td>\n",
              "      <td>2020/02/10</td>\n",
              "      <td>MTN DATA BUNDLES</td>\n",
              "      <td>499</td>\n",
              "      <td>None</td>\n",
              "      <td>COMMUNICATION</td>\n",
              "    </tr>\n",
              "    <tr>\n",
              "      <th>1</th>\n",
              "      <td>2020/02/08</td>\n",
              "      <td>2020/02/09</td>\n",
              "      <td>APPLE.COM/BILL CORK IE</td>\n",
              "      <td>74.99</td>\n",
              "      <td>None</td>\n",
              "      <td>ENTERTAINMENT &amp; EAT OUT</td>\n",
              "    </tr>\n",
              "    <tr>\n",
              "      <th>2</th>\n",
              "      <td>2020/02/07</td>\n",
              "      <td>2020/02/09</td>\n",
              "      <td>PARKHURST HARDWARE    RE PARKHURST ZA</td>\n",
              "      <td>75</td>\n",
              "      <td>None</td>\n",
              "      <td>HOME</td>\n",
              "    </tr>\n",
              "    <tr>\n",
              "      <th>3</th>\n",
              "      <td>2020/02/07</td>\n",
              "      <td>2020/02/08</td>\n",
              "      <td>SEATTLE RENNIES HOUSE JOHANNESBURG ZA</td>\n",
              "      <td>31.5</td>\n",
              "      <td>None</td>\n",
              "      <td>ENTERTAINMENT &amp; EAT OUT</td>\n",
              "    </tr>\n",
              "    <tr>\n",
              "      <th>4</th>\n",
              "      <td>2020/02/07</td>\n",
              "      <td>2020/02/08</td>\n",
              "      <td>FLM RENNIE HOUSE EATER BRAAMFONTEIN ZA</td>\n",
              "      <td>29.98</td>\n",
              "      <td>None</td>\n",
              "      <td>ENTERTAINMENT &amp; EAT OUT</td>\n",
              "    </tr>\n",
              "  </tbody>\n",
              "</table>\n",
              "</div>"
            ],
            "text/plain": [
              "  Transaction Date Posting Date  ... Credits                 Category\n",
              "0       2020/02/10   2020/02/10  ...    None            COMMUNICATION\n",
              "1       2020/02/08   2020/02/09  ...    None  ENTERTAINMENT & EAT OUT\n",
              "2       2020/02/07   2020/02/09  ...    None                     HOME\n",
              "3       2020/02/07   2020/02/08  ...    None  ENTERTAINMENT & EAT OUT\n",
              "4       2020/02/07   2020/02/08  ...    None  ENTERTAINMENT & EAT OUT\n",
              "\n",
              "[5 rows x 6 columns]"
            ]
          },
          "metadata": {
            "tags": []
          },
          "execution_count": 382
        }
      ]
    },
    {
      "cell_type": "code",
      "metadata": {
        "id": "q6eQ3CxkW6ez",
        "colab_type": "code",
        "outputId": "87444b49-b354-45a6-d8b3-fa1aa22445e8",
        "colab": {
          "base_uri": "https://localhost:8080/",
          "height": 204
        }
      },
      "source": [
        "train.tail()"
      ],
      "execution_count": 0,
      "outputs": [
        {
          "output_type": "execute_result",
          "data": {
            "text/html": [
              "<div>\n",
              "<style scoped>\n",
              "    .dataframe tbody tr th:only-of-type {\n",
              "        vertical-align: middle;\n",
              "    }\n",
              "\n",
              "    .dataframe tbody tr th {\n",
              "        vertical-align: top;\n",
              "    }\n",
              "\n",
              "    .dataframe thead th {\n",
              "        text-align: right;\n",
              "    }\n",
              "</style>\n",
              "<table border=\"1\" class=\"dataframe\">\n",
              "  <thead>\n",
              "    <tr style=\"text-align: right;\">\n",
              "      <th></th>\n",
              "      <th>Transaction Date</th>\n",
              "      <th>Posting Date</th>\n",
              "      <th>Description</th>\n",
              "      <th>Debits</th>\n",
              "      <th>Credits</th>\n",
              "      <th>Category</th>\n",
              "    </tr>\n",
              "  </thead>\n",
              "  <tbody>\n",
              "    <tr>\n",
              "      <th>938</th>\n",
              "      <td>None</td>\n",
              "      <td>2020-02-02</td>\n",
              "      <td>IBANK PAYMENT</td>\n",
              "      <td>200</td>\n",
              "      <td>None</td>\n",
              "      <td>GIFTS AND DONATIONS</td>\n",
              "    </tr>\n",
              "    <tr>\n",
              "      <th>939</th>\n",
              "      <td>None</td>\n",
              "      <td>2020-02-02</td>\n",
              "      <td>POS PURCHASE               BP Filling Sta</td>\n",
              "      <td>81.6</td>\n",
              "      <td>None</td>\n",
              "      <td>TRANSPORT</td>\n",
              "    </tr>\n",
              "    <tr>\n",
              "      <th>940</th>\n",
              "      <td>None</td>\n",
              "      <td>2020-02-02</td>\n",
              "      <td>POS PURCHASE                   BP Filling Sta</td>\n",
              "      <td>28</td>\n",
              "      <td>None</td>\n",
              "      <td>TRANSPORT</td>\n",
              "    </tr>\n",
              "    <tr>\n",
              "      <th>941</th>\n",
              "      <td>None</td>\n",
              "      <td>2020-02-01</td>\n",
              "      <td>ACB DEBIT:EXTERNAL           VIRGIN ACT</td>\n",
              "      <td>297.5</td>\n",
              "      <td>None</td>\n",
              "      <td>LIFE AND HEALTH</td>\n",
              "    </tr>\n",
              "    <tr>\n",
              "      <th>942</th>\n",
              "      <td>None</td>\n",
              "      <td>2020-02-01</td>\n",
              "      <td>MANAGEMENT FEE</td>\n",
              "      <td>29</td>\n",
              "      <td>None</td>\n",
              "      <td>FEES</td>\n",
              "    </tr>\n",
              "  </tbody>\n",
              "</table>\n",
              "</div>"
            ],
            "text/plain": [
              "    Transaction Date Posting Date  ... Credits             Category\n",
              "938             None   2020-02-02  ...    None  GIFTS AND DONATIONS\n",
              "939             None   2020-02-02  ...    None            TRANSPORT\n",
              "940             None   2020-02-02  ...    None            TRANSPORT\n",
              "941             None   2020-02-01  ...    None      LIFE AND HEALTH\n",
              "942             None   2020-02-01  ...    None                 FEES\n",
              "\n",
              "[5 rows x 6 columns]"
            ]
          },
          "metadata": {
            "tags": []
          },
          "execution_count": 383
        }
      ]
    },
    {
      "cell_type": "code",
      "metadata": {
        "id": "1mI7IraaOYT5",
        "colab_type": "code",
        "colab": {}
      },
      "source": [
        "# #import the test data\n",
        "# test = pd.read_sql_query(sql_query2, connection)\n",
        "# test.head()"
      ],
      "execution_count": 0,
      "outputs": []
    },
    {
      "cell_type": "markdown",
      "metadata": {
        "id": "pUvJ7_9bjPOp",
        "colab_type": "text"
      },
      "source": [
        "# EDA"
      ]
    },
    {
      "cell_type": "code",
      "metadata": {
        "id": "cQVQ6xk-hLPD",
        "colab_type": "code",
        "outputId": "7dca1809-9894-4537-fa56-f95cd559528e",
        "colab": {
          "base_uri": "https://localhost:8080/",
          "height": 119
        }
      },
      "source": [
        "# get the target variable\n",
        "# create our target variables\n",
        "y=train.Category.apply(lambda x: x.lower())\n",
        "y.head()\n"
      ],
      "execution_count": 0,
      "outputs": [
        {
          "output_type": "execute_result",
          "data": {
            "text/plain": [
              "0              communication\n",
              "1    entertainment & eat out\n",
              "2                       home\n",
              "3    entertainment & eat out\n",
              "4    entertainment & eat out\n",
              "Name: Category, dtype: object"
            ]
          },
          "metadata": {
            "tags": []
          },
          "execution_count": 385
        }
      ]
    },
    {
      "cell_type": "code",
      "metadata": {
        "id": "O2z7oxWpO-gC",
        "colab_type": "code",
        "outputId": "affc00e1-bc23-40d9-e9d3-a78d5e3ac538",
        "colab": {
          "base_uri": "https://localhost:8080/",
          "height": 289
        }
      },
      "source": [
        "y.value_counts()"
      ],
      "execution_count": 0,
      "outputs": [
        {
          "output_type": "execute_result",
          "data": {
            "text/plain": [
              "transport                  295\n",
              "fees                       216\n",
              "entertainment & eat out    174\n",
              "communication               68\n",
              "food                        42\n",
              "home                        32\n",
              "other                       28\n",
              "short-term credit           27\n",
              "life and health             19\n",
              "saving and investment       17\n",
              "gifts & donations           15\n",
              "education                    7\n",
              "gifts and donations          1\n",
              "interest                     1\n",
              "income                       1\n",
              "Name: Category, dtype: int64"
            ]
          },
          "metadata": {
            "tags": []
          },
          "execution_count": 386
        }
      ]
    },
    {
      "cell_type": "code",
      "metadata": {
        "id": "aS9XU_CzPlfi",
        "colab_type": "code",
        "outputId": "3a10a6aa-357c-4f3f-8250-a24bc1d073ce",
        "colab": {
          "base_uri": "https://localhost:8080/",
          "height": 204
        }
      },
      "source": [
        "y_unique = y.value_counts()\n",
        "y_unique = pd.DataFrame(y_unique)\n",
        "y_unique.head()"
      ],
      "execution_count": 0,
      "outputs": [
        {
          "output_type": "execute_result",
          "data": {
            "text/html": [
              "<div>\n",
              "<style scoped>\n",
              "    .dataframe tbody tr th:only-of-type {\n",
              "        vertical-align: middle;\n",
              "    }\n",
              "\n",
              "    .dataframe tbody tr th {\n",
              "        vertical-align: top;\n",
              "    }\n",
              "\n",
              "    .dataframe thead th {\n",
              "        text-align: right;\n",
              "    }\n",
              "</style>\n",
              "<table border=\"1\" class=\"dataframe\">\n",
              "  <thead>\n",
              "    <tr style=\"text-align: right;\">\n",
              "      <th></th>\n",
              "      <th>Category</th>\n",
              "    </tr>\n",
              "  </thead>\n",
              "  <tbody>\n",
              "    <tr>\n",
              "      <th>transport</th>\n",
              "      <td>295</td>\n",
              "    </tr>\n",
              "    <tr>\n",
              "      <th>fees</th>\n",
              "      <td>216</td>\n",
              "    </tr>\n",
              "    <tr>\n",
              "      <th>entertainment &amp; eat out</th>\n",
              "      <td>174</td>\n",
              "    </tr>\n",
              "    <tr>\n",
              "      <th>communication</th>\n",
              "      <td>68</td>\n",
              "    </tr>\n",
              "    <tr>\n",
              "      <th>food</th>\n",
              "      <td>42</td>\n",
              "    </tr>\n",
              "  </tbody>\n",
              "</table>\n",
              "</div>"
            ],
            "text/plain": [
              "                         Category\n",
              "transport                     295\n",
              "fees                          216\n",
              "entertainment & eat out       174\n",
              "communication                  68\n",
              "food                           42"
            ]
          },
          "metadata": {
            "tags": []
          },
          "execution_count": 387
        }
      ]
    },
    {
      "cell_type": "code",
      "metadata": {
        "id": "BgQ2_OEoP5ea",
        "colab_type": "code",
        "outputId": "e712a861-e1dc-4337-9723-0caebdd07cd6",
        "colab": {
          "base_uri": "https://localhost:8080/",
          "height": 204
        }
      },
      "source": [
        "y_unique = y_unique.reset_index(drop=False)\n",
        "y_unique.head()"
      ],
      "execution_count": 0,
      "outputs": [
        {
          "output_type": "execute_result",
          "data": {
            "text/html": [
              "<div>\n",
              "<style scoped>\n",
              "    .dataframe tbody tr th:only-of-type {\n",
              "        vertical-align: middle;\n",
              "    }\n",
              "\n",
              "    .dataframe tbody tr th {\n",
              "        vertical-align: top;\n",
              "    }\n",
              "\n",
              "    .dataframe thead th {\n",
              "        text-align: right;\n",
              "    }\n",
              "</style>\n",
              "<table border=\"1\" class=\"dataframe\">\n",
              "  <thead>\n",
              "    <tr style=\"text-align: right;\">\n",
              "      <th></th>\n",
              "      <th>index</th>\n",
              "      <th>Category</th>\n",
              "    </tr>\n",
              "  </thead>\n",
              "  <tbody>\n",
              "    <tr>\n",
              "      <th>0</th>\n",
              "      <td>transport</td>\n",
              "      <td>295</td>\n",
              "    </tr>\n",
              "    <tr>\n",
              "      <th>1</th>\n",
              "      <td>fees</td>\n",
              "      <td>216</td>\n",
              "    </tr>\n",
              "    <tr>\n",
              "      <th>2</th>\n",
              "      <td>entertainment &amp; eat out</td>\n",
              "      <td>174</td>\n",
              "    </tr>\n",
              "    <tr>\n",
              "      <th>3</th>\n",
              "      <td>communication</td>\n",
              "      <td>68</td>\n",
              "    </tr>\n",
              "    <tr>\n",
              "      <th>4</th>\n",
              "      <td>food</td>\n",
              "      <td>42</td>\n",
              "    </tr>\n",
              "  </tbody>\n",
              "</table>\n",
              "</div>"
            ],
            "text/plain": [
              "                     index  Category\n",
              "0                transport       295\n",
              "1                     fees       216\n",
              "2  entertainment & eat out       174\n",
              "3            communication        68\n",
              "4                     food        42"
            ]
          },
          "metadata": {
            "tags": []
          },
          "execution_count": 388
        }
      ]
    },
    {
      "cell_type": "code",
      "metadata": {
        "id": "OfWnRUhWQC76",
        "colab_type": "code",
        "outputId": "51e9cef8-d468-48f3-e1ea-e5720566b7b7",
        "colab": {
          "base_uri": "https://localhost:8080/",
          "height": 204
        }
      },
      "source": [
        "y_unique.drop(['Category'], axis=1, inplace=True)  \n",
        "y_unique['New_ID'] = y_unique.index\n",
        "y_unique.head()"
      ],
      "execution_count": 0,
      "outputs": [
        {
          "output_type": "execute_result",
          "data": {
            "text/html": [
              "<div>\n",
              "<style scoped>\n",
              "    .dataframe tbody tr th:only-of-type {\n",
              "        vertical-align: middle;\n",
              "    }\n",
              "\n",
              "    .dataframe tbody tr th {\n",
              "        vertical-align: top;\n",
              "    }\n",
              "\n",
              "    .dataframe thead th {\n",
              "        text-align: right;\n",
              "    }\n",
              "</style>\n",
              "<table border=\"1\" class=\"dataframe\">\n",
              "  <thead>\n",
              "    <tr style=\"text-align: right;\">\n",
              "      <th></th>\n",
              "      <th>index</th>\n",
              "      <th>New_ID</th>\n",
              "    </tr>\n",
              "  </thead>\n",
              "  <tbody>\n",
              "    <tr>\n",
              "      <th>0</th>\n",
              "      <td>transport</td>\n",
              "      <td>0</td>\n",
              "    </tr>\n",
              "    <tr>\n",
              "      <th>1</th>\n",
              "      <td>fees</td>\n",
              "      <td>1</td>\n",
              "    </tr>\n",
              "    <tr>\n",
              "      <th>2</th>\n",
              "      <td>entertainment &amp; eat out</td>\n",
              "      <td>2</td>\n",
              "    </tr>\n",
              "    <tr>\n",
              "      <th>3</th>\n",
              "      <td>communication</td>\n",
              "      <td>3</td>\n",
              "    </tr>\n",
              "    <tr>\n",
              "      <th>4</th>\n",
              "      <td>food</td>\n",
              "      <td>4</td>\n",
              "    </tr>\n",
              "  </tbody>\n",
              "</table>\n",
              "</div>"
            ],
            "text/plain": [
              "                     index  New_ID\n",
              "0                transport       0\n",
              "1                     fees       1\n",
              "2  entertainment & eat out       2\n",
              "3            communication       3\n",
              "4                     food       4"
            ]
          },
          "metadata": {
            "tags": []
          },
          "execution_count": 389
        }
      ]
    },
    {
      "cell_type": "code",
      "metadata": {
        "id": "q0fCHklhRhbl",
        "colab_type": "code",
        "outputId": "118aad47-8e2d-444a-f616-dbeb50de4aa6",
        "colab": {
          "base_uri": "https://localhost:8080/",
          "height": 34
        }
      },
      "source": [
        "len(y_unique)"
      ],
      "execution_count": 0,
      "outputs": [
        {
          "output_type": "execute_result",
          "data": {
            "text/plain": [
              "15"
            ]
          },
          "metadata": {
            "tags": []
          },
          "execution_count": 390
        }
      ]
    },
    {
      "cell_type": "code",
      "metadata": {
        "id": "u4Bva630R2EI",
        "colab_type": "code",
        "outputId": "69453e42-0fc9-4ece-843e-5eaf42098ac9",
        "colab": {
          "base_uri": "https://localhost:8080/",
          "height": 204
        }
      },
      "source": [
        "y =  pd.DataFrame(y)\n",
        "y.head()"
      ],
      "execution_count": 0,
      "outputs": [
        {
          "output_type": "execute_result",
          "data": {
            "text/html": [
              "<div>\n",
              "<style scoped>\n",
              "    .dataframe tbody tr th:only-of-type {\n",
              "        vertical-align: middle;\n",
              "    }\n",
              "\n",
              "    .dataframe tbody tr th {\n",
              "        vertical-align: top;\n",
              "    }\n",
              "\n",
              "    .dataframe thead th {\n",
              "        text-align: right;\n",
              "    }\n",
              "</style>\n",
              "<table border=\"1\" class=\"dataframe\">\n",
              "  <thead>\n",
              "    <tr style=\"text-align: right;\">\n",
              "      <th></th>\n",
              "      <th>Category</th>\n",
              "    </tr>\n",
              "  </thead>\n",
              "  <tbody>\n",
              "    <tr>\n",
              "      <th>0</th>\n",
              "      <td>communication</td>\n",
              "    </tr>\n",
              "    <tr>\n",
              "      <th>1</th>\n",
              "      <td>entertainment &amp; eat out</td>\n",
              "    </tr>\n",
              "    <tr>\n",
              "      <th>2</th>\n",
              "      <td>home</td>\n",
              "    </tr>\n",
              "    <tr>\n",
              "      <th>3</th>\n",
              "      <td>entertainment &amp; eat out</td>\n",
              "    </tr>\n",
              "    <tr>\n",
              "      <th>4</th>\n",
              "      <td>entertainment &amp; eat out</td>\n",
              "    </tr>\n",
              "  </tbody>\n",
              "</table>\n",
              "</div>"
            ],
            "text/plain": [
              "                  Category\n",
              "0            communication\n",
              "1  entertainment & eat out\n",
              "2                     home\n",
              "3  entertainment & eat out\n",
              "4  entertainment & eat out"
            ]
          },
          "metadata": {
            "tags": []
          },
          "execution_count": 391
        }
      ]
    },
    {
      "cell_type": "code",
      "metadata": {
        "id": "Whm-EITAWH8q",
        "colab_type": "code",
        "outputId": "887eba8c-eac3-4c6d-dc13-22043afda0b3",
        "colab": {
          "base_uri": "https://localhost:8080/",
          "height": 1000
        }
      },
      "source": [
        "y.Category.values"
      ],
      "execution_count": 0,
      "outputs": [
        {
          "output_type": "execute_result",
          "data": {
            "text/plain": [
              "array(['communication', 'entertainment & eat out', 'home',\n",
              "       'entertainment & eat out', 'entertainment & eat out',\n",
              "       'entertainment & eat out', 'entertainment & eat out',\n",
              "       'entertainment & eat out', 'entertainment & eat out',\n",
              "       'entertainment & eat out', 'saving and investment',\n",
              "       'entertainment & eat out', 'entertainment & eat out',\n",
              "       'entertainment & eat out', 'saving and investment',\n",
              "       'entertainment & eat out', 'entertainment & eat out',\n",
              "       'entertainment & eat out', 'entertainment & eat out', 'other',\n",
              "       'saving and investment', 'life and health', 'other',\n",
              "       'entertainment & eat out', 'entertainment & eat out',\n",
              "       'entertainment & eat out', 'entertainment & eat out',\n",
              "       'life and health', 'saving and investment',\n",
              "       'saving and investment', 'communication', 'life and health',\n",
              "       'short-term credit', 'entertainment & eat out',\n",
              "       'entertainment & eat out', 'entertainment & eat out',\n",
              "       'entertainment & eat out', 'entertainment & eat out',\n",
              "       'entertainment & eat out', 'home', 'entertainment & eat out',\n",
              "       'other', 'home', 'home', 'other', 'other',\n",
              "       'entertainment & eat out', 'entertainment & eat out',\n",
              "       'saving and investment', 'entertainment & eat out',\n",
              "       'entertainment & eat out', 'home', 'entertainment & eat out',\n",
              "       'entertainment & eat out', 'entertainment & eat out',\n",
              "       'entertainment & eat out', 'entertainment & eat out', 'other',\n",
              "       'entertainment & eat out', 'entertainment & eat out', 'transport',\n",
              "       'communication', 'saving and investment', 'transport',\n",
              "       'entertainment & eat out', 'food', 'home', 'transport',\n",
              "       'transport', 'transport', 'transport', 'food', 'transport',\n",
              "       'transport', 'communication', 'fees', 'communication', 'fees',\n",
              "       'fees', 'fees', 'short-term credit', 'short-term credit',\n",
              "       'transport', 'gifts & donations', 'home', 'saving and investment',\n",
              "       'entertainment & eat out', 'entertainment & eat out', 'fees',\n",
              "       'short-term credit', 'communication', 'fees', 'fees', 'transport',\n",
              "       'short-term credit', 'transport', 'transport',\n",
              "       'entertainment & eat out', 'transport', 'transport', 'transport',\n",
              "       'transport', 'transport', 'transport', 'transport', 'fees', 'fees',\n",
              "       'fees', 'entertainment & eat out', 'life and health', 'transport',\n",
              "       'transport', 'transport', 'fees', 'entertainment & eat out',\n",
              "       'entertainment & eat out', 'transport', 'communication',\n",
              "       'transport', 'transport', 'transport', 'transport', 'transport',\n",
              "       'transport', 'transport', 'entertainment & eat out', 'transport',\n",
              "       'transport', 'life and health', 'transport', 'transport',\n",
              "       'entertainment & eat out', 'transport', 'transport', 'transport',\n",
              "       'transport', 'transport', 'transport', 'food', 'fees',\n",
              "       'communication', 'fees', 'transport', 'transport', 'transport',\n",
              "       'transport', 'transport', 'transport', 'communication', 'fees',\n",
              "       'fees', 'transport', 'entertainment & eat out', 'transport',\n",
              "       'entertainment & eat out', 'transport', 'transport', 'transport',\n",
              "       'transport', 'transport', 'transport', 'transport', 'transport',\n",
              "       'fees', 'entertainment & eat out', 'fees', 'fees', 'transport',\n",
              "       'transport', 'fees', 'transport', 'transport', 'food', 'food',\n",
              "       'food', 'food', 'transport', 'transport', 'fees',\n",
              "       'entertainment & eat out', 'food', 'fees', 'fees', 'communication',\n",
              "       'entertainment & eat out', 'communication', 'fees',\n",
              "       'entertainment & eat out', 'communication', 'fees', 'fees', 'fees',\n",
              "       'fees', 'transport', 'communication', 'fees', 'communication',\n",
              "       'fees', 'communication', 'fees', 'short-term credit', 'transport',\n",
              "       'entertainment & eat out', 'transport', 'gifts & donations',\n",
              "       'communication', 'fees', 'home', 'entertainment & eat out',\n",
              "       'entertainment & eat out', 'entertainment & eat out',\n",
              "       'entertainment & eat out', 'fees', 'communication', 'fees',\n",
              "       'transport', 'transport', 'transport', 'transport', 'transport',\n",
              "       'transport', 'short-term credit', 'fees', 'fees', 'fees', 'fees',\n",
              "       'communication', 'fees', 'fees', 'gifts & donations',\n",
              "       'entertainment & eat out', 'transport', 'short-term credit',\n",
              "       'transport', 'entertainment & eat out', 'transport',\n",
              "       'entertainment & eat out', 'entertainment & eat out', 'transport',\n",
              "       'transport', 'transport', 'fees', 'entertainment & eat out',\n",
              "       'transport', 'transport', 'fees', 'fees', 'communication',\n",
              "       'transport', 'entertainment & eat out', 'entertainment & eat out',\n",
              "       'communication', 'fees', 'transport', 'other', 'transport',\n",
              "       'communication', 'fees', 'transport', 'saving and investment',\n",
              "       'transport', 'communication', 'fees', 'food', 'transport',\n",
              "       'communication', 'fees', 'transport', 'communication', 'fees',\n",
              "       'transport', 'transport', 'entertainment & eat out', 'transport',\n",
              "       'transport', 'transport', 'transport', 'fees', 'transport',\n",
              "       'transport', 'entertainment & eat out', 'entertainment & eat out',\n",
              "       'transport', 'entertainment & eat out', 'entertainment & eat out',\n",
              "       'entertainment & eat out', 'fees', 'fees', 'food', 'transport',\n",
              "       'short-term credit', 'transport', 'short-term credit',\n",
              "       'entertainment & eat out', 'transport', 'entertainment & eat out',\n",
              "       'home', 'communication', 'fees', 'short-term credit', 'fees',\n",
              "       'communication', 'fees', 'fees', 'short-term credit', 'transport',\n",
              "       'transport', 'entertainment & eat out', 'transport',\n",
              "       'saving and investment', 'gifts & donations', 'gifts & donations',\n",
              "       'fees', 'entertainment & eat out', 'transport', 'transport',\n",
              "       'transport', 'transport', 'transport', 'entertainment & eat out',\n",
              "       'transport', 'entertainment & eat out', 'life and health',\n",
              "       'education', 'education', 'transport', 'transport', 'transport',\n",
              "       'transport', 'communication', 'transport', 'transport',\n",
              "       'transport', 'fees', 'transport', 'transport', 'transport',\n",
              "       'transport', 'transport', 'transport', 'transport', 'transport',\n",
              "       'transport', 'transport', 'transport', 'transport', 'transport',\n",
              "       'transport', 'transport', 'entertainment & eat out', 'transport',\n",
              "       'transport', 'transport', 'gifts & donations', 'transport',\n",
              "       'transport', 'transport', 'transport', 'food',\n",
              "       'entertainment & eat out', 'communication', 'fees', 'transport',\n",
              "       'transport', 'transport', 'transport', 'transport', 'transport',\n",
              "       'transport', 'entertainment & eat out', 'transport',\n",
              "       'entertainment & eat out', 'fees', 'transport', 'transport',\n",
              "       'transport', 'transport', 'entertainment & eat out', 'transport',\n",
              "       'transport', 'transport', 'transport', 'communication', 'fees',\n",
              "       'fees', 'fees', 'transport', 'entertainment & eat out', 'fees',\n",
              "       'transport', 'transport', 'transport', 'gifts & donations',\n",
              "       'entertainment & eat out', 'transport', 'short-term credit',\n",
              "       'short-term credit', 'transport', 'entertainment & eat out',\n",
              "       'transport', 'home', 'gifts & donations', 'education',\n",
              "       'saving and investment', 'food', 'entertainment & eat out',\n",
              "       'communication', 'entertainment & eat out', 'short-term credit',\n",
              "       'fees', 'fees', 'home', 'education', 'transport', 'food',\n",
              "       'entertainment & eat out', 'entertainment & eat out', 'transport',\n",
              "       'entertainment & eat out', 'fees', 'transport', 'transport',\n",
              "       'transport', 'transport', 'entertainment & eat out',\n",
              "       'entertainment & eat out', 'food', 'food', 'transport',\n",
              "       'entertainment & eat out', 'transport', 'entertainment & eat out',\n",
              "       'transport', 'entertainment & eat out', 'transport',\n",
              "       'entertainment & eat out', 'transport', 'transport',\n",
              "       'entertainment & eat out', 'entertainment & eat out', 'transport',\n",
              "       'fees', 'fees', 'transport', 'transport', 'transport',\n",
              "       'entertainment & eat out', 'food', 'entertainment & eat out',\n",
              "       'transport', 'food', 'entertainment & eat out', 'fees',\n",
              "       'transport', 'transport', 'fees', 'transport', 'communication',\n",
              "       'transport', 'other', 'entertainment & eat out',\n",
              "       'entertainment & eat out', 'transport', 'transport',\n",
              "       'entertainment & eat out', 'transport', 'transport', 'transport',\n",
              "       'fees', 'fees', 'fees', 'other', 'transport', 'communication',\n",
              "       'fees', 'transport', 'entertainment & eat out', 'transport',\n",
              "       'food', 'transport', 'communication', 'fees', 'fees', 'fees',\n",
              "       'entertainment & eat out', 'transport', 'transport', 'transport',\n",
              "       'communication', 'fees', 'fees', 'transport',\n",
              "       'entertainment & eat out', 'transport', 'food', 'transport',\n",
              "       'fees', 'fees', 'fees', 'entertainment & eat out',\n",
              "       'entertainment & eat out', 'entertainment & eat out', 'fees',\n",
              "       'fees', 'transport', 'transport', 'fees',\n",
              "       'entertainment & eat out', 'entertainment & eat out',\n",
              "       'entertainment & eat out', 'entertainment & eat out', 'fees',\n",
              "       'fees', 'transport', 'transport', 'communication', 'fees',\n",
              "       'entertainment & eat out', 'fees', 'fees', 'transport',\n",
              "       'entertainment & eat out', 'fees', 'transport', 'transport',\n",
              "       'transport', 'entertainment & eat out', 'entertainment & eat out',\n",
              "       'fees', 'short-term credit', 'entertainment & eat out',\n",
              "       'transport', 'transport', 'entertainment & eat out', 'fees',\n",
              "       'entertainment & eat out', 'transport', 'entertainment & eat out',\n",
              "       'entertainment & eat out', 'entertainment & eat out', 'transport',\n",
              "       'transport', 'life and health', 'food', 'food', 'transport',\n",
              "       'transport', 'entertainment & eat out', 'home',\n",
              "       'saving and investment', 'food', 'communication', 'fees', 'fees',\n",
              "       'communication', 'short-term credit', 'fees', 'fees', 'fees',\n",
              "       'home', 'entertainment & eat out', 'entertainment & eat out',\n",
              "       'food', 'short-term credit', 'transport', 'transport', 'transport',\n",
              "       'transport', 'transport', 'transport', 'transport',\n",
              "       'entertainment & eat out', 'transport', 'entertainment & eat out',\n",
              "       'entertainment & eat out', 'food', 'entertainment & eat out',\n",
              "       'fees', 'fees', 'entertainment & eat out', 'fees', 'fees', 'fees',\n",
              "       'fees', 'transport', 'transport', 'transport', 'transport',\n",
              "       'transport', 'transport', 'transport', 'transport', 'transport',\n",
              "       'gifts & donations', 'fees', 'fees', 'transport', 'transport',\n",
              "       'transport', 'transport', 'life and health', 'transport',\n",
              "       'transport', 'transport', 'entertainment & eat out',\n",
              "       'entertainment & eat out', 'fees', 'fees', 'transport',\n",
              "       'life and health', 'entertainment & eat out', 'transport', 'fees',\n",
              "       'fees', 'fees', 'entertainment & eat out',\n",
              "       'entertainment & eat out', 'gifts & donations', 'fees', 'fees',\n",
              "       'entertainment & eat out', 'entertainment & eat out', 'food',\n",
              "       'transport', 'transport', 'transport', 'entertainment & eat out',\n",
              "       'fees', 'transport', 'transport', 'fees', 'fees', 'fees',\n",
              "       'transport', 'transport', 'transport', 'transport', 'fees',\n",
              "       'communication', 'fees', 'fees', 'life and health',\n",
              "       'life and health', 'life and health', 'life and health',\n",
              "       'entertainment & eat out', 'transport', 'communication', 'fees',\n",
              "       'entertainment & eat out', 'short-term credit', 'transport',\n",
              "       'transport', 'entertainment & eat out', 'entertainment & eat out',\n",
              "       'communication', 'fees', 'communication', 'fees',\n",
              "       'short-term credit', 'gifts & donations', 'saving and investment',\n",
              "       'entertainment & eat out', 'communication', 'fees',\n",
              "       'communication', 'fees', 'fees', 'gifts & donations', 'fees',\n",
              "       'entertainment & eat out', 'entertainment & eat out',\n",
              "       'life and health', 'saving and investment', 'fees',\n",
              "       'life and health', 'transport', 'transport', 'food', 'transport',\n",
              "       'transport', 'fees', 'fees', 'fees', 'transport',\n",
              "       'entertainment & eat out', 'transport', 'life and health', 'food',\n",
              "       'transport', 'entertainment & eat out', 'entertainment & eat out',\n",
              "       'entertainment & eat out', 'transport', 'fees', 'transport',\n",
              "       'fees', 'fees', 'fees', 'food', 'transport',\n",
              "       'entertainment & eat out', 'entertainment & eat out', 'transport',\n",
              "       'transport', 'entertainment & eat out', 'food', 'fees', 'food',\n",
              "       'life and health', 'food', 'transport', 'transport',\n",
              "       'entertainment & eat out', 'communication', 'short-term credit',\n",
              "       'fees', 'fees', 'gifts & donations', 'gifts & donations',\n",
              "       'transport', 'short-term credit', 'entertainment & eat out',\n",
              "       'transport', 'transport', 'transport', 'food',\n",
              "       'entertainment & eat out', 'fees', 'entertainment & eat out',\n",
              "       'food', 'transport', 'transport', 'communication', 'fees', 'food',\n",
              "       'transport', 'fees', 'education', 'fees', 'transport', 'fees',\n",
              "       'transport', 'life and health', 'fees', 'entertainment & eat out',\n",
              "       'transport', 'transport', 'transport', 'fees', 'transport',\n",
              "       'communication', 'fees', 'communication', 'fees', 'food',\n",
              "       'transport', 'transport', 'entertainment & eat out',\n",
              "       'communication', 'fees', 'entertainment & eat out', 'transport',\n",
              "       'entertainment & eat out', 'entertainment & eat out',\n",
              "       'communication', 'fees', 'communication', 'fees', 'transport',\n",
              "       'communication', 'fees', 'entertainment & eat out',\n",
              "       'entertainment & eat out', 'entertainment & eat out', 'transport',\n",
              "       'entertainment & eat out', 'fees', 'fees', 'communication', 'fees',\n",
              "       'fees', 'home', 'fees', 'fees', 'home', 'home', 'fees',\n",
              "       'transport', 'fees', 'fees', 'fees', 'home', 'transport',\n",
              "       'entertainment & eat out', 'fees', 'home', 'fees', 'home', 'home',\n",
              "       'home', 'fees', 'home', 'communication', 'home', 'home', 'fees',\n",
              "       'fees', 'fees', 'entertainment & eat out', 'fees', 'transport',\n",
              "       'fees', 'fees', 'communication', 'home', 'communication',\n",
              "       'transport', 'home', 'fees', 'transport', 'transport', 'fees',\n",
              "       'fees', 'transport', 'communication', 'fees', 'communication',\n",
              "       'fees', 'other', 'fees', 'fees', 'home', 'fees', 'fees', 'fees',\n",
              "       'home', 'transport', 'fees', 'transport', 'transport', 'transport',\n",
              "       'other', 'other', 'short-term credit', 'fees', 'fees',\n",
              "       'gifts & donations', 'saving and investment', 'fees', 'other',\n",
              "       'fees', 'saving and investment', 'education',\n",
              "       'entertainment & eat out', 'fees', 'home', 'fees', 'fees', 'food',\n",
              "       'food', 'food', 'saving and investment', 'communication', 'fees',\n",
              "       'fees', 'communication', 'communication', 'fees', 'communication',\n",
              "       'food', 'fees', 'fees', 'fees', 'other', 'other', 'other', 'other',\n",
              "       'other', 'fees', 'fees', 'food', 'transport', 'food',\n",
              "       'communication', 'communication', 'interest', 'fees', 'fees',\n",
              "       'fees', 'fees', 'home', 'home', 'communication', 'food', 'home',\n",
              "       'other', 'transport', 'other', 'other', 'communication', 'other',\n",
              "       'fees', 'other', 'short-term credit', 'other', 'fees', 'fees',\n",
              "       'entertainment & eat out', 'short-term credit', 'fees',\n",
              "       'entertainment & eat out', 'communication', 'communication',\n",
              "       'short-term credit', 'fees', 'fees', 'fees',\n",
              "       'entertainment & eat out', 'entertainment & eat out',\n",
              "       'entertainment & eat out', 'short-term credit', 'other', 'fees',\n",
              "       'fees', 'other', 'fees', 'fees', 'fees', 'fees', 'income', 'fees',\n",
              "       'fees', 'communication', 'fees', 'education', 'other', 'other',\n",
              "       'gifts and donations', 'transport', 'transport', 'life and health',\n",
              "       'fees'], dtype=object)"
            ]
          },
          "metadata": {
            "tags": []
          },
          "execution_count": 392
        }
      ]
    },
    {
      "cell_type": "code",
      "metadata": {
        "id": "mRTeNtVGRrgS",
        "colab_type": "code",
        "outputId": "640a1060-6144-4af2-cf7a-0a2b4ded4172",
        "colab": {
          "base_uri": "https://localhost:8080/",
          "height": 204
        }
      },
      "source": [
        "mapping = dict(y_unique[['index', 'New_ID']].values)\n",
        "y['Item_ID'] = y.Category.map(mapping)\n",
        "y.head()"
      ],
      "execution_count": 0,
      "outputs": [
        {
          "output_type": "execute_result",
          "data": {
            "text/html": [
              "<div>\n",
              "<style scoped>\n",
              "    .dataframe tbody tr th:only-of-type {\n",
              "        vertical-align: middle;\n",
              "    }\n",
              "\n",
              "    .dataframe tbody tr th {\n",
              "        vertical-align: top;\n",
              "    }\n",
              "\n",
              "    .dataframe thead th {\n",
              "        text-align: right;\n",
              "    }\n",
              "</style>\n",
              "<table border=\"1\" class=\"dataframe\">\n",
              "  <thead>\n",
              "    <tr style=\"text-align: right;\">\n",
              "      <th></th>\n",
              "      <th>Category</th>\n",
              "      <th>Item_ID</th>\n",
              "    </tr>\n",
              "  </thead>\n",
              "  <tbody>\n",
              "    <tr>\n",
              "      <th>0</th>\n",
              "      <td>communication</td>\n",
              "      <td>3</td>\n",
              "    </tr>\n",
              "    <tr>\n",
              "      <th>1</th>\n",
              "      <td>entertainment &amp; eat out</td>\n",
              "      <td>2</td>\n",
              "    </tr>\n",
              "    <tr>\n",
              "      <th>2</th>\n",
              "      <td>home</td>\n",
              "      <td>5</td>\n",
              "    </tr>\n",
              "    <tr>\n",
              "      <th>3</th>\n",
              "      <td>entertainment &amp; eat out</td>\n",
              "      <td>2</td>\n",
              "    </tr>\n",
              "    <tr>\n",
              "      <th>4</th>\n",
              "      <td>entertainment &amp; eat out</td>\n",
              "      <td>2</td>\n",
              "    </tr>\n",
              "  </tbody>\n",
              "</table>\n",
              "</div>"
            ],
            "text/plain": [
              "                  Category  Item_ID\n",
              "0            communication        3\n",
              "1  entertainment & eat out        2\n",
              "2                     home        5\n",
              "3  entertainment & eat out        2\n",
              "4  entertainment & eat out        2"
            ]
          },
          "metadata": {
            "tags": []
          },
          "execution_count": 393
        }
      ]
    },
    {
      "cell_type": "code",
      "metadata": {
        "id": "2Tpk8AyyYcJF",
        "colab_type": "code",
        "outputId": "f39f39af-f29c-46e7-cfbc-0827e284c311",
        "colab": {
          "base_uri": "https://localhost:8080/",
          "height": 204
        }
      },
      "source": [
        "y.drop(['Category'], axis=1, inplace=True)\n",
        "y.head()"
      ],
      "execution_count": 0,
      "outputs": [
        {
          "output_type": "execute_result",
          "data": {
            "text/html": [
              "<div>\n",
              "<style scoped>\n",
              "    .dataframe tbody tr th:only-of-type {\n",
              "        vertical-align: middle;\n",
              "    }\n",
              "\n",
              "    .dataframe tbody tr th {\n",
              "        vertical-align: top;\n",
              "    }\n",
              "\n",
              "    .dataframe thead th {\n",
              "        text-align: right;\n",
              "    }\n",
              "</style>\n",
              "<table border=\"1\" class=\"dataframe\">\n",
              "  <thead>\n",
              "    <tr style=\"text-align: right;\">\n",
              "      <th></th>\n",
              "      <th>Item_ID</th>\n",
              "    </tr>\n",
              "  </thead>\n",
              "  <tbody>\n",
              "    <tr>\n",
              "      <th>0</th>\n",
              "      <td>3</td>\n",
              "    </tr>\n",
              "    <tr>\n",
              "      <th>1</th>\n",
              "      <td>2</td>\n",
              "    </tr>\n",
              "    <tr>\n",
              "      <th>2</th>\n",
              "      <td>5</td>\n",
              "    </tr>\n",
              "    <tr>\n",
              "      <th>3</th>\n",
              "      <td>2</td>\n",
              "    </tr>\n",
              "    <tr>\n",
              "      <th>4</th>\n",
              "      <td>2</td>\n",
              "    </tr>\n",
              "  </tbody>\n",
              "</table>\n",
              "</div>"
            ],
            "text/plain": [
              "   Item_ID\n",
              "0        3\n",
              "1        2\n",
              "2        5\n",
              "3        2\n",
              "4        2"
            ]
          },
          "metadata": {
            "tags": []
          },
          "execution_count": 394
        }
      ]
    },
    {
      "cell_type": "code",
      "metadata": {
        "id": "hYliUEQGYvEj",
        "colab_type": "code",
        "outputId": "eb35f292-2052-437f-e365-9e0a451ba75b",
        "colab": {
          "base_uri": "https://localhost:8080/",
          "height": 34
        }
      },
      "source": [
        "len(y)"
      ],
      "execution_count": 0,
      "outputs": [
        {
          "output_type": "execute_result",
          "data": {
            "text/plain": [
              "943"
            ]
          },
          "metadata": {
            "tags": []
          },
          "execution_count": 395
        }
      ]
    },
    {
      "cell_type": "code",
      "metadata": {
        "id": "838bUiYi_y93",
        "colab_type": "code",
        "colab": {}
      },
      "source": [
        "features = train.Description.values\n",
        "features2 = train.Description.values"
      ],
      "execution_count": 0,
      "outputs": []
    },
    {
      "cell_type": "code",
      "metadata": {
        "id": "zTrXsvlnCpHV",
        "colab_type": "code",
        "outputId": "ddbcda57-4faf-4b2a-95d8-8a2ba8df5519",
        "colab": {
          "base_uri": "https://localhost:8080/",
          "height": 85
        }
      },
      "source": [
        "features[:5]"
      ],
      "execution_count": 0,
      "outputs": [
        {
          "output_type": "execute_result",
          "data": {
            "text/plain": [
              "array(['MTN DATA BUNDLES', 'APPLE.COM/BILL CORK IE',\n",
              "       'PARKHURST HARDWARE    RE PARKHURST ZA',\n",
              "       'SEATTLE RENNIES HOUSE JOHANNESBURG ZA',\n",
              "       'FLM RENNIE HOUSE EATER BRAAMFONTEIN ZA'], dtype=object)"
            ]
          },
          "metadata": {
            "tags": []
          },
          "execution_count": 397
        }
      ]
    },
    {
      "cell_type": "markdown",
      "metadata": {
        "id": "a7FQ4-JPA9Qt",
        "colab_type": "text"
      },
      "source": [
        "# Text to Features"
      ]
    },
    {
      "cell_type": "code",
      "metadata": {
        "id": "pRpPdvYxEo8o",
        "colab_type": "code",
        "outputId": "44b5c1f9-4a7e-43a9-8920-304c8d664dd3",
        "colab": {
          "base_uri": "https://localhost:8080/",
          "height": 102
        }
      },
      "source": [
        "nltk.download('stopwords')\n",
        "nltk.download('wordnet')"
      ],
      "execution_count": 0,
      "outputs": [
        {
          "output_type": "stream",
          "text": [
            "[nltk_data] Downloading package stopwords to /root/nltk_data...\n",
            "[nltk_data]   Package stopwords is already up-to-date!\n",
            "[nltk_data] Downloading package wordnet to /root/nltk_data...\n",
            "[nltk_data]   Package wordnet is already up-to-date!\n"
          ],
          "name": "stdout"
        },
        {
          "output_type": "execute_result",
          "data": {
            "text/plain": [
              "True"
            ]
          },
          "metadata": {
            "tags": []
          },
          "execution_count": 398
        }
      ]
    },
    {
      "cell_type": "code",
      "metadata": {
        "id": "YDTvzwcqBB0G",
        "colab_type": "code",
        "colab": {}
      },
      "source": [
        "from nltk.stem.wordnet import WordNetLemmatizer \n",
        "from nltk.stem.porter import PorterStemmer\n",
        "from nltk.corpus import stopwords\n",
        "\n",
        "lem = WordNetLemmatizer()\n",
        "# ps = PorterStemmer()\n",
        "corpus =[]\n",
        "# cleaning text\n",
        "for i in range(0,len(features)):\n",
        "\n",
        "    item = re.sub('[^a-zA-Z]', ' ',str(features[i])) \n",
        "    item = item.lower()\n",
        "    item = item.split()\n",
        "    stop_wrds = set(stopwords.words('english'))\n",
        "    item = [lem.lemmatize(word, \"v\") for word in item if not word in stop_wrds]\n",
        "    item = ' '.join(item)\n",
        "    corpus.append(item)\n",
        "\n",
        "new_features = corpus"
      ],
      "execution_count": 0,
      "outputs": []
    },
    {
      "cell_type": "code",
      "metadata": {
        "id": "xdjX2rX66ive",
        "colab_type": "code",
        "outputId": "caee2a33-ffea-4fde-921e-966cbccbdc08",
        "colab": {
          "base_uri": "https://localhost:8080/",
          "height": 102
        }
      },
      "source": [
        "new_features[:5]"
      ],
      "execution_count": 0,
      "outputs": [
        {
          "output_type": "execute_result",
          "data": {
            "text/plain": [
              "['mtn data bundle',\n",
              " 'apple com bill cork ie',\n",
              " 'parkhurst hardware parkhurst za',\n",
              " 'seattle rennies house johannesburg za',\n",
              " 'flm rennie house eater braamfontein za']"
            ]
          },
          "metadata": {
            "tags": []
          },
          "execution_count": 400
        }
      ]
    },
    {
      "cell_type": "code",
      "metadata": {
        "id": "LRtxfLLZvY6w",
        "colab_type": "code",
        "colab": {}
      },
      "source": [
        "# txt = np.array(['acb debit external virgin act'])\n"
      ],
      "execution_count": 0,
      "outputs": []
    },
    {
      "cell_type": "code",
      "metadata": {
        "id": "lTU8vluaJymR",
        "colab_type": "code",
        "outputId": "c8f48afc-4cbe-4044-a256-d14403936847",
        "colab": {
          "base_uri": "https://localhost:8080/",
          "height": 34
        }
      },
      "source": [
        "def tokenize(text):\n",
        "    return([text.split(' ', 1)[0].strip()])\n",
        "# Create Ranked Statistical Features with TfidfVectorizer, best choice because insignificant words recieve a lower rank\n",
        "from sklearn.feature_extraction.text import CountVectorizer\n",
        "obj = TfidfVectorizer()\n",
        "# obj = CountVectorizer(decode_error = 'ignore', stop_words=stop_wrds,analyzer='char',max_features= 10,ngram_range=(1,10))\n",
        "obj = CountVectorizer(decode_error = 'ignore',analyzer='char',ngram_range=(1,10))\n",
        "\n",
        "final_features = obj.fit_transform(new_features)\n",
        "# print(final_features[0])\n",
        "final_features.shape"
      ],
      "execution_count": 0,
      "outputs": [
        {
          "output_type": "execute_result",
          "data": {
            "text/plain": [
              "(943, 21216)"
            ]
          },
          "metadata": {
            "tags": []
          },
          "execution_count": 401
        }
      ]
    },
    {
      "cell_type": "code",
      "metadata": {
        "id": "Jgy4aQPb_xIh",
        "colab_type": "code",
        "outputId": "705696f9-710a-4497-81df-18017966fbeb",
        "colab": {
          "base_uri": "https://localhost:8080/",
          "height": 51
        }
      },
      "source": [
        "final_features"
      ],
      "execution_count": 0,
      "outputs": [
        {
          "output_type": "execute_result",
          "data": {
            "text/plain": [
              "<943x21216 sparse matrix of type '<class 'numpy.int64'>'\n",
              "\twith 112439 stored elements in Compressed Sparse Row format>"
            ]
          },
          "metadata": {
            "tags": []
          },
          "execution_count": 402
        }
      ]
    },
    {
      "cell_type": "code",
      "metadata": {
        "id": "1mgsI2BU9EQV",
        "colab_type": "code",
        "colab": {}
      },
      "source": [
        "# import joblib\n",
        "# # save the model to disk\n",
        "# filename = 'fCountVectorizer.pkl'\n",
        "# joblib.dump(obj, filename)"
      ],
      "execution_count": 0,
      "outputs": []
    },
    {
      "cell_type": "code",
      "metadata": {
        "id": "zG-dXbaL9vBi",
        "colab_type": "code",
        "colab": {}
      },
      "source": [
        "# from pydrive.auth import GoogleAuth\n",
        "# from pydrive.drive import GoogleDrive\n",
        "# from google.colab import auth\n",
        "# from oauth2client.client import GoogleCredentials\n",
        "\n",
        "# # 1. Authenticate and create the PyDrive client.\n",
        "# auth.authenticate_user()\n",
        "# gauth = GoogleAuth()\n",
        "# gauth.credentials = GoogleCredentials.get_application_default()\n",
        "# drive = GoogleDrive(gauth)  \n",
        "\n",
        "# # get the folder id where you want to save your file\n",
        "# file = drive.CreateFile()\n",
        "# file.SetContentFile('fCountVectorizer.pkl')\n",
        "# file.Upload() "
      ],
      "execution_count": 0,
      "outputs": []
    },
    {
      "cell_type": "code",
      "metadata": {
        "id": "MuF0Re0ZZ4ak",
        "colab_type": "code",
        "colab": {}
      },
      "source": [
        "# CountVectorizer = joblib.load('CountVectorizer.pkl')\n",
        "# obj = CountVectorizer()\n",
        "# final_features = obj.fit_transform(new_features)\n",
        "# # print(final_features[0])\n",
        "# final_features"
      ],
      "execution_count": 0,
      "outputs": []
    },
    {
      "cell_type": "code",
      "metadata": {
        "id": "ND3QYR2tWE-c",
        "colab_type": "code",
        "colab": {}
      },
      "source": [
        "\n",
        "# split the train set to create a validation set\n",
        "X_train, X_test, y_train, y_test = train_test_split(final_features, y.values.ravel(), test_size=0.20)\n"
      ],
      "execution_count": 0,
      "outputs": []
    },
    {
      "cell_type": "code",
      "metadata": {
        "id": "OkMAdjkp_7U-",
        "colab_type": "code",
        "outputId": "1d142f4b-6900-4e51-cec1-ba65938186a9",
        "colab": {
          "base_uri": "https://localhost:8080/",
          "height": 51
        }
      },
      "source": [
        "X_train"
      ],
      "execution_count": 0,
      "outputs": [
        {
          "output_type": "execute_result",
          "data": {
            "text/plain": [
              "<754x21216 sparse matrix of type '<class 'numpy.int64'>'\n",
              "\twith 90060 stored elements in Compressed Sparse Row format>"
            ]
          },
          "metadata": {
            "tags": []
          },
          "execution_count": 407
        }
      ]
    },
    {
      "cell_type": "code",
      "metadata": {
        "id": "rAhyPch2nxMG",
        "colab_type": "code",
        "colab": {}
      },
      "source": [
        "#import model\n",
        "import xgboost as xgb\n",
        "from xgboost import XGBClassifier\n",
        "cls = XGBClassifier(n_estimators=100)"
      ],
      "execution_count": 0,
      "outputs": []
    },
    {
      "cell_type": "code",
      "metadata": {
        "id": "IeCUrIbgjPOq",
        "colab_type": "code",
        "colab": {}
      },
      "source": [
        "#import model\n",
        "# from sklearn.neighbors import KNeighborsClassifier\n",
        "# cls = KNeighborsClassifier()"
      ],
      "execution_count": 0,
      "outputs": []
    },
    {
      "cell_type": "code",
      "metadata": {
        "id": "Xsgv52waIVpT",
        "colab_type": "code",
        "colab": {}
      },
      "source": [
        "# train initial model\n",
        "cls = cls.fit(X_train, y_train.ravel())"
      ],
      "execution_count": 0,
      "outputs": []
    },
    {
      "cell_type": "code",
      "metadata": {
        "id": "GFDvgcIuE5j1",
        "colab_type": "code",
        "colab": {}
      },
      "source": [
        "# import joblib\n",
        "# # save the model to disk\n",
        "# filename = 'fmodel.pkl'\n",
        "# joblib.dump(cls, filename)"
      ],
      "execution_count": 0,
      "outputs": []
    },
    {
      "cell_type": "code",
      "metadata": {
        "id": "l8R2z-no3k67",
        "colab_type": "code",
        "colab": {}
      },
      "source": [
        "\n",
        "\n",
        "# from pydrive.auth import GoogleAuth\n",
        "# from pydrive.drive import GoogleDrive\n",
        "# from google.colab import auth\n",
        "# from oauth2client.client import GoogleCredentials\n",
        "\n",
        "# # 1. Authenticate and create the PyDrive client.\n",
        "# auth.authenticate_user()\n",
        "# gauth = GoogleAuth()\n",
        "# gauth.credentials = GoogleCredentials.get_application_default()\n",
        "# drive = GoogleDrive(gauth)  \n",
        "\n",
        "# # get the folder id where you want to save your file\n",
        "# file = drive.CreateFile()\n",
        "# file.SetContentFile('fmodel.pkl')\n",
        "# file.Upload() \n"
      ],
      "execution_count": 0,
      "outputs": []
    },
    {
      "cell_type": "code",
      "metadata": {
        "id": "MFtS7xUSE8Tp",
        "colab_type": "code",
        "colab": {}
      },
      "source": [
        "# from google.colab import files\n",
        "# files.download('model.sav')"
      ],
      "execution_count": 0,
      "outputs": []
    },
    {
      "cell_type": "code",
      "metadata": {
        "id": "P1cP1kHCGgzp",
        "colab_type": "code",
        "colab": {}
      },
      "source": [
        "# # load the model from disk\n",
        "# loaded_model = joblib.load('model.sav')\n",
        "# result = loaded_model.predict(X_test)\n",
        "# print(result[0:5])"
      ],
      "execution_count": 0,
      "outputs": []
    },
    {
      "cell_type": "code",
      "metadata": {
        "id": "EmHxh2l9wyEq",
        "colab_type": "code",
        "colab": {}
      },
      "source": [
        "# final_features"
      ],
      "execution_count": 0,
      "outputs": []
    },
    {
      "cell_type": "code",
      "metadata": {
        "id": "Dtpr905LItp5",
        "colab_type": "code",
        "colab": {}
      },
      "source": [
        "# Making the predictions\n",
        "pred1 = cls.predict(X_test)"
      ],
      "execution_count": 0,
      "outputs": []
    },
    {
      "cell_type": "code",
      "metadata": {
        "id": "98zyEdKbajhn",
        "colab_type": "code",
        "outputId": "928a24e2-de0a-44da-9a62-0d4d363edfbf",
        "colab": {
          "base_uri": "https://localhost:8080/",
          "height": 34
        }
      },
      "source": [
        "print(\"Mean squared error: %.2f\"\n",
        "      % mean_squared_error(y_test, pred1))"
      ],
      "execution_count": 0,
      "outputs": [
        {
          "output_type": "stream",
          "text": [
            "Mean squared error: 2.14\n"
          ],
          "name": "stdout"
        }
      ]
    },
    {
      "cell_type": "code",
      "metadata": {
        "id": "zFTRMdibcMVj",
        "colab_type": "code",
        "outputId": "e60e9a44-ace9-463a-aa9b-abe79084ccb8",
        "colab": {
          "base_uri": "https://localhost:8080/",
          "height": 340
        }
      },
      "source": [
        "# performance matrics and model eveluation using sklearn.metrics inbuilt classification metric\n",
        "print(classification_report(y_test, pred1))"
      ],
      "execution_count": 0,
      "outputs": [
        {
          "output_type": "stream",
          "text": [
            "              precision    recall  f1-score   support\n",
            "\n",
            "           0       0.94      0.92      0.93        49\n",
            "           1       0.94      1.00      0.97        49\n",
            "           2       0.81      0.87      0.84        39\n",
            "           3       1.00      1.00      1.00        15\n",
            "           4       0.71      0.50      0.59        10\n",
            "           5       0.67      0.80      0.73         5\n",
            "           6       1.00      0.25      0.40         4\n",
            "           7       0.75      0.86      0.80         7\n",
            "           8       0.33      0.50      0.40         4\n",
            "           9       0.00      0.00      0.00         2\n",
            "          10       1.00      1.00      1.00         1\n",
            "          11       1.00      0.50      0.67         4\n",
            "\n",
            "    accuracy                           0.87       189\n",
            "   macro avg       0.76      0.68      0.69       189\n",
            "weighted avg       0.87      0.87      0.86       189\n",
            "\n"
          ],
          "name": "stdout"
        }
      ]
    },
    {
      "cell_type": "code",
      "metadata": {
        "id": "Znr4oT9eZUzj",
        "colab_type": "code",
        "outputId": "115c0734-f87d-4cc8-a36c-7b58fd98f990",
        "colab": {
          "base_uri": "https://localhost:8080/",
          "height": 204
        }
      },
      "source": [
        "y_predicted = pd.DataFrame({'PredictItem_ID':pred1})\n",
        "y_predicted.head()"
      ],
      "execution_count": 0,
      "outputs": [
        {
          "output_type": "execute_result",
          "data": {
            "text/html": [
              "<div>\n",
              "<style scoped>\n",
              "    .dataframe tbody tr th:only-of-type {\n",
              "        vertical-align: middle;\n",
              "    }\n",
              "\n",
              "    .dataframe tbody tr th {\n",
              "        vertical-align: top;\n",
              "    }\n",
              "\n",
              "    .dataframe thead th {\n",
              "        text-align: right;\n",
              "    }\n",
              "</style>\n",
              "<table border=\"1\" class=\"dataframe\">\n",
              "  <thead>\n",
              "    <tr style=\"text-align: right;\">\n",
              "      <th></th>\n",
              "      <th>PredictItem_ID</th>\n",
              "    </tr>\n",
              "  </thead>\n",
              "  <tbody>\n",
              "    <tr>\n",
              "      <th>0</th>\n",
              "      <td>2</td>\n",
              "    </tr>\n",
              "    <tr>\n",
              "      <th>1</th>\n",
              "      <td>2</td>\n",
              "    </tr>\n",
              "    <tr>\n",
              "      <th>2</th>\n",
              "      <td>10</td>\n",
              "    </tr>\n",
              "    <tr>\n",
              "      <th>3</th>\n",
              "      <td>2</td>\n",
              "    </tr>\n",
              "    <tr>\n",
              "      <th>4</th>\n",
              "      <td>2</td>\n",
              "    </tr>\n",
              "  </tbody>\n",
              "</table>\n",
              "</div>"
            ],
            "text/plain": [
              "   PredictItem_ID\n",
              "0               2\n",
              "1               2\n",
              "2              10\n",
              "3               2\n",
              "4               2"
            ]
          },
          "metadata": {
            "tags": []
          },
          "execution_count": 418
        }
      ]
    },
    {
      "cell_type": "code",
      "metadata": {
        "id": "QDbKgELBZHuF",
        "colab_type": "code",
        "outputId": "ad4e7881-5a84-40c4-979e-d32301c16ebe",
        "colab": {
          "base_uri": "https://localhost:8080/",
          "height": 204
        }
      },
      "source": [
        "mapping = dict(y_unique[['New_ID','index']].values)\n",
        "y_predicted['ItemCategory_New'] = y_predicted.PredictItem_ID.map(mapping)\n",
        "y_predicted.head()"
      ],
      "execution_count": 0,
      "outputs": [
        {
          "output_type": "execute_result",
          "data": {
            "text/html": [
              "<div>\n",
              "<style scoped>\n",
              "    .dataframe tbody tr th:only-of-type {\n",
              "        vertical-align: middle;\n",
              "    }\n",
              "\n",
              "    .dataframe tbody tr th {\n",
              "        vertical-align: top;\n",
              "    }\n",
              "\n",
              "    .dataframe thead th {\n",
              "        text-align: right;\n",
              "    }\n",
              "</style>\n",
              "<table border=\"1\" class=\"dataframe\">\n",
              "  <thead>\n",
              "    <tr style=\"text-align: right;\">\n",
              "      <th></th>\n",
              "      <th>PredictItem_ID</th>\n",
              "      <th>ItemCategory_New</th>\n",
              "    </tr>\n",
              "  </thead>\n",
              "  <tbody>\n",
              "    <tr>\n",
              "      <th>0</th>\n",
              "      <td>2</td>\n",
              "      <td>entertainment &amp; eat out</td>\n",
              "    </tr>\n",
              "    <tr>\n",
              "      <th>1</th>\n",
              "      <td>2</td>\n",
              "      <td>entertainment &amp; eat out</td>\n",
              "    </tr>\n",
              "    <tr>\n",
              "      <th>2</th>\n",
              "      <td>10</td>\n",
              "      <td>gifts &amp; donations</td>\n",
              "    </tr>\n",
              "    <tr>\n",
              "      <th>3</th>\n",
              "      <td>2</td>\n",
              "      <td>entertainment &amp; eat out</td>\n",
              "    </tr>\n",
              "    <tr>\n",
              "      <th>4</th>\n",
              "      <td>2</td>\n",
              "      <td>entertainment &amp; eat out</td>\n",
              "    </tr>\n",
              "  </tbody>\n",
              "</table>\n",
              "</div>"
            ],
            "text/plain": [
              "   PredictItem_ID         ItemCategory_New\n",
              "0               2  entertainment & eat out\n",
              "1               2  entertainment & eat out\n",
              "2              10        gifts & donations\n",
              "3               2  entertainment & eat out\n",
              "4               2  entertainment & eat out"
            ]
          },
          "metadata": {
            "tags": []
          },
          "execution_count": 419
        }
      ]
    },
    {
      "cell_type": "code",
      "metadata": {
        "id": "50N82hmEFZU9",
        "colab_type": "code",
        "colab": {}
      },
      "source": [
        "# import joblib\n",
        "# # save the model to disk\n",
        "# filename = 'fmapping.pkl'\n",
        "# joblib.dump(mapping, filename)\n",
        "\n",
        "\n",
        "\n",
        "# from pydrive.auth import GoogleAuth\n",
        "# from pydrive.drive import GoogleDrive\n",
        "# from google.colab import auth\n",
        "# from oauth2client.client import GoogleCredentials\n",
        "\n",
        "# # 1. Authenticate and create the PyDrive client.\n",
        "# auth.authenticate_user()\n",
        "# gauth = GoogleAuth()\n",
        "# gauth.credentials = GoogleCredentials.get_application_default()\n",
        "# drive = GoogleDrive(gauth)  \n",
        "\n",
        "# # get the folder id where you want to save your file\n",
        "# file = drive.CreateFile()\n",
        "# file.SetContentFile('fmapping.pkl')\n",
        "# file.Upload() "
      ],
      "execution_count": 0,
      "outputs": []
    },
    {
      "cell_type": "code",
      "metadata": {
        "id": "lZ72BQytZupn",
        "colab_type": "code",
        "outputId": "09d88a8f-94a0-4c58-ce87-4e9a703a0e5e",
        "colab": {
          "base_uri": "https://localhost:8080/",
          "height": 102
        }
      },
      "source": [
        "\n",
        "y_predicted = np.array(y_predicted.drop('PredictItem_ID', axis=1))\n",
        "y_predicted[:5]"
      ],
      "execution_count": 0,
      "outputs": [
        {
          "output_type": "execute_result",
          "data": {
            "text/plain": [
              "array([['entertainment & eat out'],\n",
              "       ['entertainment & eat out'],\n",
              "       ['gifts & donations'],\n",
              "       ['entertainment & eat out'],\n",
              "       ['entertainment & eat out']], dtype=object)"
            ]
          },
          "metadata": {
            "tags": []
          },
          "execution_count": 421
        }
      ]
    },
    {
      "cell_type": "markdown",
      "metadata": {
        "id": "8t7UXlDQ7PFJ",
        "colab_type": "text"
      },
      "source": [
        "# submission"
      ]
    },
    {
      "cell_type": "code",
      "metadata": {
        "id": "phCBVPNM7N2M",
        "colab_type": "code",
        "colab": {}
      },
      "source": [
        "# save predictions\n",
        "submission = pd.DataFrame({'description' : features2[X_train.shape[0]:],'category' : y_predicted.ravel()}) "
      ],
      "execution_count": 0,
      "outputs": []
    },
    {
      "cell_type": "code",
      "metadata": {
        "id": "KQ6jzCvcepnn",
        "colab_type": "code",
        "outputId": "5f7e3b50-af29-4208-c63a-851791eb8eb0",
        "colab": {
          "base_uri": "https://localhost:8080/",
          "height": 238
        }
      },
      "source": [
        "submission.category.value_counts()"
      ],
      "execution_count": 0,
      "outputs": [
        {
          "output_type": "execute_result",
          "data": {
            "text/plain": [
              "fees                       52\n",
              "transport                  48\n",
              "entertainment & eat out    42\n",
              "communication              15\n",
              "short-term credit           8\n",
              "food                        7\n",
              "home                        6\n",
              "life and health             6\n",
              "education                   2\n",
              "other                       1\n",
              "saving and investment       1\n",
              "gifts & donations           1\n",
              "Name: category, dtype: int64"
            ]
          },
          "metadata": {
            "tags": []
          },
          "execution_count": 423
        }
      ]
    },
    {
      "cell_type": "code",
      "metadata": {
        "id": "7x6eqGzi7iTH",
        "colab_type": "code",
        "outputId": "a16f09d7-4050-4e58-f435-176ddee7b1ba",
        "colab": {
          "base_uri": "https://localhost:8080/",
          "height": 204
        }
      },
      "source": [
        "submission.head()"
      ],
      "execution_count": 0,
      "outputs": [
        {
          "output_type": "execute_result",
          "data": {
            "text/html": [
              "<div>\n",
              "<style scoped>\n",
              "    .dataframe tbody tr th:only-of-type {\n",
              "        vertical-align: middle;\n",
              "    }\n",
              "\n",
              "    .dataframe tbody tr th {\n",
              "        vertical-align: top;\n",
              "    }\n",
              "\n",
              "    .dataframe thead th {\n",
              "        text-align: right;\n",
              "    }\n",
              "</style>\n",
              "<table border=\"1\" class=\"dataframe\">\n",
              "  <thead>\n",
              "    <tr style=\"text-align: right;\">\n",
              "      <th></th>\n",
              "      <th>description</th>\n",
              "      <th>category</th>\n",
              "    </tr>\n",
              "  </thead>\n",
              "  <tbody>\n",
              "    <tr>\n",
              "      <th>0</th>\n",
              "      <td>FEE - PRE-PAID TOP UP</td>\n",
              "      <td>entertainment &amp; eat out</td>\n",
              "    </tr>\n",
              "    <tr>\n",
              "      <th>1</th>\n",
              "      <td>CHECKERS BRAM 5326*9249 11 JAN</td>\n",
              "      <td>entertainment &amp; eat out</td>\n",
              "    </tr>\n",
              "    <tr>\n",
              "      <th>2</th>\n",
              "      <td>C*ENGEN CONRA 5326*9249 13 JAN</td>\n",
              "      <td>gifts &amp; donations</td>\n",
              "    </tr>\n",
              "    <tr>\n",
              "      <th>3</th>\n",
              "      <td>C*ENGEN PAARD 5326*9249 13 JAN</td>\n",
              "      <td>entertainment &amp; eat out</td>\n",
              "    </tr>\n",
              "    <tr>\n",
              "      <th>4</th>\n",
              "      <td>I*MR D FOOD Z 5326*9249 14 JAN</td>\n",
              "      <td>entertainment &amp; eat out</td>\n",
              "    </tr>\n",
              "  </tbody>\n",
              "</table>\n",
              "</div>"
            ],
            "text/plain": [
              "                      description                 category\n",
              "0           FEE - PRE-PAID TOP UP  entertainment & eat out\n",
              "1  CHECKERS BRAM 5326*9249 11 JAN  entertainment & eat out\n",
              "2  C*ENGEN CONRA 5326*9249 13 JAN        gifts & donations\n",
              "3  C*ENGEN PAARD 5326*9249 13 JAN  entertainment & eat out\n",
              "4  I*MR D FOOD Z 5326*9249 14 JAN  entertainment & eat out"
            ]
          },
          "metadata": {
            "tags": []
          },
          "execution_count": 424
        }
      ]
    },
    {
      "cell_type": "code",
      "metadata": {
        "id": "QIYIILJR7llA",
        "colab_type": "code",
        "colab": {}
      },
      "source": [
        "# submission.to_sql('NLP_model_results', con=connection, if_exists='append', index=False,method='multi',chunksize=500)\n"
      ],
      "execution_count": 0,
      "outputs": []
    }
  ]
}