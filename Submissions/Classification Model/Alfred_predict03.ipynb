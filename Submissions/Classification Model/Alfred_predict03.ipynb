{
  "nbformat": 4,
  "nbformat_minor": 0,
  "metadata": {
    "kernelspec": {
      "display_name": "Python 3",
      "language": "python",
      "name": "python3"
    },
    "language_info": {
      "codemirror_mode": {
        "name": "ipython",
        "version": 3
      },
      "file_extension": ".py",
      "mimetype": "text/x-python",
      "name": "python",
      "nbconvert_exporter": "python",
      "pygments_lexer": "ipython3",
      "version": "3.7.4"
    },
    "colab": {
      "name": "Alfred_predict03.ipynb",
      "provenance": [],
      "collapsed_sections": [],
      "include_colab_link": true
    }
  },
  "cells": [
    {
      "cell_type": "markdown",
      "metadata": {
        "id": "view-in-github",
        "colab_type": "text"
      },
      "source": [
        "<a href=\"https://colab.research.google.com/github/alphoenixbiz/AlphaCode-EXPLORE/blob/master/Submissions/Classification%20Model/Alfred_predict03.ipynb\" target=\"_parent\"><img src=\"https://colab.research.google.com/assets/colab-badge.svg\" alt=\"Open In Colab\"/></a>"
      ]
    },
    {
      "cell_type": "code",
      "metadata": {
        "id": "QsjAEOQPjPOE",
        "colab_type": "code",
        "colab": {}
      },
      "source": [
        "import numpy as np\n",
        "import pandas as pd\n",
        "from matplotlib import pyplot as plt\n",
        "import datetime\n",
        "import seaborn as sns\n",
        "import pickle\n",
        "from sklearn.metrics import accuracy_score, f1_score\n",
        "from sklearn.metrics import precision_score, recall_score\n",
        "from sklearn.model_selection import train_test_split\n",
        "from sklearn import metrics\n",
        "from sklearn.preprocessing import StandardScaler\n",
        "from sklearn.preprocessing import LabelEncoder\n",
        "from sklearn.metrics import classification_report\n",
        "%matplotlib inline\n",
        "from sklearn.utils import resample\n",
        "import re\n",
        "import nltk\n",
        "from sklearn.linear_model import LogisticRegressionCV\n",
        "from sklearn.multiclass import OneVsRestClassifier\n",
        "from sklearn.feature_extraction.text import TfidfVectorizer\n",
        "from sklearn.feature_extraction.text import CountVectorizer\n",
        "from sklearn.metrics import mean_squared_error, r2_score"
      ],
      "execution_count": 0,
      "outputs": []
    },
    {
      "cell_type": "markdown",
      "metadata": {
        "id": "9ZQMoI8ZjPOK",
        "colab_type": "text"
      },
      "source": [
        "### Install SQL Alchemy"
      ]
    },
    {
      "cell_type": "code",
      "metadata": {
        "id": "XGIeNU8rjPOL",
        "colab_type": "code",
        "colab": {
          "base_uri": "https://localhost:8080/",
          "height": 51
        },
        "outputId": "3eb8f27a-529f-44c2-d11b-4ae59310b789"
      },
      "source": [
        "!pip install sqlalchemy\n",
        "!pip install pymssql"
      ],
      "execution_count": 51,
      "outputs": [
        {
          "output_type": "stream",
          "text": [
            "Requirement already satisfied: sqlalchemy in /usr/local/lib/python3.6/dist-packages (1.3.13)\n",
            "Requirement already satisfied: pymssql in /usr/local/lib/python3.6/dist-packages (2.1.4)\n"
          ],
          "name": "stdout"
        }
      ]
    },
    {
      "cell_type": "markdown",
      "metadata": {
        "id": "GtF3e1b_jPOQ",
        "colab_type": "text"
      },
      "source": [
        "### Import packages"
      ]
    },
    {
      "cell_type": "code",
      "metadata": {
        "id": "Es_nLyyDjPOR",
        "colab_type": "code",
        "colab": {}
      },
      "source": [
        "import sqlalchemy as sa\n",
        "import pandas as pd\n",
        "from sqlalchemy import create_engine"
      ],
      "execution_count": 0,
      "outputs": []
    },
    {
      "cell_type": "markdown",
      "metadata": {
        "id": "DMnNIYjZjPOU",
        "colab_type": "text"
      },
      "source": [
        "### Create a connection to our database"
      ]
    },
    {
      "cell_type": "code",
      "metadata": {
        "id": "-K06tSuEjPOV",
        "colab_type": "code",
        "colab": {}
      },
      "source": [
        "Username = 'admin'\n",
        "Password = 'amazing_people'\n",
        "Host = 'alphacode-explore.ccwgqdqrrmvt.eu-west-1.rds.amazonaws.com'\n",
        "Port = '1433'\n",
        "Database = 'Alfred'"
      ],
      "execution_count": 0,
      "outputs": []
    },
    {
      "cell_type": "markdown",
      "metadata": {
        "id": "YKh6S4sxjPOX",
        "colab_type": "text"
      },
      "source": [
        "### Create connection"
      ]
    },
    {
      "cell_type": "code",
      "metadata": {
        "id": "mzwv9qXEjPOY",
        "colab_type": "code",
        "colab": {}
      },
      "source": [
        "connection = create_engine(\n",
        "    'mssql+pymssql://' +\n",
        "    Username + ':' + Password + '@' + Host + ':' + Port + '/' + Database\n",
        ")"
      ],
      "execution_count": 0,
      "outputs": []
    },
    {
      "cell_type": "markdown",
      "metadata": {
        "id": "wIJ73mUBjPOb",
        "colab_type": "text"
      },
      "source": [
        "### What is the sql query we want to perform?"
      ]
    },
    {
      "cell_type": "code",
      "metadata": {
        "id": "exrRFZIajPOd",
        "colab_type": "code",
        "colab": {}
      },
      "source": [
        "sql_query1 = \"USE Alfred Select * from Bank_Statments\""
      ],
      "execution_count": 0,
      "outputs": []
    },
    {
      "cell_type": "markdown",
      "metadata": {
        "id": "0jVj_yP2jPOi",
        "colab_type": "text"
      },
      "source": [
        " ### Using pandas we now take our connection and our query to create a dataframe"
      ]
    },
    {
      "cell_type": "code",
      "metadata": {
        "id": "WjKKphbRjPOj",
        "colab_type": "code",
        "colab": {
          "base_uri": "https://localhost:8080/",
          "height": 204
        },
        "outputId": "dd613f8e-22bc-4320-976e-e1e0a6678def"
      },
      "source": [
        "#import the training data\n",
        "train = pd.read_sql_query(sql_query1, connection)\n",
        "train.head()"
      ],
      "execution_count": 56,
      "outputs": [
        {
          "output_type": "execute_result",
          "data": {
            "text/html": [
              "<div>\n",
              "<style scoped>\n",
              "    .dataframe tbody tr th:only-of-type {\n",
              "        vertical-align: middle;\n",
              "    }\n",
              "\n",
              "    .dataframe tbody tr th {\n",
              "        vertical-align: top;\n",
              "    }\n",
              "\n",
              "    .dataframe thead th {\n",
              "        text-align: right;\n",
              "    }\n",
              "</style>\n",
              "<table border=\"1\" class=\"dataframe\">\n",
              "  <thead>\n",
              "    <tr style=\"text-align: right;\">\n",
              "      <th></th>\n",
              "      <th>Transaction_Date</th>\n",
              "      <th>Posting_Date</th>\n",
              "      <th>Description</th>\n",
              "      <th>Debits</th>\n",
              "      <th>Credits</th>\n",
              "      <th>Category</th>\n",
              "      <th>column7</th>\n",
              "      <th>CATEGORIES</th>\n",
              "      <th>column9</th>\n",
              "    </tr>\n",
              "  </thead>\n",
              "  <tbody>\n",
              "    <tr>\n",
              "      <th>0</th>\n",
              "      <td>2020-02-10</td>\n",
              "      <td>2020-02-10</td>\n",
              "      <td>MTN DATA BUNDLES</td>\n",
              "      <td>499</td>\n",
              "      <td>None</td>\n",
              "      <td>COMMUNICATION</td>\n",
              "      <td>None</td>\n",
              "      <td>HOME</td>\n",
              "      <td>None</td>\n",
              "    </tr>\n",
              "    <tr>\n",
              "      <th>1</th>\n",
              "      <td>2020-02-08</td>\n",
              "      <td>2020-02-09</td>\n",
              "      <td>APPLE.COM/BILL CORK IE</td>\n",
              "      <td>74.99</td>\n",
              "      <td>None</td>\n",
              "      <td>ENTERTAINMENT &amp; EAT OUT</td>\n",
              "      <td>None</td>\n",
              "      <td>FOOD</td>\n",
              "      <td>None</td>\n",
              "    </tr>\n",
              "    <tr>\n",
              "      <th>2</th>\n",
              "      <td>2020-02-07</td>\n",
              "      <td>2020-02-09</td>\n",
              "      <td>PARKHURST HARDWARE    RE PARKHURST ZA</td>\n",
              "      <td>75</td>\n",
              "      <td>None</td>\n",
              "      <td>HOME</td>\n",
              "      <td>None</td>\n",
              "      <td>TRANSPORT</td>\n",
              "      <td>None</td>\n",
              "    </tr>\n",
              "    <tr>\n",
              "      <th>3</th>\n",
              "      <td>2020-02-07</td>\n",
              "      <td>2020-02-08</td>\n",
              "      <td>SEATTLE RENNIES HOUSE JOHANNESBURG ZA</td>\n",
              "      <td>31.5</td>\n",
              "      <td>None</td>\n",
              "      <td>ENTERTAINMENT &amp; EAT OUT</td>\n",
              "      <td>None</td>\n",
              "      <td>LIFE AND HEALTH</td>\n",
              "      <td>None</td>\n",
              "    </tr>\n",
              "    <tr>\n",
              "      <th>4</th>\n",
              "      <td>2020-02-07</td>\n",
              "      <td>2020-02-08</td>\n",
              "      <td>FLM RENNIE HOUSE EATER BRAAMFONTEIN ZA</td>\n",
              "      <td>29.98</td>\n",
              "      <td>None</td>\n",
              "      <td>ENTERTAINMENT &amp; EAT OUT</td>\n",
              "      <td>None</td>\n",
              "      <td>COMMUNICATION</td>\n",
              "      <td>None</td>\n",
              "    </tr>\n",
              "  </tbody>\n",
              "</table>\n",
              "</div>"
            ],
            "text/plain": [
              "  Transaction_Date Posting_Date  ...       CATEGORIES column9\n",
              "0       2020-02-10   2020-02-10  ...             HOME    None\n",
              "1       2020-02-08   2020-02-09  ...             FOOD    None\n",
              "2       2020-02-07   2020-02-09  ...        TRANSPORT    None\n",
              "3       2020-02-07   2020-02-08  ...  LIFE AND HEALTH    None\n",
              "4       2020-02-07   2020-02-08  ...    COMMUNICATION    None\n",
              "\n",
              "[5 rows x 9 columns]"
            ]
          },
          "metadata": {
            "tags": []
          },
          "execution_count": 56
        }
      ]
    },
    {
      "cell_type": "code",
      "metadata": {
        "id": "q6eQ3CxkW6ez",
        "colab_type": "code",
        "colab": {
          "base_uri": "https://localhost:8080/",
          "height": 204
        },
        "outputId": "646a283b-df73-4b7a-977b-d185a3b78373"
      },
      "source": [
        "train.tail()"
      ],
      "execution_count": 57,
      "outputs": [
        {
          "output_type": "execute_result",
          "data": {
            "text/html": [
              "<div>\n",
              "<style scoped>\n",
              "    .dataframe tbody tr th:only-of-type {\n",
              "        vertical-align: middle;\n",
              "    }\n",
              "\n",
              "    .dataframe tbody tr th {\n",
              "        vertical-align: top;\n",
              "    }\n",
              "\n",
              "    .dataframe thead th {\n",
              "        text-align: right;\n",
              "    }\n",
              "</style>\n",
              "<table border=\"1\" class=\"dataframe\">\n",
              "  <thead>\n",
              "    <tr style=\"text-align: right;\">\n",
              "      <th></th>\n",
              "      <th>Transaction_Date</th>\n",
              "      <th>Posting_Date</th>\n",
              "      <th>Description</th>\n",
              "      <th>Debits</th>\n",
              "      <th>Credits</th>\n",
              "      <th>Category</th>\n",
              "      <th>column7</th>\n",
              "      <th>CATEGORIES</th>\n",
              "      <th>column9</th>\n",
              "    </tr>\n",
              "  </thead>\n",
              "  <tbody>\n",
              "    <tr>\n",
              "      <th>938</th>\n",
              "      <td>None</td>\n",
              "      <td>2020-02-02</td>\n",
              "      <td>IBANK PAYMENT</td>\n",
              "      <td>200</td>\n",
              "      <td>None</td>\n",
              "      <td>GIFTS AND DONATIONS</td>\n",
              "      <td>None</td>\n",
              "      <td>None</td>\n",
              "      <td>None</td>\n",
              "    </tr>\n",
              "    <tr>\n",
              "      <th>939</th>\n",
              "      <td>None</td>\n",
              "      <td>2020-02-02</td>\n",
              "      <td>POS PURCHASE               BP Filling Sta</td>\n",
              "      <td>81.6</td>\n",
              "      <td>None</td>\n",
              "      <td>TRANSPORT</td>\n",
              "      <td>None</td>\n",
              "      <td>None</td>\n",
              "      <td>None</td>\n",
              "    </tr>\n",
              "    <tr>\n",
              "      <th>940</th>\n",
              "      <td>None</td>\n",
              "      <td>2020-02-02</td>\n",
              "      <td>POS PURCHASE                   BP Filling Sta</td>\n",
              "      <td>28</td>\n",
              "      <td>None</td>\n",
              "      <td>TRANSPORT</td>\n",
              "      <td>None</td>\n",
              "      <td>None</td>\n",
              "      <td>None</td>\n",
              "    </tr>\n",
              "    <tr>\n",
              "      <th>941</th>\n",
              "      <td>None</td>\n",
              "      <td>2020-02-01</td>\n",
              "      <td>ACB DEBIT:EXTERNAL           VIRGIN ACT</td>\n",
              "      <td>297.5</td>\n",
              "      <td>None</td>\n",
              "      <td>LIFE AND HEALTH</td>\n",
              "      <td>None</td>\n",
              "      <td>None</td>\n",
              "      <td>None</td>\n",
              "    </tr>\n",
              "    <tr>\n",
              "      <th>942</th>\n",
              "      <td>None</td>\n",
              "      <td>2020-02-01</td>\n",
              "      <td>MANAGEMENT FEE</td>\n",
              "      <td>29</td>\n",
              "      <td>None</td>\n",
              "      <td>FEES</td>\n",
              "      <td>None</td>\n",
              "      <td>None</td>\n",
              "      <td>None</td>\n",
              "    </tr>\n",
              "  </tbody>\n",
              "</table>\n",
              "</div>"
            ],
            "text/plain": [
              "    Transaction_Date Posting_Date  ... CATEGORIES column9\n",
              "938             None   2020-02-02  ...       None    None\n",
              "939             None   2020-02-02  ...       None    None\n",
              "940             None   2020-02-02  ...       None    None\n",
              "941             None   2020-02-01  ...       None    None\n",
              "942             None   2020-02-01  ...       None    None\n",
              "\n",
              "[5 rows x 9 columns]"
            ]
          },
          "metadata": {
            "tags": []
          },
          "execution_count": 57
        }
      ]
    },
    {
      "cell_type": "code",
      "metadata": {
        "id": "1mI7IraaOYT5",
        "colab_type": "code",
        "colab": {}
      },
      "source": [
        "# #import the test data\n",
        "# test = pd.read_sql_query(sql_query2, connection)\n",
        "# test.head()"
      ],
      "execution_count": 0,
      "outputs": []
    },
    {
      "cell_type": "markdown",
      "metadata": {
        "id": "pUvJ7_9bjPOp",
        "colab_type": "text"
      },
      "source": [
        "# EDA"
      ]
    },
    {
      "cell_type": "code",
      "metadata": {
        "id": "cQVQ6xk-hLPD",
        "colab_type": "code",
        "colab": {
          "base_uri": "https://localhost:8080/",
          "height": 119
        },
        "outputId": "98234e72-2c06-444d-8d20-2d8175a544ae"
      },
      "source": [
        "# get the target variable\n",
        "# create our target variables\n",
        "y=train.Category.apply(lambda x: x.lower())\n",
        "y.head()\n"
      ],
      "execution_count": 59,
      "outputs": [
        {
          "output_type": "execute_result",
          "data": {
            "text/plain": [
              "0              communication\n",
              "1    entertainment & eat out\n",
              "2                       home\n",
              "3    entertainment & eat out\n",
              "4    entertainment & eat out\n",
              "Name: Category, dtype: object"
            ]
          },
          "metadata": {
            "tags": []
          },
          "execution_count": 59
        }
      ]
    },
    {
      "cell_type": "code",
      "metadata": {
        "id": "O2z7oxWpO-gC",
        "colab_type": "code",
        "colab": {
          "base_uri": "https://localhost:8080/",
          "height": 289
        },
        "outputId": "c2411798-5ecf-4d3c-f78d-c7faaa04b3d2"
      },
      "source": [
        "y.value_counts()"
      ],
      "execution_count": 60,
      "outputs": [
        {
          "output_type": "execute_result",
          "data": {
            "text/plain": [
              "transport                  295\n",
              "fees                       216\n",
              "entertainment & eat out    174\n",
              "communication               68\n",
              "food                        42\n",
              "home                        32\n",
              "other                       28\n",
              "short-term credit           27\n",
              "life and health             19\n",
              "saving and investment       17\n",
              "gifts & donations           15\n",
              "education                    7\n",
              "income                       1\n",
              "interest                     1\n",
              "gifts and donations          1\n",
              "Name: Category, dtype: int64"
            ]
          },
          "metadata": {
            "tags": []
          },
          "execution_count": 60
        }
      ]
    },
    {
      "cell_type": "code",
      "metadata": {
        "id": "aS9XU_CzPlfi",
        "colab_type": "code",
        "colab": {
          "base_uri": "https://localhost:8080/",
          "height": 204
        },
        "outputId": "5dcd538a-7fd1-4943-85d7-03581eec9cd8"
      },
      "source": [
        "y_unique = y.value_counts()\n",
        "y_unique = pd.DataFrame(y_unique)\n",
        "y_unique.head()"
      ],
      "execution_count": 61,
      "outputs": [
        {
          "output_type": "execute_result",
          "data": {
            "text/html": [
              "<div>\n",
              "<style scoped>\n",
              "    .dataframe tbody tr th:only-of-type {\n",
              "        vertical-align: middle;\n",
              "    }\n",
              "\n",
              "    .dataframe tbody tr th {\n",
              "        vertical-align: top;\n",
              "    }\n",
              "\n",
              "    .dataframe thead th {\n",
              "        text-align: right;\n",
              "    }\n",
              "</style>\n",
              "<table border=\"1\" class=\"dataframe\">\n",
              "  <thead>\n",
              "    <tr style=\"text-align: right;\">\n",
              "      <th></th>\n",
              "      <th>Category</th>\n",
              "    </tr>\n",
              "  </thead>\n",
              "  <tbody>\n",
              "    <tr>\n",
              "      <th>transport</th>\n",
              "      <td>295</td>\n",
              "    </tr>\n",
              "    <tr>\n",
              "      <th>fees</th>\n",
              "      <td>216</td>\n",
              "    </tr>\n",
              "    <tr>\n",
              "      <th>entertainment &amp; eat out</th>\n",
              "      <td>174</td>\n",
              "    </tr>\n",
              "    <tr>\n",
              "      <th>communication</th>\n",
              "      <td>68</td>\n",
              "    </tr>\n",
              "    <tr>\n",
              "      <th>food</th>\n",
              "      <td>42</td>\n",
              "    </tr>\n",
              "  </tbody>\n",
              "</table>\n",
              "</div>"
            ],
            "text/plain": [
              "                         Category\n",
              "transport                     295\n",
              "fees                          216\n",
              "entertainment & eat out       174\n",
              "communication                  68\n",
              "food                           42"
            ]
          },
          "metadata": {
            "tags": []
          },
          "execution_count": 61
        }
      ]
    },
    {
      "cell_type": "code",
      "metadata": {
        "id": "BgQ2_OEoP5ea",
        "colab_type": "code",
        "colab": {
          "base_uri": "https://localhost:8080/",
          "height": 204
        },
        "outputId": "e040f380-568f-471c-9b02-c8eafdb33309"
      },
      "source": [
        "y_unique = y_unique.reset_index(drop=False)\n",
        "y_unique.head()"
      ],
      "execution_count": 62,
      "outputs": [
        {
          "output_type": "execute_result",
          "data": {
            "text/html": [
              "<div>\n",
              "<style scoped>\n",
              "    .dataframe tbody tr th:only-of-type {\n",
              "        vertical-align: middle;\n",
              "    }\n",
              "\n",
              "    .dataframe tbody tr th {\n",
              "        vertical-align: top;\n",
              "    }\n",
              "\n",
              "    .dataframe thead th {\n",
              "        text-align: right;\n",
              "    }\n",
              "</style>\n",
              "<table border=\"1\" class=\"dataframe\">\n",
              "  <thead>\n",
              "    <tr style=\"text-align: right;\">\n",
              "      <th></th>\n",
              "      <th>index</th>\n",
              "      <th>Category</th>\n",
              "    </tr>\n",
              "  </thead>\n",
              "  <tbody>\n",
              "    <tr>\n",
              "      <th>0</th>\n",
              "      <td>transport</td>\n",
              "      <td>295</td>\n",
              "    </tr>\n",
              "    <tr>\n",
              "      <th>1</th>\n",
              "      <td>fees</td>\n",
              "      <td>216</td>\n",
              "    </tr>\n",
              "    <tr>\n",
              "      <th>2</th>\n",
              "      <td>entertainment &amp; eat out</td>\n",
              "      <td>174</td>\n",
              "    </tr>\n",
              "    <tr>\n",
              "      <th>3</th>\n",
              "      <td>communication</td>\n",
              "      <td>68</td>\n",
              "    </tr>\n",
              "    <tr>\n",
              "      <th>4</th>\n",
              "      <td>food</td>\n",
              "      <td>42</td>\n",
              "    </tr>\n",
              "  </tbody>\n",
              "</table>\n",
              "</div>"
            ],
            "text/plain": [
              "                     index  Category\n",
              "0                transport       295\n",
              "1                     fees       216\n",
              "2  entertainment & eat out       174\n",
              "3            communication        68\n",
              "4                     food        42"
            ]
          },
          "metadata": {
            "tags": []
          },
          "execution_count": 62
        }
      ]
    },
    {
      "cell_type": "code",
      "metadata": {
        "id": "OfWnRUhWQC76",
        "colab_type": "code",
        "colab": {
          "base_uri": "https://localhost:8080/",
          "height": 204
        },
        "outputId": "23666826-dcf3-4642-ea3c-c36beb14ade7"
      },
      "source": [
        "y_unique.drop(['Category'], axis=1, inplace=True)  \n",
        "y_unique['New_ID'] = y_unique.index\n",
        "y_unique.head()"
      ],
      "execution_count": 63,
      "outputs": [
        {
          "output_type": "execute_result",
          "data": {
            "text/html": [
              "<div>\n",
              "<style scoped>\n",
              "    .dataframe tbody tr th:only-of-type {\n",
              "        vertical-align: middle;\n",
              "    }\n",
              "\n",
              "    .dataframe tbody tr th {\n",
              "        vertical-align: top;\n",
              "    }\n",
              "\n",
              "    .dataframe thead th {\n",
              "        text-align: right;\n",
              "    }\n",
              "</style>\n",
              "<table border=\"1\" class=\"dataframe\">\n",
              "  <thead>\n",
              "    <tr style=\"text-align: right;\">\n",
              "      <th></th>\n",
              "      <th>index</th>\n",
              "      <th>New_ID</th>\n",
              "    </tr>\n",
              "  </thead>\n",
              "  <tbody>\n",
              "    <tr>\n",
              "      <th>0</th>\n",
              "      <td>transport</td>\n",
              "      <td>0</td>\n",
              "    </tr>\n",
              "    <tr>\n",
              "      <th>1</th>\n",
              "      <td>fees</td>\n",
              "      <td>1</td>\n",
              "    </tr>\n",
              "    <tr>\n",
              "      <th>2</th>\n",
              "      <td>entertainment &amp; eat out</td>\n",
              "      <td>2</td>\n",
              "    </tr>\n",
              "    <tr>\n",
              "      <th>3</th>\n",
              "      <td>communication</td>\n",
              "      <td>3</td>\n",
              "    </tr>\n",
              "    <tr>\n",
              "      <th>4</th>\n",
              "      <td>food</td>\n",
              "      <td>4</td>\n",
              "    </tr>\n",
              "  </tbody>\n",
              "</table>\n",
              "</div>"
            ],
            "text/plain": [
              "                     index  New_ID\n",
              "0                transport       0\n",
              "1                     fees       1\n",
              "2  entertainment & eat out       2\n",
              "3            communication       3\n",
              "4                     food       4"
            ]
          },
          "metadata": {
            "tags": []
          },
          "execution_count": 63
        }
      ]
    },
    {
      "cell_type": "code",
      "metadata": {
        "id": "q0fCHklhRhbl",
        "colab_type": "code",
        "colab": {
          "base_uri": "https://localhost:8080/",
          "height": 34
        },
        "outputId": "4497d9b4-b3aa-4198-b81e-c2298e659ed9"
      },
      "source": [
        "len(y_unique)"
      ],
      "execution_count": 64,
      "outputs": [
        {
          "output_type": "execute_result",
          "data": {
            "text/plain": [
              "15"
            ]
          },
          "metadata": {
            "tags": []
          },
          "execution_count": 64
        }
      ]
    },
    {
      "cell_type": "code",
      "metadata": {
        "id": "u4Bva630R2EI",
        "colab_type": "code",
        "colab": {
          "base_uri": "https://localhost:8080/",
          "height": 204
        },
        "outputId": "694fe70b-46fb-4011-952c-ff2aa47577c7"
      },
      "source": [
        "y =  pd.DataFrame(y)\n",
        "y.head()"
      ],
      "execution_count": 65,
      "outputs": [
        {
          "output_type": "execute_result",
          "data": {
            "text/html": [
              "<div>\n",
              "<style scoped>\n",
              "    .dataframe tbody tr th:only-of-type {\n",
              "        vertical-align: middle;\n",
              "    }\n",
              "\n",
              "    .dataframe tbody tr th {\n",
              "        vertical-align: top;\n",
              "    }\n",
              "\n",
              "    .dataframe thead th {\n",
              "        text-align: right;\n",
              "    }\n",
              "</style>\n",
              "<table border=\"1\" class=\"dataframe\">\n",
              "  <thead>\n",
              "    <tr style=\"text-align: right;\">\n",
              "      <th></th>\n",
              "      <th>Category</th>\n",
              "    </tr>\n",
              "  </thead>\n",
              "  <tbody>\n",
              "    <tr>\n",
              "      <th>0</th>\n",
              "      <td>communication</td>\n",
              "    </tr>\n",
              "    <tr>\n",
              "      <th>1</th>\n",
              "      <td>entertainment &amp; eat out</td>\n",
              "    </tr>\n",
              "    <tr>\n",
              "      <th>2</th>\n",
              "      <td>home</td>\n",
              "    </tr>\n",
              "    <tr>\n",
              "      <th>3</th>\n",
              "      <td>entertainment &amp; eat out</td>\n",
              "    </tr>\n",
              "    <tr>\n",
              "      <th>4</th>\n",
              "      <td>entertainment &amp; eat out</td>\n",
              "    </tr>\n",
              "  </tbody>\n",
              "</table>\n",
              "</div>"
            ],
            "text/plain": [
              "                  Category\n",
              "0            communication\n",
              "1  entertainment & eat out\n",
              "2                     home\n",
              "3  entertainment & eat out\n",
              "4  entertainment & eat out"
            ]
          },
          "metadata": {
            "tags": []
          },
          "execution_count": 65
        }
      ]
    },
    {
      "cell_type": "code",
      "metadata": {
        "id": "Whm-EITAWH8q",
        "colab_type": "code",
        "colab": {
          "base_uri": "https://localhost:8080/",
          "height": 1000
        },
        "outputId": "30563c81-4137-4bdd-f9d5-87ed82a5bdc8"
      },
      "source": [
        "y.Category.values"
      ],
      "execution_count": 66,
      "outputs": [
        {
          "output_type": "execute_result",
          "data": {
            "text/plain": [
              "array(['communication', 'entertainment & eat out', 'home',\n",
              "       'entertainment & eat out', 'entertainment & eat out',\n",
              "       'entertainment & eat out', 'entertainment & eat out',\n",
              "       'entertainment & eat out', 'entertainment & eat out',\n",
              "       'entertainment & eat out', 'saving and investment',\n",
              "       'entertainment & eat out', 'entertainment & eat out',\n",
              "       'entertainment & eat out', 'saving and investment',\n",
              "       'entertainment & eat out', 'entertainment & eat out',\n",
              "       'entertainment & eat out', 'entertainment & eat out', 'other',\n",
              "       'saving and investment', 'life and health', 'other',\n",
              "       'entertainment & eat out', 'entertainment & eat out',\n",
              "       'entertainment & eat out', 'entertainment & eat out',\n",
              "       'life and health', 'saving and investment',\n",
              "       'saving and investment', 'communication', 'life and health',\n",
              "       'short-term credit', 'entertainment & eat out',\n",
              "       'entertainment & eat out', 'entertainment & eat out',\n",
              "       'entertainment & eat out', 'entertainment & eat out',\n",
              "       'entertainment & eat out', 'home', 'entertainment & eat out',\n",
              "       'other', 'home', 'home', 'other', 'other',\n",
              "       'entertainment & eat out', 'entertainment & eat out',\n",
              "       'saving and investment', 'entertainment & eat out',\n",
              "       'entertainment & eat out', 'home', 'entertainment & eat out',\n",
              "       'entertainment & eat out', 'entertainment & eat out',\n",
              "       'entertainment & eat out', 'entertainment & eat out', 'other',\n",
              "       'entertainment & eat out', 'entertainment & eat out', 'transport',\n",
              "       'communication', 'saving and investment', 'transport',\n",
              "       'entertainment & eat out', 'food', 'home', 'transport',\n",
              "       'transport', 'transport', 'transport', 'food', 'transport',\n",
              "       'transport', 'communication', 'fees', 'communication', 'fees',\n",
              "       'fees', 'fees', 'short-term credit', 'short-term credit',\n",
              "       'transport', 'gifts & donations', 'home', 'saving and investment',\n",
              "       'entertainment & eat out', 'entertainment & eat out', 'fees',\n",
              "       'short-term credit', 'communication', 'fees', 'fees', 'transport',\n",
              "       'short-term credit', 'transport', 'transport',\n",
              "       'entertainment & eat out', 'transport', 'transport', 'transport',\n",
              "       'transport', 'transport', 'transport', 'transport', 'fees', 'fees',\n",
              "       'fees', 'entertainment & eat out', 'life and health', 'transport',\n",
              "       'transport', 'transport', 'fees', 'entertainment & eat out',\n",
              "       'entertainment & eat out', 'transport', 'communication',\n",
              "       'transport', 'transport', 'transport', 'transport', 'transport',\n",
              "       'transport', 'transport', 'entertainment & eat out', 'transport',\n",
              "       'transport', 'life and health', 'transport', 'transport',\n",
              "       'entertainment & eat out', 'transport', 'transport', 'transport',\n",
              "       'transport', 'transport', 'transport', 'food', 'fees',\n",
              "       'communication', 'fees', 'transport', 'transport', 'transport',\n",
              "       'transport', 'transport', 'transport', 'communication', 'fees',\n",
              "       'fees', 'transport', 'entertainment & eat out', 'transport',\n",
              "       'entertainment & eat out', 'transport', 'transport', 'transport',\n",
              "       'transport', 'transport', 'transport', 'transport', 'transport',\n",
              "       'fees', 'entertainment & eat out', 'fees', 'fees', 'transport',\n",
              "       'transport', 'fees', 'transport', 'transport', 'food', 'food',\n",
              "       'food', 'food', 'transport', 'transport', 'fees',\n",
              "       'entertainment & eat out', 'food', 'fees', 'fees', 'communication',\n",
              "       'entertainment & eat out', 'communication', 'fees',\n",
              "       'entertainment & eat out', 'communication', 'fees', 'fees', 'fees',\n",
              "       'fees', 'transport', 'communication', 'fees', 'communication',\n",
              "       'fees', 'communication', 'fees', 'short-term credit', 'transport',\n",
              "       'entertainment & eat out', 'transport', 'gifts & donations',\n",
              "       'communication', 'fees', 'home', 'entertainment & eat out',\n",
              "       'entertainment & eat out', 'entertainment & eat out',\n",
              "       'entertainment & eat out', 'fees', 'communication', 'fees',\n",
              "       'transport', 'transport', 'transport', 'transport', 'transport',\n",
              "       'transport', 'short-term credit', 'fees', 'fees', 'fees', 'fees',\n",
              "       'communication', 'fees', 'fees', 'gifts & donations',\n",
              "       'entertainment & eat out', 'transport', 'short-term credit',\n",
              "       'transport', 'entertainment & eat out', 'transport',\n",
              "       'entertainment & eat out', 'entertainment & eat out', 'transport',\n",
              "       'transport', 'transport', 'fees', 'entertainment & eat out',\n",
              "       'transport', 'transport', 'fees', 'fees', 'communication',\n",
              "       'transport', 'entertainment & eat out', 'entertainment & eat out',\n",
              "       'communication', 'fees', 'transport', 'other', 'transport',\n",
              "       'communication', 'fees', 'transport', 'saving and investment',\n",
              "       'transport', 'communication', 'fees', 'food', 'transport',\n",
              "       'communication', 'fees', 'transport', 'communication', 'fees',\n",
              "       'transport', 'transport', 'entertainment & eat out', 'transport',\n",
              "       'transport', 'transport', 'transport', 'fees', 'transport',\n",
              "       'transport', 'entertainment & eat out', 'entertainment & eat out',\n",
              "       'transport', 'entertainment & eat out', 'entertainment & eat out',\n",
              "       'entertainment & eat out', 'fees', 'fees', 'food', 'transport',\n",
              "       'short-term credit', 'transport', 'short-term credit',\n",
              "       'entertainment & eat out', 'transport', 'entertainment & eat out',\n",
              "       'home', 'communication', 'fees', 'short-term credit', 'fees',\n",
              "       'communication', 'fees', 'fees', 'short-term credit', 'transport',\n",
              "       'transport', 'entertainment & eat out', 'transport',\n",
              "       'saving and investment', 'gifts & donations', 'gifts & donations',\n",
              "       'fees', 'entertainment & eat out', 'transport', 'transport',\n",
              "       'transport', 'transport', 'transport', 'entertainment & eat out',\n",
              "       'transport', 'entertainment & eat out', 'life and health',\n",
              "       'education', 'education', 'transport', 'transport', 'transport',\n",
              "       'transport', 'communication', 'transport', 'transport',\n",
              "       'transport', 'fees', 'transport', 'transport', 'transport',\n",
              "       'transport', 'transport', 'transport', 'transport', 'transport',\n",
              "       'transport', 'transport', 'transport', 'transport', 'transport',\n",
              "       'transport', 'transport', 'entertainment & eat out', 'transport',\n",
              "       'transport', 'transport', 'gifts & donations', 'transport',\n",
              "       'transport', 'transport', 'transport', 'food',\n",
              "       'entertainment & eat out', 'communication', 'fees', 'transport',\n",
              "       'transport', 'transport', 'transport', 'transport', 'transport',\n",
              "       'transport', 'entertainment & eat out', 'transport',\n",
              "       'entertainment & eat out', 'fees', 'transport', 'transport',\n",
              "       'transport', 'transport', 'entertainment & eat out', 'transport',\n",
              "       'transport', 'transport', 'transport', 'communication', 'fees',\n",
              "       'fees', 'fees', 'transport', 'entertainment & eat out', 'fees',\n",
              "       'transport', 'transport', 'transport', 'gifts & donations',\n",
              "       'entertainment & eat out', 'transport', 'short-term credit',\n",
              "       'short-term credit', 'transport', 'entertainment & eat out',\n",
              "       'transport', 'home', 'gifts & donations', 'education',\n",
              "       'saving and investment', 'food', 'entertainment & eat out',\n",
              "       'communication', 'entertainment & eat out', 'short-term credit',\n",
              "       'fees', 'fees', 'home', 'education', 'transport', 'food',\n",
              "       'entertainment & eat out', 'entertainment & eat out', 'transport',\n",
              "       'entertainment & eat out', 'fees', 'transport', 'transport',\n",
              "       'transport', 'transport', 'entertainment & eat out',\n",
              "       'entertainment & eat out', 'food', 'food', 'transport',\n",
              "       'entertainment & eat out', 'transport', 'entertainment & eat out',\n",
              "       'transport', 'entertainment & eat out', 'transport',\n",
              "       'entertainment & eat out', 'transport', 'transport',\n",
              "       'entertainment & eat out', 'entertainment & eat out', 'transport',\n",
              "       'fees', 'fees', 'transport', 'transport', 'transport',\n",
              "       'entertainment & eat out', 'food', 'entertainment & eat out',\n",
              "       'transport', 'food', 'entertainment & eat out', 'fees',\n",
              "       'transport', 'transport', 'fees', 'transport', 'communication',\n",
              "       'transport', 'other', 'entertainment & eat out',\n",
              "       'entertainment & eat out', 'transport', 'transport',\n",
              "       'entertainment & eat out', 'transport', 'transport', 'transport',\n",
              "       'fees', 'fees', 'fees', 'other', 'transport', 'communication',\n",
              "       'fees', 'transport', 'entertainment & eat out', 'transport',\n",
              "       'food', 'transport', 'communication', 'fees', 'fees', 'fees',\n",
              "       'entertainment & eat out', 'transport', 'transport', 'transport',\n",
              "       'communication', 'fees', 'fees', 'transport',\n",
              "       'entertainment & eat out', 'transport', 'food', 'transport',\n",
              "       'fees', 'fees', 'fees', 'entertainment & eat out',\n",
              "       'entertainment & eat out', 'entertainment & eat out', 'fees',\n",
              "       'fees', 'transport', 'transport', 'fees',\n",
              "       'entertainment & eat out', 'entertainment & eat out',\n",
              "       'entertainment & eat out', 'entertainment & eat out', 'fees',\n",
              "       'fees', 'transport', 'transport', 'communication', 'fees',\n",
              "       'entertainment & eat out', 'fees', 'fees', 'transport',\n",
              "       'entertainment & eat out', 'fees', 'transport', 'transport',\n",
              "       'transport', 'entertainment & eat out', 'entertainment & eat out',\n",
              "       'fees', 'short-term credit', 'entertainment & eat out',\n",
              "       'transport', 'transport', 'entertainment & eat out', 'fees',\n",
              "       'entertainment & eat out', 'transport', 'entertainment & eat out',\n",
              "       'entertainment & eat out', 'entertainment & eat out', 'transport',\n",
              "       'transport', 'life and health', 'food', 'food', 'transport',\n",
              "       'transport', 'entertainment & eat out', 'home',\n",
              "       'saving and investment', 'food', 'communication', 'fees', 'fees',\n",
              "       'communication', 'short-term credit', 'fees', 'fees', 'fees',\n",
              "       'home', 'entertainment & eat out', 'entertainment & eat out',\n",
              "       'food', 'short-term credit', 'transport', 'transport', 'transport',\n",
              "       'transport', 'transport', 'transport', 'transport',\n",
              "       'entertainment & eat out', 'transport', 'entertainment & eat out',\n",
              "       'entertainment & eat out', 'food', 'entertainment & eat out',\n",
              "       'fees', 'fees', 'entertainment & eat out', 'fees', 'fees', 'fees',\n",
              "       'fees', 'transport', 'transport', 'transport', 'transport',\n",
              "       'transport', 'transport', 'transport', 'transport', 'transport',\n",
              "       'gifts & donations', 'fees', 'fees', 'transport', 'transport',\n",
              "       'transport', 'transport', 'life and health', 'transport',\n",
              "       'transport', 'transport', 'entertainment & eat out',\n",
              "       'entertainment & eat out', 'fees', 'fees', 'transport',\n",
              "       'life and health', 'entertainment & eat out', 'transport', 'fees',\n",
              "       'fees', 'fees', 'entertainment & eat out',\n",
              "       'entertainment & eat out', 'gifts & donations', 'fees', 'fees',\n",
              "       'entertainment & eat out', 'entertainment & eat out', 'food',\n",
              "       'transport', 'transport', 'transport', 'entertainment & eat out',\n",
              "       'fees', 'transport', 'transport', 'fees', 'fees', 'fees',\n",
              "       'transport', 'transport', 'transport', 'transport', 'fees',\n",
              "       'communication', 'fees', 'fees', 'life and health',\n",
              "       'life and health', 'life and health', 'life and health',\n",
              "       'entertainment & eat out', 'transport', 'communication', 'fees',\n",
              "       'entertainment & eat out', 'short-term credit', 'transport',\n",
              "       'transport', 'entertainment & eat out', 'entertainment & eat out',\n",
              "       'communication', 'fees', 'communication', 'fees',\n",
              "       'short-term credit', 'gifts & donations', 'saving and investment',\n",
              "       'entertainment & eat out', 'communication', 'fees',\n",
              "       'communication', 'fees', 'fees', 'gifts & donations', 'fees',\n",
              "       'entertainment & eat out', 'entertainment & eat out',\n",
              "       'life and health', 'saving and investment', 'fees',\n",
              "       'life and health', 'transport', 'transport', 'food', 'transport',\n",
              "       'transport', 'fees', 'fees', 'fees', 'transport',\n",
              "       'entertainment & eat out', 'transport', 'life and health', 'food',\n",
              "       'transport', 'entertainment & eat out', 'entertainment & eat out',\n",
              "       'entertainment & eat out', 'transport', 'fees', 'transport',\n",
              "       'fees', 'fees', 'fees', 'food', 'transport',\n",
              "       'entertainment & eat out', 'entertainment & eat out', 'transport',\n",
              "       'transport', 'entertainment & eat out', 'food', 'fees', 'food',\n",
              "       'life and health', 'food', 'transport', 'transport',\n",
              "       'entertainment & eat out', 'communication', 'short-term credit',\n",
              "       'fees', 'fees', 'gifts & donations', 'gifts & donations',\n",
              "       'transport', 'short-term credit', 'entertainment & eat out',\n",
              "       'transport', 'transport', 'transport', 'food',\n",
              "       'entertainment & eat out', 'fees', 'entertainment & eat out',\n",
              "       'food', 'transport', 'transport', 'communication', 'fees', 'food',\n",
              "       'transport', 'fees', 'education', 'fees', 'transport', 'fees',\n",
              "       'transport', 'life and health', 'fees', 'entertainment & eat out',\n",
              "       'transport', 'transport', 'transport', 'fees', 'transport',\n",
              "       'communication', 'fees', 'communication', 'fees', 'food',\n",
              "       'transport', 'transport', 'entertainment & eat out',\n",
              "       'communication', 'fees', 'entertainment & eat out', 'transport',\n",
              "       'entertainment & eat out', 'entertainment & eat out',\n",
              "       'communication', 'fees', 'communication', 'fees', 'transport',\n",
              "       'communication', 'fees', 'entertainment & eat out',\n",
              "       'entertainment & eat out', 'entertainment & eat out', 'transport',\n",
              "       'entertainment & eat out', 'fees', 'fees', 'communication', 'fees',\n",
              "       'fees', 'home', 'fees', 'fees', 'home', 'home', 'fees',\n",
              "       'transport', 'fees', 'fees', 'fees', 'home', 'transport',\n",
              "       'entertainment & eat out', 'fees', 'home', 'fees', 'home', 'home',\n",
              "       'home', 'fees', 'home', 'communication', 'home', 'home', 'fees',\n",
              "       'fees', 'fees', 'entertainment & eat out', 'fees', 'transport',\n",
              "       'fees', 'fees', 'communication', 'home', 'communication',\n",
              "       'transport', 'home', 'fees', 'transport', 'transport', 'fees',\n",
              "       'fees', 'transport', 'communication', 'fees', 'communication',\n",
              "       'fees', 'other', 'fees', 'fees', 'home', 'fees', 'fees', 'fees',\n",
              "       'home', 'transport', 'fees', 'transport', 'transport', 'transport',\n",
              "       'other', 'other', 'short-term credit', 'fees', 'fees',\n",
              "       'gifts & donations', 'saving and investment', 'fees', 'other',\n",
              "       'fees', 'saving and investment', 'education',\n",
              "       'entertainment & eat out', 'fees', 'home', 'fees', 'fees', 'food',\n",
              "       'food', 'food', 'saving and investment', 'communication', 'fees',\n",
              "       'fees', 'communication', 'communication', 'fees', 'communication',\n",
              "       'food', 'fees', 'fees', 'fees', 'other', 'other', 'other', 'other',\n",
              "       'other', 'fees', 'fees', 'food', 'transport', 'food',\n",
              "       'communication', 'communication', 'interest', 'fees', 'fees',\n",
              "       'fees', 'fees', 'home', 'home', 'communication', 'food', 'home',\n",
              "       'other', 'transport', 'other', 'other', 'communication', 'other',\n",
              "       'fees', 'other', 'short-term credit', 'other', 'fees', 'fees',\n",
              "       'entertainment & eat out', 'short-term credit', 'fees',\n",
              "       'entertainment & eat out', 'communication', 'communication',\n",
              "       'short-term credit', 'fees', 'fees', 'fees',\n",
              "       'entertainment & eat out', 'entertainment & eat out',\n",
              "       'entertainment & eat out', 'short-term credit', 'other', 'fees',\n",
              "       'fees', 'other', 'fees', 'fees', 'fees', 'fees', 'income', 'fees',\n",
              "       'fees', 'communication', 'fees', 'education', 'other', 'other',\n",
              "       'gifts and donations', 'transport', 'transport', 'life and health',\n",
              "       'fees'], dtype=object)"
            ]
          },
          "metadata": {
            "tags": []
          },
          "execution_count": 66
        }
      ]
    },
    {
      "cell_type": "code",
      "metadata": {
        "id": "mRTeNtVGRrgS",
        "colab_type": "code",
        "colab": {
          "base_uri": "https://localhost:8080/",
          "height": 204
        },
        "outputId": "563b3dca-6533-47d3-b06a-8429bc6ddfb9"
      },
      "source": [
        "mapping = dict(y_unique[['index', 'New_ID']].values)\n",
        "y['Item_ID'] = y.Category.map(mapping)\n",
        "y.head()"
      ],
      "execution_count": 67,
      "outputs": [
        {
          "output_type": "execute_result",
          "data": {
            "text/html": [
              "<div>\n",
              "<style scoped>\n",
              "    .dataframe tbody tr th:only-of-type {\n",
              "        vertical-align: middle;\n",
              "    }\n",
              "\n",
              "    .dataframe tbody tr th {\n",
              "        vertical-align: top;\n",
              "    }\n",
              "\n",
              "    .dataframe thead th {\n",
              "        text-align: right;\n",
              "    }\n",
              "</style>\n",
              "<table border=\"1\" class=\"dataframe\">\n",
              "  <thead>\n",
              "    <tr style=\"text-align: right;\">\n",
              "      <th></th>\n",
              "      <th>Category</th>\n",
              "      <th>Item_ID</th>\n",
              "    </tr>\n",
              "  </thead>\n",
              "  <tbody>\n",
              "    <tr>\n",
              "      <th>0</th>\n",
              "      <td>communication</td>\n",
              "      <td>3</td>\n",
              "    </tr>\n",
              "    <tr>\n",
              "      <th>1</th>\n",
              "      <td>entertainment &amp; eat out</td>\n",
              "      <td>2</td>\n",
              "    </tr>\n",
              "    <tr>\n",
              "      <th>2</th>\n",
              "      <td>home</td>\n",
              "      <td>5</td>\n",
              "    </tr>\n",
              "    <tr>\n",
              "      <th>3</th>\n",
              "      <td>entertainment &amp; eat out</td>\n",
              "      <td>2</td>\n",
              "    </tr>\n",
              "    <tr>\n",
              "      <th>4</th>\n",
              "      <td>entertainment &amp; eat out</td>\n",
              "      <td>2</td>\n",
              "    </tr>\n",
              "  </tbody>\n",
              "</table>\n",
              "</div>"
            ],
            "text/plain": [
              "                  Category  Item_ID\n",
              "0            communication        3\n",
              "1  entertainment & eat out        2\n",
              "2                     home        5\n",
              "3  entertainment & eat out        2\n",
              "4  entertainment & eat out        2"
            ]
          },
          "metadata": {
            "tags": []
          },
          "execution_count": 67
        }
      ]
    },
    {
      "cell_type": "code",
      "metadata": {
        "id": "2Tpk8AyyYcJF",
        "colab_type": "code",
        "colab": {
          "base_uri": "https://localhost:8080/",
          "height": 204
        },
        "outputId": "7a9765d7-cbe2-4970-f252-e6bb98d44fbb"
      },
      "source": [
        "y.drop(['Category'], axis=1, inplace=True)\n",
        "y.head()"
      ],
      "execution_count": 68,
      "outputs": [
        {
          "output_type": "execute_result",
          "data": {
            "text/html": [
              "<div>\n",
              "<style scoped>\n",
              "    .dataframe tbody tr th:only-of-type {\n",
              "        vertical-align: middle;\n",
              "    }\n",
              "\n",
              "    .dataframe tbody tr th {\n",
              "        vertical-align: top;\n",
              "    }\n",
              "\n",
              "    .dataframe thead th {\n",
              "        text-align: right;\n",
              "    }\n",
              "</style>\n",
              "<table border=\"1\" class=\"dataframe\">\n",
              "  <thead>\n",
              "    <tr style=\"text-align: right;\">\n",
              "      <th></th>\n",
              "      <th>Item_ID</th>\n",
              "    </tr>\n",
              "  </thead>\n",
              "  <tbody>\n",
              "    <tr>\n",
              "      <th>0</th>\n",
              "      <td>3</td>\n",
              "    </tr>\n",
              "    <tr>\n",
              "      <th>1</th>\n",
              "      <td>2</td>\n",
              "    </tr>\n",
              "    <tr>\n",
              "      <th>2</th>\n",
              "      <td>5</td>\n",
              "    </tr>\n",
              "    <tr>\n",
              "      <th>3</th>\n",
              "      <td>2</td>\n",
              "    </tr>\n",
              "    <tr>\n",
              "      <th>4</th>\n",
              "      <td>2</td>\n",
              "    </tr>\n",
              "  </tbody>\n",
              "</table>\n",
              "</div>"
            ],
            "text/plain": [
              "   Item_ID\n",
              "0        3\n",
              "1        2\n",
              "2        5\n",
              "3        2\n",
              "4        2"
            ]
          },
          "metadata": {
            "tags": []
          },
          "execution_count": 68
        }
      ]
    },
    {
      "cell_type": "code",
      "metadata": {
        "id": "hYliUEQGYvEj",
        "colab_type": "code",
        "colab": {
          "base_uri": "https://localhost:8080/",
          "height": 34
        },
        "outputId": "c60b5d10-eb2b-42f2-d093-37b289f2f78c"
      },
      "source": [
        "len(y)"
      ],
      "execution_count": 69,
      "outputs": [
        {
          "output_type": "execute_result",
          "data": {
            "text/plain": [
              "943"
            ]
          },
          "metadata": {
            "tags": []
          },
          "execution_count": 69
        }
      ]
    },
    {
      "cell_type": "code",
      "metadata": {
        "id": "838bUiYi_y93",
        "colab_type": "code",
        "colab": {}
      },
      "source": [
        "features = train.Description.values\n",
        "features2 = train.Description.values"
      ],
      "execution_count": 0,
      "outputs": []
    },
    {
      "cell_type": "code",
      "metadata": {
        "id": "zTrXsvlnCpHV",
        "colab_type": "code",
        "colab": {
          "base_uri": "https://localhost:8080/",
          "height": 85
        },
        "outputId": "d346812c-9b67-4e9c-a75a-2292a670e1e9"
      },
      "source": [
        "features[:5]"
      ],
      "execution_count": 71,
      "outputs": [
        {
          "output_type": "execute_result",
          "data": {
            "text/plain": [
              "array(['MTN DATA BUNDLES', 'APPLE.COM/BILL CORK IE',\n",
              "       'PARKHURST HARDWARE    RE PARKHURST ZA',\n",
              "       'SEATTLE RENNIES HOUSE JOHANNESBURG ZA',\n",
              "       'FLM RENNIE HOUSE EATER BRAAMFONTEIN ZA'], dtype=object)"
            ]
          },
          "metadata": {
            "tags": []
          },
          "execution_count": 71
        }
      ]
    },
    {
      "cell_type": "markdown",
      "metadata": {
        "id": "a7FQ4-JPA9Qt",
        "colab_type": "text"
      },
      "source": [
        "# Text to Features"
      ]
    },
    {
      "cell_type": "code",
      "metadata": {
        "id": "pRpPdvYxEo8o",
        "colab_type": "code",
        "colab": {
          "base_uri": "https://localhost:8080/",
          "height": 102
        },
        "outputId": "7a7f3bba-7ae2-4f01-ef11-20937574c6a1"
      },
      "source": [
        "nltk.download('stopwords')\n",
        "nltk.download('wordnet')"
      ],
      "execution_count": 72,
      "outputs": [
        {
          "output_type": "stream",
          "text": [
            "[nltk_data] Downloading package stopwords to /root/nltk_data...\n",
            "[nltk_data]   Package stopwords is already up-to-date!\n",
            "[nltk_data] Downloading package wordnet to /root/nltk_data...\n",
            "[nltk_data]   Package wordnet is already up-to-date!\n"
          ],
          "name": "stdout"
        },
        {
          "output_type": "execute_result",
          "data": {
            "text/plain": [
              "True"
            ]
          },
          "metadata": {
            "tags": []
          },
          "execution_count": 72
        }
      ]
    },
    {
      "cell_type": "code",
      "metadata": {
        "id": "YDTvzwcqBB0G",
        "colab_type": "code",
        "colab": {}
      },
      "source": [
        "from nltk.stem.wordnet import WordNetLemmatizer \n",
        "from nltk.stem.porter import PorterStemmer\n",
        "from nltk.corpus import stopwords\n",
        "\n",
        "lem = WordNetLemmatizer()\n",
        "# ps = PorterStemmer()\n",
        "corpus =[]\n",
        "# cleaning text\n",
        "for i in range(0,len(features)):\n",
        "\n",
        "    item = re.sub('[^a-zA-Z]', ' ',str(features)) \n",
        "    item = item.lower()\n",
        "    item = item.split()\n",
        "    stop_wrds = set(stopwords.words('english'))\n",
        "    item = [lem.lemmatize(word, \"v\") for word in item if not word in stop_wrds]\n",
        "    item = ' '.join(item)\n",
        "    corpus.append(item)\n",
        "\n",
        "new_features = corpus"
      ],
      "execution_count": 0,
      "outputs": []
    },
    {
      "cell_type": "code",
      "metadata": {
        "id": "BTudZM1GV8TK",
        "colab_type": "code",
        "outputId": "3cbe68df-59b9-4435-f5fb-652f4b5d9403",
        "colab": {
          "base_uri": "https://localhost:8080/",
          "height": 54
        }
      },
      "source": [
        "new_features[0]"
      ],
      "execution_count": 74,
      "outputs": [
        {
          "output_type": "execute_result",
          "data": {
            "text/plain": [
              "'mtn data bundle apple com bill cork ie parkhurst hardware parkhurst za seattle rennies house johannesburg za flm rennie house eater braamfontein za flm rennie house eater braamfontein za flm rennie house eater braamfontein za flm rennie house eater braamfontein za seattle rennies house johannesburg za flm rennie house eater braamfontein za property rondebosch za seattle rennies house johannesburg za flm rennie house eater braamfontein za flm rennie house eater braamfontein za investecpb apple com bill itunes com ie bloom coffee studio cape town za seattle rennies house johannesburg za flm rennie house eater braamfontein za investecpb admed admed taxassist netcash seattle rennies house johannesburg za flm rennie house eater braamfontein za flm rennie house eater braamfontein za bolton rd collection parkview za virgin act rent levy mtn sp disc prem discovery vir atl vir atl gb amzn digital ch w kv us foundry cafe parktown nort za seattle rennies house johannesburg za flm rennie house eater braamfontein za moregolf pmg curr outsurance ot fz seattle rennies house johannesburg za atmsol termloc fu bruma za rent rent merchant place sandton za jetline hydepark johannesburg za fego cafe rmb sandton za seattle rennies house johannesburg za absa bank neom long rent motherland coffee compan sandton za motherland coffee compan sandton za pool team craighall craighall za bloom coffee studio cape town za bloom coffee studio cape town za seattle rennies house johannesburg za seattle rennies house johannesburg za flm rennie house eater braamfontein za budget vap jan prem amzn digital l ci z us flm rennie house eater braamfontein za intellepark rosebank za mtn data bundle tshifhiwa rent minty sasol rosebank parkwood za seattle rennies house johannesburg za woolworths parktown qua johannesburg za hours vet clinic parktown nort za uber sa hel jul uber sa hel jul shell champion uber sa gauteng zaf h checker bram fischer bolt eu jul bolt eu jul vod prepay fee pre pay top vod prepay fee pre pay top intl trans f intl trans f reblake wesbank fi wesbank fi nsiki karen steelsmith plan ib transfer liquorshop bram fische theunlimited aup fee e comm speccreditfevertree telkommobi overdraft service fee fix monthly fee iwyze prm sbsanaedo uber sa hel jul uber sa hel jul ucount uber sa hel jul c bp ontdekke aug uber sa hel jul bolt eu jul bolt eu jul uber sa hel jul uber sa hel jul intl trans f intl trans f fee bank atm xai xai lounge c sorbet nail aug bolt eu aug uber sa hel aug bp hans strydom intl trans f u takealot co aug c melville co aug uber sa hel aug u payfast coo aug uber sa hel aug uber sa hel aug uber sa hel aug uber sa hel aug uber sa hel aug uber sa hel aug uber sa hel aug c xai xai lou aug uber sa hel aug uber sa hel aug c click cant aug uber sa hel aug uber sa hel aug c hell kitc aug uber sa hel aug uber sa hel aug uber sa hel aug uber sa hel aug uber sa hel aug bolt eu aug checker bram fischer intl trans f vod prepay fee pre pay top uber sa hel aug uber sa hel aug bolt eu aug uber sa hel aug uber sa hel aug uber sa hel aug vod prepay fee pre pay top intl trans f uber sa gauteng zaf h pnp exp ha randburg zaf h uber sa hel aug u takealot aug uber sa gauteng zaf h uber sa gauteng zaf h uber sa hel aug uber sa hel aug uber sa hel aug uber sa hel aug uber sa hel aug uber sa gauteng zaf h fee e comm c kbs coffee aug fee e comm fee e comm c caltex fact aug uber sa gauteng zaf h fee e comm uber sa gauteng zaf h uber sa gauteng zaf h woolworths aug checker b sb zaf h checker b sb zaf h checker b sb zaf h c caltex fact aug c caltex facto fee e comm pnp exp linden park checker bram fischer fee e comm fee e comm u payfast aug pnp express h aug vod prepay fee pre pay top smokers deli melville vod prepay fee pre pay top overdraft interest bolt eu tallinn zaf h bolt eu tallinn zaf h uber sa hel aug vod prepay fee pre pay top vod prepay fee pre pay top vod prepay fee pre pay top wesbank fi bolt eu aug pnp express h aug c bp hans str aug nsiki vod prepay fee pre pay top karen steelsmith liquor city melville moyo zoo lake pty lt liquorshop bram fische theunlimited aup intl trans f vod prepay fee pre pay top wesbank fi bolt eu aug bolt eu aug uber sa hel aug bolt eu aug bolt eu aug speccreditfevertree intl trans f intl trans f intl trans f intl trans f telkommobi overdraft service fee fix monthly fee momma liquorshop bram fische iwyze prm sbsanaedo uber sa hel aug liquorshop br aug uber sa hel aug ucount netflix com aug uber sa hel aug uber sa hel aug total ra william nicol intl trans f u takealot co sep uber sa hel sep bolt eu sep fee e comm intl trans f u payfast coo sep uber sa hel sep pnp exp ha randburg zaf h pnp express h sep vod prepay fee pre pay top uber sa help sep c chamdor ser sep uber sa help sep vod prepay fee pre pay top uber sa hel sep uber sa hel sep vod prepay fee pre pay top c eleven fa sep uber eat sep vod prepay fee pre pay top uber sa hel sep vod prepay fee pre pay top uber sa hel sep uber sa hel sep six restau johannesburg zaf uber sa gauteng zaf h uber sa hel sep bolt eu sep uber sa gauteng zaf h intl trans f uber sa hel sep uber sa hel sep c six restaur sep spotifyza stockholm sen h uber sa hel sep pnp express h sep spotifyza stockholm sen h spotifyza stockholm sen h overdraft interest excess interest checker bram fischer uber sa hel sep reblake wesbank fi wesbank fi theunlimited aup uber sa hel sep spotifyza sep karen steelsmith vod prepay fee pre pay top speccreditfevertree intl trans f telkommobi overdraft service fee fix monthly fee sbsanaedo iwyze prm uber sa hel sep netflix com sep uber sa hel sep baby momma intl trans f ucount c caltex fact oct uber sa hel sep uber sa hel sep uber sa hel sep uber sa hel sep c dukes burge sep uber sa hel sep c ballbreaker sep c pg glass fo sep claassen claassen claassen claassen train uber sa hel sep uber sa hel sep uber sa hel oct uber sa hel oct u payfast coo oct uber sa hel oct uber sa hel oct uber sa hel oct fee bank atm uber sa hel oct uber sa hel oct uber sa hel oct uber sa hel oct c cltx ruhama oct uber sa hel oct uber sa hel oct uber sa hel oct sasol randburg uber sa hel oct uber sa hel oct c caltex wate oct c bp hans str oct uber sa hel oct uber sa hel oct pnp express h oct uber sa hel oct uber sa hel oct uber sa hel oct nsiki uber sa hel oct uber sa hel oct uber sa hel oct uber sa hel oct checker bram fischer liquorshop bram fische vod prepay fee pre pay top c caltex fair oct uber sa hel oct uber sa hel oct uber sa hel oct uber sa hel oct uber sa hel oct uber sa hel oct c kfc keywest oct uber sa hel oct spotifyza stockholm sen h fee pos decline insuff fund uber sa gauteng zaf h uber sa hel oct uber sa gauteng zaf h uber sa hel oct spotifyza stockholm sen h c bp hans str oct uber sa hel oct uber sa hel oct uber sa hel oct vod prepay fee pre pay top overdraft interest excess interest c caltex fair oct spotifyza oct intl trans f c bp hans str oct c caltex fair oct c engen paard oct baby pnp express h oct wesbank fi reblake wesbank fi uber sa help oct mr food oct c engen paard oct karen landlord vee claassen claassen management checker bram fischer engen william nicol telkommobi theunlimited aup speccreditfevertree overdraft service fee fix monthly fee karen landlord claassen claassen trainin iwyze prm c checker br oct netflix com oct c pnp liq fer oct uber sa hel oct ucount intl trans f uber sa hel oct uber sa hel oct uber sa hel nov uber sa hel oct flm rennie ho nov flm rennie house eater r checker checker bram fischer uber sa hel nov c kitcheners nov uber sa hel nov c hell kitc nov uber sa hel nov c kitcheners nov uber sa hel nov pnp express h nov bolt eu ou bolt eu ou pnp express l nov liquorshop br nov uber sa hel nov intl trans f intl trans f uber sa hel nov c bp ridge wo nov uber sa hel nov mr food nov r pnp fam liquorshop br nov bolt eu ou pnp express h nov c liquor city nov intl trans f bolt eu ou nov c sasol n n nov intl trans f uber sa hel nov u payfast coo nov c engen paard nov c postnet bra nov flm rennie house eater flm rennie house eater uber sa gauteng zaf h bolt eu nov rsmio resume nov bolt eu nov uberbv help uber co nld h uber sa gauteng zaf h intl trans f intl trans f intl trans f c postnet bra nov uber sa hel nov vod prepay fee pre pay top uber sa hel nov spotifyza nov uber sa hel nov woolworths nov bolt eu nov vod prepay fee pre pay top intl trans f intl trans f mr food z nov uber sa hel nov c engen taher nov bolt eu nov vod prepay fee pre pay top intl trans f bolt eu nov rsmio resume nov bolt eu nov checker bram fischer uber sa gauteng zaf h intl trans f intl trans f intl trans f liquorshop bram fische c liquorshop nov c liquorshop nov bolt eu tallinn zaf h bolt eu tallinn zaf h uber sa gauteng zaf h uberbv help uber co nld h bolt eu tallinn zaf h mr price fern nov pnp liq fernd nov c liquorshop nov flm rennie house eater overdraft interest excess interest bolt eu nov bolt eu nov vod prepay fee pre pay top doppio zer cradlestone zaf intl trans f intl trans f bolt eu nov seattle rennie house intl trans f bolt eu nov uber sa hel nov c sasol r w nov liquorshop bram fische flm rennie house eater intl trans f wesbank fi c doppio zero nov c caltex welt nov bolt eu nov theunlimited aup intl trans f cafe caltex motorserve hell kitchen hell kitchen xai xai lounge wesbank fi bolt eu nov c studio moma nov checker fern nov c checker fe nov bolt eu nov uber sa hel nov top robindale karen landlord r checker vod prepay fee pre pay top intl trans f telkommobi speccreditfevertree intl trans f overdraft service fee fix monthly fee karen landlord magalies vulstasie top magalies spar magalies supr spa sbsanaedo iwyze prm bolt eu nov c bp luipaard nov bolt eu nov bolt eu nov bolt eu nov bolt eu nov c loco liquor nov uber sa hel nov netflix com nov c codf nov pnp exp linden park seattle rennie house intl trans f intl trans f ucount intl trans f intl trans f intl trans f intl trans f uber sa hel nov uber sa hel nov bolt eu dec c caltex fair nov uber sa hel nov c shell parkh nov bolt eu dec uber sa hel nov uber sa hel nov baby intl trans f intl trans f uber sa hel dec uber sa hel dec bolt eu dec bolt eu dec l flysafair dec uber sa hel dec uber sa hel dec uber sa hel dec liquorshop br nov u takealot dec intl trans f intl trans f bolt eu dec mango airli dec u takealot dec bolt eu dec fee bank atm intl trans f intl trans f loco liquore dec liquorshop br dec frg nbastore dec atm cash decline bal provide intl trans f hell kitchen c h clearwa dec spar robindal dec c cltx water dec bolt eu dec caltex fairla dec khaliques oriental pla intl trans f bolt eu dec uber sa hel dec bolt eu tallinn zaf h bolt eu tallinn zaf h intl trans f bolt eu dec bolt eu dec uber sa hel dec uberbv help uber co nld h bolt eu tallinn zaf h payfast eft intl trans f intl trans f rental avis rent johannesburg zaf avis rent johannesburg zaf game gateway circus circus shell uc south bind vod prepay fee pre pay top san lameer country wesbnknaed uber sa hel dec uberbv help uber co nld h spotifyza stockholm sen h theunlimited aup vod prepay fee pre pay top vod prepay fee pre pay top dr mokitimi vee budget spotifyza dec vod prepay fee pre pay top vod prepay fee pre pay top intl trans f baby fee bank atm rsmio resume dec c diner e dec l flysafair dec intl trans f c studio moma dec c caltex fact dec c caltex fair dec woolworths dec c caltex fair dec c bp luipaard dec fee pre pay top fee bank atm intl trans f uber sa gauteng zaf h pnp liq fernd dec c total ra dec hertz rent dec c pnp family dec uber sa hel dec c sweet treat dec c h roseban dec mcd victory p dec uber sa gauteng zaf h fee pos decline insuff fund uber sa gauteng zaf h overdraft interest excess interest c bms intersi dec c foodlovers dec uber sa hel dec c decofurn sp dec c pearl vill dec c engen fairy dec c engen hippo dec c city late dec pnp hpr prosp dec c rhapsodys l dec woolworths dec hertz rent dec c pnp hpr pro dec c engen hippo dec wesbank fi game dionw telkommobi speccreditfevertree overdraft service fee fix monthly fee nokwanda sifiso iwyze prm sbsanaedo netflix com dec sasol ferndale sasol ferndale sasol ferndale checker bram fischer ucount intl trans f bootlegger ferndale pnp express l jan uber sa hel jan bolt eu jan u payfast coo jan intl trans f checker bram jan bolt eu jan intl trans f whc ta dept surger whc department surgery bolt eu jan intl trans f bolt eu jan dischem park station intl trans f c liquor city jan c caltex fair jan bolt eu jan c us powerspo jan intl trans f uber sa hel jan vod prepay fee pre pay top vod prepay fee pre pay top checker bram jan c engen conra jan c engen paard jan mr food z jan vod prepay fee pre pay top seattle rennie house c caltex fair jan spotifyza stockholm sen h liquorshop br jan vod prepay fee pre pay top vod prepay fee pre pay top c total ra jan vod prepay fee pre pay top flm rennie house eater spotifyza stockholm sen h c wimpy key w jan c engen prote jan spotifyza stockholm sen h overdraft interest excess interest bank app prepay purchase vodacom sms notification fee sms notification fee pick n pay birchleigh card sms notification fee sms notification fee pick n pay birchleigh card purchase cash r pep store card till cash withdrawal fee gautrain rhodesfield gauteng card interest receive sms notification fee monthly account admin fee click birchleigh card engen kempton park card online purchase computicket victory park card sms notification fee purchase cash r pick n pay rustenburg card till cash withdrawal fee woolworths rustenburg card flm rustenburg platinu rustenburg card flm rustenburg platinu rustenburg card sms notification fee spar rustenburg card bank app prepay purchase huang mei import e rustenberg card purchase cash r spar rustenburg card till cash withdrawal fee interest receive monthly account admin fee online purchase amzn digital np h card sms notification fee atm cash withdrawal rustenburg thlabane card atm cash withdrawal fee sms notification fee bank app prepay purchase ta flm rennie house eater braamfontein card bank app prepay purchase ta gautrain rhodesfield gauteng card purchase cash r pep store kempton park card till cash withdrawal fee gautrain park tvm gauteng card atm cash withdrawal dnr jnb braamfontein card atm cash withdrawal fee sms notification fee gautrain rhodesfield gauteng card bank app prepay purchase ta sms notification fee bank app prepay purchase mtn sms notification fee bank app cash send c cash send fee sms notification fee flm rennie house eater braamfontein card interest receive sms notification fee monthly account admin fee flm rennie house eater braamfontein card gautrain rhodesfield gauteng card sms notification fee gautrain park tvm gauteng card gautrain rhodesfield gauteng card gautrain park tvm gauteng card eig hostgator honfee r eig hostg game fin carry forward bring forward tithe ommaxperls gb linkage fee explore software vat r tax free save account regensys dstv interest rent maintenance fee cross border checker colum click columbi flm rennie hou explore stockvel airtime w airtime carry forward bring forward airtime w airtime airtime w airtime nedbank send imali airtime w airtime chicken licken carry forward provisional statement bring forward withdrawal facebook hostgator facebk ar eig hostgator nedbank send imali cross border checker colum sasol oakdene click columbi airtime w airtime airtime w airtime interest recieved credit interest payment withdrawal notification sms fee payment withdrawal notification sms fee payment withdrawal notification sms fee payment withdrawal notification sms fee pos purchase woolworths campus squarjohannesburg za pos purchase click campus squarjohannesburg za airtime purchase mtn pos purchase parktown convenience ceparktown za pos purchase makro crownmines crown mine za instant payment pos purchase uber sa help uber com johannesburg inter account tranfer recieved atm withdrawal airtime purchase mtn inter account tranfer recieved payment withdrawal notification sms fee instant payment bank app transfer author network atm cash withdrawal fnb ssc atm card cash withdrawal fee atm sms notification fee flm rennie house eater braamfontein card bank app transfer author network sms notification fee flm rennie house eater braamfontein card bank app prepay purchase cellc bank app prepay purchase cellc bank app transfer author network atm cash withdrawal fnb ssc atm card cash withdrawal fee atm sms notification fee flm rennie house eater braamfontein card flm rennie house eater braamfontein card flm rennie house eater braamfontein card bank app transfer author network atm cash withdrawal fnb ssc atm card cash withdrawal fee atm sms notification fee atm cash deposit cash dep dnr vryburg cash deposit fee note atm cash withdrawal jnb braamfontein atm cash withdrawal fee sms notification fee payment receive explore software transfer sms notification fee atm cash withdrawal jhb glen card airtime debit notific fee sms overseas purchase atm withdrawal jorrisen ibank payment pb reward absa bank ibank payment pos purchase bp fill sta pos purchase bp fill sta acb debit external virgin act management fee'"
            ]
          },
          "metadata": {
            "tags": []
          },
          "execution_count": 74
        }
      ]
    },
    {
      "cell_type": "code",
      "metadata": {
        "id": "lTU8vluaJymR",
        "colab_type": "code",
        "outputId": "ed4d068a-1cc3-47c9-c7f3-1e6b03a2fcf1",
        "colab": {
          "base_uri": "https://localhost:8080/",
          "height": 884
        }
      },
      "source": [
        "\n",
        "# Create Ranked Statistical Features with TfidfVectorizer, best choice because insignificant words recieve a lower rank\n",
        "obj = TfidfVectorizer()\n",
        "final_features = obj.fit_transform(new_features)\n",
        "print(final_features[0])"
      ],
      "execution_count": 75,
      "outputs": [
        {
          "output_type": "stream",
          "text": [
            "  (0, 119)\t0.0025916913455350794\n",
            "  (0, 1)\t0.0025916913455350794\n",
            "  (0, 376)\t0.005183382691070159\n",
            "  (0, 138)\t0.005183382691070159\n",
            "  (0, 334)\t0.0025916913455350794\n",
            "  (0, 291)\t0.0025916913455350794\n",
            "  (0, 182)\t0.005183382691070159\n",
            "  (0, 201)\t0.0025916913455350794\n",
            "  (0, 280)\t0.0025916913455350794\n",
            "  (0, 265)\t0.0025916913455350794\n",
            "  (0, 88)\t0.005183382691070159\n",
            "  (0, 162)\t0.0025916913455350794\n",
            "  (0, 198)\t0.0025916913455350794\n",
            "  (0, 264)\t0.0025916913455350794\n",
            "  (0, 429)\t0.0025916913455350794\n",
            "  (0, 93)\t0.0025916913455350794\n",
            "  (0, 95)\t0.005183382691070159\n",
            "  (0, 50)\t0.005183382691070159\n",
            "  (0, 375)\t0.007775074036605239\n",
            "  (0, 145)\t0.007775074036605239\n",
            "  (0, 259)\t0.010366765382140318\n",
            "  (0, 17)\t0.010366765382140318\n",
            "  (0, 408)\t0.005183382691070159\n",
            "  (0, 189)\t0.005183382691070159\n",
            "  (0, 186)\t0.005183382691070159\n",
            "  :\t:\n",
            "  (0, 67)\t0.015550148073210477\n",
            "  (0, 26)\t0.007775074036605239\n",
            "  (0, 194)\t0.0025916913455350794\n",
            "  (0, 193)\t0.005183382691070159\n",
            "  (0, 341)\t0.0025916913455350794\n",
            "  (0, 312)\t0.0025916913455350794\n",
            "  (0, 35)\t0.05960890094730683\n",
            "  (0, 109)\t0.06997566632944714\n",
            "  (0, 327)\t0.08293412305712254\n",
            "  (0, 143)\t0.08034243171158746\n",
            "  (0, 200)\t0.04405875287409635\n",
            "  (0, 177)\t0.10625934516693826\n",
            "  (0, 328)\t0.028508604800885875\n",
            "  (0, 355)\t0.03628367883749111\n",
            "  (0, 443)\t0.11921780189461366\n",
            "  (0, 165)\t0.0025916913455350794\n",
            "  (0, 284)\t0.005183382691070159\n",
            "  (0, 183)\t0.005183382691070159\n",
            "  (0, 78)\t0.0025916913455350794\n",
            "  (0, 23)\t0.005183382691070159\n",
            "  (0, 71)\t0.023325222109815715\n",
            "  (0, 10)\t0.005183382691070159\n",
            "  (0, 40)\t0.005183382691070159\n",
            "  (0, 87)\t0.005183382691070159\n",
            "  (0, 252)\t0.015550148073210477\n"
          ],
          "name": "stdout"
        }
      ]
    },
    {
      "cell_type": "code",
      "metadata": {
        "id": "ND3QYR2tWE-c",
        "colab_type": "code",
        "colab": {}
      },
      "source": [
        "\n",
        "# split the train set to create a validation set\n",
        "X_train, X_test, y_train, y_test = train_test_split(final_features, y.values, test_size=0.20)\n"
      ],
      "execution_count": 0,
      "outputs": []
    },
    {
      "cell_type": "code",
      "metadata": {
        "id": "IeCUrIbgjPOq",
        "colab_type": "code",
        "colab": {}
      },
      "source": [
        "#import model\n",
        "from sklearn.svm import LinearSVC\n",
        "cls = LinearSVC(multi_class='crammer_singer', dual=False, fit_intercept=False)"
      ],
      "execution_count": 0,
      "outputs": []
    },
    {
      "cell_type": "code",
      "metadata": {
        "id": "Xsgv52waIVpT",
        "colab_type": "code",
        "colab": {}
      },
      "source": [
        "# train initial model\n",
        "y_pred = cls.fit(X_train, y_train.ravel())"
      ],
      "execution_count": 0,
      "outputs": []
    },
    {
      "cell_type": "code",
      "metadata": {
        "id": "Dtpr905LItp5",
        "colab_type": "code",
        "colab": {}
      },
      "source": [
        "# Making the predictions\n",
        "pred1 = cls.predict(X_test)"
      ],
      "execution_count": 0,
      "outputs": []
    },
    {
      "cell_type": "code",
      "metadata": {
        "id": "98zyEdKbajhn",
        "colab_type": "code",
        "colab": {
          "base_uri": "https://localhost:8080/",
          "height": 34
        },
        "outputId": "9474d3f8-4374-43e7-d8dc-c6a273e6cea0"
      },
      "source": [
        "print(\"Mean squared error: %.2f\"\n",
        "      % mean_squared_error(y_test, pred1))"
      ],
      "execution_count": 88,
      "outputs": [
        {
          "output_type": "stream",
          "text": [
            "Mean squared error: 5.97\n"
          ],
          "name": "stdout"
        }
      ]
    },
    {
      "cell_type": "code",
      "metadata": {
        "id": "zFTRMdibcMVj",
        "colab_type": "code",
        "outputId": "3f0e341a-aef5-4a36-e18d-9e6ae6eb7a48",
        "colab": {
          "base_uri": "https://localhost:8080/",
          "height": 394
        }
      },
      "source": [
        "# performance matrics and model eveluation using sklearn.metrics inbuilt classification metric\n",
        "print(classification_report(y_test, pred1))"
      ],
      "execution_count": 80,
      "outputs": [
        {
          "output_type": "stream",
          "text": [
            "              precision    recall  f1-score   support\n",
            "\n",
            "           0       0.00      0.00      0.00        58\n",
            "           1       0.00      0.00      0.00        44\n",
            "           2       0.19      1.00      0.32        36\n",
            "           3       0.00      0.00      0.00        16\n",
            "           4       0.00      0.00      0.00        10\n",
            "           5       0.00      0.00      0.00         5\n",
            "           6       0.00      0.00      0.00         5\n",
            "           7       0.00      0.00      0.00         3\n",
            "           8       0.00      0.00      0.00         3\n",
            "           9       0.00      0.00      0.00         7\n",
            "          10       0.00      0.00      0.00         1\n",
            "          11       0.00      0.00      0.00         1\n",
            "\n",
            "    accuracy                           0.19       189\n",
            "   macro avg       0.02      0.08      0.03       189\n",
            "weighted avg       0.04      0.19      0.06       189\n",
            "\n"
          ],
          "name": "stdout"
        },
        {
          "output_type": "stream",
          "text": [
            "/usr/local/lib/python3.6/dist-packages/sklearn/metrics/_classification.py:1272: UndefinedMetricWarning: Precision and F-score are ill-defined and being set to 0.0 in labels with no predicted samples. Use `zero_division` parameter to control this behavior.\n",
            "  _warn_prf(average, modifier, msg_start, len(result))\n"
          ],
          "name": "stderr"
        }
      ]
    },
    {
      "cell_type": "code",
      "metadata": {
        "id": "Znr4oT9eZUzj",
        "colab_type": "code",
        "colab": {
          "base_uri": "https://localhost:8080/",
          "height": 204
        },
        "outputId": "87f51f75-0395-4469-986f-2ee9302e04b5"
      },
      "source": [
        "y_predicted = pd.DataFrame({'PredictItem_ID':pred1})\n",
        "y_predicted.head()"
      ],
      "execution_count": 81,
      "outputs": [
        {
          "output_type": "execute_result",
          "data": {
            "text/html": [
              "<div>\n",
              "<style scoped>\n",
              "    .dataframe tbody tr th:only-of-type {\n",
              "        vertical-align: middle;\n",
              "    }\n",
              "\n",
              "    .dataframe tbody tr th {\n",
              "        vertical-align: top;\n",
              "    }\n",
              "\n",
              "    .dataframe thead th {\n",
              "        text-align: right;\n",
              "    }\n",
              "</style>\n",
              "<table border=\"1\" class=\"dataframe\">\n",
              "  <thead>\n",
              "    <tr style=\"text-align: right;\">\n",
              "      <th></th>\n",
              "      <th>PredictItem_ID</th>\n",
              "    </tr>\n",
              "  </thead>\n",
              "  <tbody>\n",
              "    <tr>\n",
              "      <th>0</th>\n",
              "      <td>2</td>\n",
              "    </tr>\n",
              "    <tr>\n",
              "      <th>1</th>\n",
              "      <td>2</td>\n",
              "    </tr>\n",
              "    <tr>\n",
              "      <th>2</th>\n",
              "      <td>2</td>\n",
              "    </tr>\n",
              "    <tr>\n",
              "      <th>3</th>\n",
              "      <td>2</td>\n",
              "    </tr>\n",
              "    <tr>\n",
              "      <th>4</th>\n",
              "      <td>2</td>\n",
              "    </tr>\n",
              "  </tbody>\n",
              "</table>\n",
              "</div>"
            ],
            "text/plain": [
              "   PredictItem_ID\n",
              "0               2\n",
              "1               2\n",
              "2               2\n",
              "3               2\n",
              "4               2"
            ]
          },
          "metadata": {
            "tags": []
          },
          "execution_count": 81
        }
      ]
    },
    {
      "cell_type": "code",
      "metadata": {
        "id": "QDbKgELBZHuF",
        "colab_type": "code",
        "colab": {
          "base_uri": "https://localhost:8080/",
          "height": 204
        },
        "outputId": "111eed5b-38b7-49df-9df1-bf4a9cb285c4"
      },
      "source": [
        "mapping = dict(y_unique[['New_ID','index']].values)\n",
        "y_predicted['ItemCategory_New'] = y_predicted.PredictItem_ID.map(mapping)\n",
        "y_predicted.head()"
      ],
      "execution_count": 82,
      "outputs": [
        {
          "output_type": "execute_result",
          "data": {
            "text/html": [
              "<div>\n",
              "<style scoped>\n",
              "    .dataframe tbody tr th:only-of-type {\n",
              "        vertical-align: middle;\n",
              "    }\n",
              "\n",
              "    .dataframe tbody tr th {\n",
              "        vertical-align: top;\n",
              "    }\n",
              "\n",
              "    .dataframe thead th {\n",
              "        text-align: right;\n",
              "    }\n",
              "</style>\n",
              "<table border=\"1\" class=\"dataframe\">\n",
              "  <thead>\n",
              "    <tr style=\"text-align: right;\">\n",
              "      <th></th>\n",
              "      <th>PredictItem_ID</th>\n",
              "      <th>ItemCategory_New</th>\n",
              "    </tr>\n",
              "  </thead>\n",
              "  <tbody>\n",
              "    <tr>\n",
              "      <th>0</th>\n",
              "      <td>2</td>\n",
              "      <td>entertainment &amp; eat out</td>\n",
              "    </tr>\n",
              "    <tr>\n",
              "      <th>1</th>\n",
              "      <td>2</td>\n",
              "      <td>entertainment &amp; eat out</td>\n",
              "    </tr>\n",
              "    <tr>\n",
              "      <th>2</th>\n",
              "      <td>2</td>\n",
              "      <td>entertainment &amp; eat out</td>\n",
              "    </tr>\n",
              "    <tr>\n",
              "      <th>3</th>\n",
              "      <td>2</td>\n",
              "      <td>entertainment &amp; eat out</td>\n",
              "    </tr>\n",
              "    <tr>\n",
              "      <th>4</th>\n",
              "      <td>2</td>\n",
              "      <td>entertainment &amp; eat out</td>\n",
              "    </tr>\n",
              "  </tbody>\n",
              "</table>\n",
              "</div>"
            ],
            "text/plain": [
              "   PredictItem_ID         ItemCategory_New\n",
              "0               2  entertainment & eat out\n",
              "1               2  entertainment & eat out\n",
              "2               2  entertainment & eat out\n",
              "3               2  entertainment & eat out\n",
              "4               2  entertainment & eat out"
            ]
          },
          "metadata": {
            "tags": []
          },
          "execution_count": 82
        }
      ]
    },
    {
      "cell_type": "code",
      "metadata": {
        "id": "lZ72BQytZupn",
        "colab_type": "code",
        "colab": {
          "base_uri": "https://localhost:8080/",
          "height": 102
        },
        "outputId": "6cdbdb59-d0ed-4438-ed19-b3a084a91497"
      },
      "source": [
        "y_predicted = np.array(y_predicted.drop('PredictItem_ID', axis=1))\n",
        "y_predicted[:5]"
      ],
      "execution_count": 83,
      "outputs": [
        {
          "output_type": "execute_result",
          "data": {
            "text/plain": [
              "array([['entertainment & eat out'],\n",
              "       ['entertainment & eat out'],\n",
              "       ['entertainment & eat out'],\n",
              "       ['entertainment & eat out'],\n",
              "       ['entertainment & eat out']], dtype=object)"
            ]
          },
          "metadata": {
            "tags": []
          },
          "execution_count": 83
        }
      ]
    },
    {
      "cell_type": "markdown",
      "metadata": {
        "id": "8t7UXlDQ7PFJ",
        "colab_type": "text"
      },
      "source": [
        "# submission"
      ]
    },
    {
      "cell_type": "code",
      "metadata": {
        "id": "phCBVPNM7N2M",
        "colab_type": "code",
        "colab": {}
      },
      "source": [
        "# save predictions\n",
        "submission = pd.DataFrame({'description' : features2[X_train.shape[0]:],'category' : y_predicted.ravel()}) "
      ],
      "execution_count": 0,
      "outputs": []
    },
    {
      "cell_type": "code",
      "metadata": {
        "id": "7x6eqGzi7iTH",
        "colab_type": "code",
        "outputId": "0a6ccd3d-b4c6-415e-c133-7b24908b9820",
        "colab": {
          "base_uri": "https://localhost:8080/",
          "height": 204
        }
      },
      "source": [
        "submission.head()"
      ],
      "execution_count": 85,
      "outputs": [
        {
          "output_type": "execute_result",
          "data": {
            "text/html": [
              "<div>\n",
              "<style scoped>\n",
              "    .dataframe tbody tr th:only-of-type {\n",
              "        vertical-align: middle;\n",
              "    }\n",
              "\n",
              "    .dataframe tbody tr th {\n",
              "        vertical-align: top;\n",
              "    }\n",
              "\n",
              "    .dataframe thead th {\n",
              "        text-align: right;\n",
              "    }\n",
              "</style>\n",
              "<table border=\"1\" class=\"dataframe\">\n",
              "  <thead>\n",
              "    <tr style=\"text-align: right;\">\n",
              "      <th></th>\n",
              "      <th>description</th>\n",
              "      <th>category</th>\n",
              "    </tr>\n",
              "  </thead>\n",
              "  <tbody>\n",
              "    <tr>\n",
              "      <th>0</th>\n",
              "      <td>FEE - PRE-PAID TOP UP</td>\n",
              "      <td>entertainment &amp; eat out</td>\n",
              "    </tr>\n",
              "    <tr>\n",
              "      <th>1</th>\n",
              "      <td>CHECKERS BRAM 5326*9249 11 JAN</td>\n",
              "      <td>entertainment &amp; eat out</td>\n",
              "    </tr>\n",
              "    <tr>\n",
              "      <th>2</th>\n",
              "      <td>C*ENGEN CONRA 5326*9249 13 JAN</td>\n",
              "      <td>entertainment &amp; eat out</td>\n",
              "    </tr>\n",
              "    <tr>\n",
              "      <th>3</th>\n",
              "      <td>C*ENGEN PAARD 5326*9249 13 JAN</td>\n",
              "      <td>entertainment &amp; eat out</td>\n",
              "    </tr>\n",
              "    <tr>\n",
              "      <th>4</th>\n",
              "      <td>I*MR D FOOD Z 5326*9249 14 JAN</td>\n",
              "      <td>entertainment &amp; eat out</td>\n",
              "    </tr>\n",
              "  </tbody>\n",
              "</table>\n",
              "</div>"
            ],
            "text/plain": [
              "                      description                 category\n",
              "0           FEE - PRE-PAID TOP UP  entertainment & eat out\n",
              "1  CHECKERS BRAM 5326*9249 11 JAN  entertainment & eat out\n",
              "2  C*ENGEN CONRA 5326*9249 13 JAN  entertainment & eat out\n",
              "3  C*ENGEN PAARD 5326*9249 13 JAN  entertainment & eat out\n",
              "4  I*MR D FOOD Z 5326*9249 14 JAN  entertainment & eat out"
            ]
          },
          "metadata": {
            "tags": []
          },
          "execution_count": 85
        }
      ]
    },
    {
      "cell_type": "code",
      "metadata": {
        "id": "QIYIILJR7llA",
        "colab_type": "code",
        "colab": {}
      },
      "source": [
        "# submission.to_sql('NLP_model_results', con=connection, if_exists='append', index=False,method='multi',chunksize=500)\n"
      ],
      "execution_count": 0,
      "outputs": []
    }
  ]
}